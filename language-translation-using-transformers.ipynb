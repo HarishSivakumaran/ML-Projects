{
 "cells": [
  {
   "cell_type": "code",
   "execution_count": 1,
   "id": "a641e807",
   "metadata": {
    "_cell_guid": "b1076dfc-b9ad-4769-8c92-a6c4dae69d19",
    "_uuid": "8f2839f25d086af736a60e9eeb907d3b93b6e0e5",
    "execution": {
     "iopub.execute_input": "2025-09-27T14:26:16.897611Z",
     "iopub.status.busy": "2025-09-27T14:26:16.897269Z",
     "iopub.status.idle": "2025-09-27T14:26:43.978266Z",
     "shell.execute_reply": "2025-09-27T14:26:43.977489Z"
    },
    "papermill": {
     "duration": 27.089141,
     "end_time": "2025-09-27T14:26:43.980103",
     "exception": false,
     "start_time": "2025-09-27T14:26:16.890962",
     "status": "completed"
    },
    "tags": []
   },
   "outputs": [
    {
     "name": "stderr",
     "output_type": "stream",
     "text": [
      "2025-09-27 14:26:24.612191: E external/local_xla/xla/stream_executor/cuda/cuda_fft.cc:477] Unable to register cuFFT factory: Attempting to register factory for plugin cuFFT when one has already been registered\n",
      "WARNING: All log messages before absl::InitializeLog() is called are written to STDERR\n",
      "E0000 00:00:1758983184.860826      13 cuda_dnn.cc:8310] Unable to register cuDNN factory: Attempting to register factory for plugin cuDNN when one has already been registered\n",
      "E0000 00:00:1758983184.934154      13 cuda_blas.cc:1418] Unable to register cuBLAS factory: Attempting to register factory for plugin cuBLAS when one has already been registered\n"
     ]
    }
   ],
   "source": [
    "import torch\n",
    "import torch.nn as nn\n",
    "from torch.utils.data import Dataset, DataLoader, random_split\n",
    "from torch.utils.tensorboard import SummaryWriter\n",
    "\n",
    "# Math\n",
    "import math\n",
    "\n",
    "# HuggingFace libraries \n",
    "from datasets import load_dataset\n",
    "from tokenizers import Tokenizer\n",
    "from tokenizers.models import WordLevel\n",
    "from tokenizers.trainers import WordLevelTrainer\n",
    "from tokenizers.pre_tokenizers import Whitespace\n",
    "\n",
    "# Pathlib \n",
    "from pathlib import Path\n",
    "\n",
    "# typing\n",
    "from typing import Any\n",
    "\n",
    "# Library for progress bars in loops\n",
    "from tqdm import tqdm\n",
    "\n",
    "# Importing library of warnings\n",
    "import warnings"
   ]
  },
  {
   "cell_type": "markdown",
   "id": "bac09590",
   "metadata": {
    "papermill": {
     "duration": 0.003583,
     "end_time": "2025-09-27T14:26:43.988023",
     "exception": false,
     "start_time": "2025-09-27T14:26:43.984440",
     "status": "completed"
    },
    "tags": []
   },
   "source": [
    "# Architecture"
   ]
  },
  {
   "cell_type": "markdown",
   "id": "52323198",
   "metadata": {
    "papermill": {
     "duration": 0.00372,
     "end_time": "2025-09-27T14:26:43.995559",
     "exception": false,
     "start_time": "2025-09-27T14:26:43.991839",
     "status": "completed"
    },
    "tags": []
   },
   "source": [
    "![Image](https://shreyansh26.github.io/assets/img/posts_images/attention/arch.PNG)"
   ]
  },
  {
   "cell_type": "markdown",
   "id": "2d856087",
   "metadata": {
    "papermill": {
     "duration": 0.003525,
     "end_time": "2025-09-27T14:26:44.002948",
     "exception": false,
     "start_time": "2025-09-27T14:26:43.999423",
     "status": "completed"
    },
    "tags": []
   },
   "source": [
    "# Tokenizer"
   ]
  },
  {
   "cell_type": "markdown",
   "id": "8affff09",
   "metadata": {
    "papermill": {
     "duration": 0.003372,
     "end_time": "2025-09-27T14:26:44.009868",
     "exception": false,
     "start_time": "2025-09-27T14:26:44.006496",
     "status": "completed"
    },
    "tags": []
   },
   "source": [
    "![Tokenizer](https://i.ytimg.com/vi/hL4ZnAWSyuU/sddefault.jpg)"
   ]
  },
  {
   "cell_type": "code",
   "execution_count": 2,
   "id": "99c3adfe",
   "metadata": {
    "execution": {
     "iopub.execute_input": "2025-09-27T14:26:44.018624Z",
     "iopub.status.busy": "2025-09-27T14:26:44.018035Z",
     "iopub.status.idle": "2025-09-27T14:26:44.024241Z",
     "shell.execute_reply": "2025-09-27T14:26:44.023564Z"
    },
    "papermill": {
     "duration": 0.012289,
     "end_time": "2025-09-27T14:26:44.025718",
     "exception": false,
     "start_time": "2025-09-27T14:26:44.013429",
     "status": "completed"
    },
    "tags": []
   },
   "outputs": [],
   "source": [
    "def build_tokenizer(config, ds, lang):\n",
    "    \n",
    "    # Crating a file path for the tokenizer \n",
    "    tokenizer_path = Path(config['tokenizer_file'].format(lang))\n",
    "    \n",
    "    # Checking if Tokenizer already exists\n",
    "    if not Path.exists(tokenizer_path): \n",
    "        \n",
    "        # If it doesn't exist, we create a new one\n",
    "        tokenizer = Tokenizer(WordLevel(unk_token = '[UNK]')) # Initializing a new world-level tokenizer\n",
    "        tokenizer.pre_tokenizer = Whitespace() # We will split the text into tokens based on whitespace\n",
    "        \n",
    "        # Creating a trainer for the new tokenizer\n",
    "        trainer = WordLevelTrainer(special_tokens = [\"[UNK]\", \"[PAD]\", \n",
    "                                                     \"[SOS]\", \"[EOS]\"], min_frequency = 2) # Defining Word Level strategy and special tokens\n",
    "        \n",
    "        # Training new tokenizer on sentences from the dataset and language specified \n",
    "        tokenizer.train_from_iterator(get_all_sentences(ds, lang), trainer = trainer)\n",
    "        tokenizer.save(str(tokenizer_path)) # Saving trained tokenizer to the file path specified at the beginning of the function\n",
    "    else:\n",
    "        tokenizer = Tokenizer.from_file(str(tokenizer_path)) # If the tokenizer already exist, we load it\n",
    "    return tokenizer # Returns the loaded tokenizer or the trained tokenizer"
   ]
  },
  {
   "cell_type": "code",
   "execution_count": 3,
   "id": "784908fe",
   "metadata": {
    "execution": {
     "iopub.execute_input": "2025-09-27T14:26:44.034282Z",
     "iopub.status.busy": "2025-09-27T14:26:44.034011Z",
     "iopub.status.idle": "2025-09-27T14:26:44.038872Z",
     "shell.execute_reply": "2025-09-27T14:26:44.038095Z"
    },
    "papermill": {
     "duration": 0.010648,
     "end_time": "2025-09-27T14:26:44.040210",
     "exception": false,
     "start_time": "2025-09-27T14:26:44.029562",
     "status": "completed"
    },
    "tags": []
   },
   "outputs": [],
   "source": [
    "def get_config():\n",
    "    return{\n",
    "        'batch_size': 8,\n",
    "        'num_epochs': 20,\n",
    "        'lr': 10**-4,\n",
    "        'seq_len': 350,\n",
    "        'd_model': 512, # Dimensions of the embeddings in the Transformer. 512 like in the \"Attention Is All You Need\" paper.\n",
    "        'lang_src': 'en',\n",
    "        'lang_tgt': 'it',\n",
    "        'model_folder': 'weights',\n",
    "        'model_basename': 'translation_model_',\n",
    "        'preload': None,\n",
    "        'tokenizer_file': 'tokenizer_{0}.json',\n",
    "        'experiment_name': 'runs/translation_model'\n",
    "    }"
   ]
  },
  {
   "cell_type": "code",
   "execution_count": 4,
   "id": "1ece80ed",
   "metadata": {
    "execution": {
     "iopub.execute_input": "2025-09-27T14:26:44.049224Z",
     "iopub.status.busy": "2025-09-27T14:26:44.048938Z",
     "iopub.status.idle": "2025-09-27T14:26:44.058887Z",
     "shell.execute_reply": "2025-09-27T14:26:44.058034Z"
    },
    "papermill": {
     "duration": 0.016336,
     "end_time": "2025-09-27T14:26:44.060420",
     "exception": false,
     "start_time": "2025-09-27T14:26:44.044084",
     "status": "completed"
    },
    "tags": []
   },
   "outputs": [],
   "source": [
    "def get_all_sentences(ds, lang):\n",
    "    for pair in ds:\n",
    "        yield pair['translation'][lang]\n",
    "\n",
    "def get_ds(config):\n",
    "    \n",
    "    # Loading the train portion of the OpusBooks dataset.\n",
    "    # The Language pairs will be defined in the 'config' dictionary we will build later\n",
    "    ds_raw = load_dataset('opus_books', f'{config[\"lang_src\"]}-{config[\"lang_tgt\"]}', split = 'train') \n",
    "    \n",
    "    # Building or loading tokenizer for both the source and target languages \n",
    "    tokenizer_src = build_tokenizer(config, ds_raw, config['lang_src'])\n",
    "    tokenizer_tgt = build_tokenizer(config, ds_raw, config['lang_tgt'])\n",
    "    \n",
    "    # Splitting the dataset for training and validation \n",
    "    train_ds_size = int(0.9 * len(ds_raw)) # 90% for training\n",
    "    val_ds_size = len(ds_raw) - train_ds_size # 10% for validation\n",
    "    train_ds_raw, val_ds_raw = random_split(ds_raw, [train_ds_size, val_ds_size]) # Randomly splitting the dataset\n",
    "                                    \n",
    "    # Processing data with the BilingualDataset class, which we will define below\n",
    "    train_ds = BilingualDataset(train_ds_raw, tokenizer_src, tokenizer_tgt, config['lang_src'], config['lang_tgt'], config['seq_len'])\n",
    "    val_ds = BilingualDataset(val_ds_raw, tokenizer_src, tokenizer_tgt, config['lang_src'], config['lang_tgt'], config['seq_len'])\n",
    "                                    \n",
    "    # Iterating over the entire dataset and printing the maximum length found in the sentences of both the source and target languages\n",
    "    max_len_src = 0\n",
    "    max_len_tgt = 0\n",
    "    for pair in ds_raw:\n",
    "        src_ids = tokenizer_src.encode(pair['translation'][config['lang_src']]).ids\n",
    "        tgt_ids = tokenizer_src.encode(pair['translation'][config['lang_tgt']]).ids\n",
    "        max_len_src = max(max_len_src, len(src_ids))\n",
    "        max_len_tgt = max(max_len_tgt, len(tgt_ids))\n",
    "        \n",
    "    print(f'Max length of source sentence: {max_len_src}')\n",
    "    print(f'Max length of target sentence: {max_len_tgt}')\n",
    "    \n",
    "    # Creating dataloaders for the training and validadion sets\n",
    "    # Dataloaders are used to iterate over the dataset in batches during training and validation\n",
    "    train_dataloader = DataLoader(train_ds, batch_size = config['batch_size'], shuffle = True) # Batch size will be defined in the config dictionary\n",
    "    val_dataloader = DataLoader(val_ds, batch_size = 1, shuffle = True)\n",
    "    \n",
    "    return train_dataloader, val_dataloader, tokenizer_src, tokenizer_tgt # Returning the DataLoader objects and tokenizers\n",
    "\n",
    "def casual_mask(size):\n",
    "        # Creating a square matrix of dimensions 'size x size' filled with ones\n",
    "        mask = torch.triu(torch.ones(1, size, size), diagonal = 1).type(torch.int)\n",
    "        return mask == 0"
   ]
  },
  {
   "cell_type": "code",
   "execution_count": 5,
   "id": "a1310c31",
   "metadata": {
    "execution": {
     "iopub.execute_input": "2025-09-27T14:26:44.069455Z",
     "iopub.status.busy": "2025-09-27T14:26:44.069120Z",
     "iopub.status.idle": "2025-09-27T14:26:44.082914Z",
     "shell.execute_reply": "2025-09-27T14:26:44.082087Z"
    },
    "papermill": {
     "duration": 0.019863,
     "end_time": "2025-09-27T14:26:44.084309",
     "exception": false,
     "start_time": "2025-09-27T14:26:44.064446",
     "status": "completed"
    },
    "tags": []
   },
   "outputs": [],
   "source": [
    "class BilingualDataset(Dataset):\n",
    "    \n",
    "    # This takes in the dataset contaning sentence pairs, the tokenizers for target and source languages, and the strings of source and target languages\n",
    "    # 'seq_len' defines the sequence length for both languages\n",
    "    def __init__(self, ds, tokenizer_src, tokenizer_tgt, src_lang, tgt_lang, seq_len) -> None:\n",
    "        super().__init__()\n",
    "        \n",
    "        self.seq_len = seq_len\n",
    "        self.ds = ds\n",
    "        self.tokenizer_src = tokenizer_src\n",
    "        self.tokenizer_tgt = tokenizer_tgt\n",
    "        self.src_lang = src_lang\n",
    "        self.tgt_lang = tgt_lang\n",
    "        \n",
    "        # Defining special tokens by using the target language tokenizer\n",
    "        self.sos_token = torch.tensor([tokenizer_tgt.token_to_id(\"[SOS]\")], dtype=torch.int64)\n",
    "        self.eos_token = torch.tensor([tokenizer_tgt.token_to_id(\"[EOS]\")], dtype=torch.int64)\n",
    "        self.pad_token = torch.tensor([tokenizer_tgt.token_to_id(\"[PAD]\")], dtype=torch.int64)\n",
    "\n",
    "        \n",
    "    # Total number of instances in the dataset (some pairs are larger than others)\n",
    "    def __len__(self):\n",
    "        return len(self.ds)\n",
    "    \n",
    "    # Using the index to retrive source and target texts\n",
    "    def __getitem__(self, index: Any) -> Any:\n",
    "        src_target_pair = self.ds[index]\n",
    "        src_text = src_target_pair['translation'][self.src_lang]\n",
    "        tgt_text = src_target_pair['translation'][self.tgt_lang]\n",
    "        \n",
    "        # Tokenizing source and target texts \n",
    "        enc_input_tokens = self.tokenizer_src.encode(src_text).ids\n",
    "        dec_input_tokens = self.tokenizer_tgt.encode(tgt_text).ids\n",
    "        \n",
    "        # Computing how many padding tokens need to be added to the tokenized texts \n",
    "        # Source tokens\n",
    "        enc_num_padding_tokens = self.seq_len - len(enc_input_tokens) - 2 # Subtracting the two '[EOS]' and '[SOS]' special tokens\n",
    "        # Target tokens\n",
    "        dec_num_padding_tokens = self.seq_len - len(dec_input_tokens) - 1 # Subtracting the '[SOS]' special token\n",
    "        \n",
    "        # If the texts exceed the 'seq_len' allowed, it will raise an error. This means that one of the sentences in the pair is too long to be processed\n",
    "        # given the current sequence length limit (this will be defined in the config dictionary below)\n",
    "        if enc_num_padding_tokens < 0 or dec_num_padding_tokens < 0:\n",
    "            raise ValueError('Sentence is too long')\n",
    "         \n",
    "        # Building the encoder input tensor by combining several elements\n",
    "        encoder_input = torch.cat(\n",
    "            [\n",
    "            self.sos_token, # inserting the '[SOS]' token\n",
    "            torch.tensor(enc_input_tokens, dtype = torch.int64), # Inserting the tokenized source text\n",
    "            self.eos_token, # Inserting the '[EOS]' token\n",
    "            torch.tensor([self.pad_token] * enc_num_padding_tokens, dtype = torch.int64) # Addind padding tokens\n",
    "            ]\n",
    "        )\n",
    "        \n",
    "        # Building the decoder input tensor by combining several elements\n",
    "        decoder_input = torch.cat(\n",
    "            [\n",
    "                self.sos_token, # inserting the '[SOS]' token \n",
    "                torch.tensor(dec_input_tokens, dtype = torch.int64), # Inserting the tokenized target text\n",
    "                torch.tensor([self.pad_token] * dec_num_padding_tokens, dtype = torch.int64) # Addind padding tokens\n",
    "            ]\n",
    "        \n",
    "        )\n",
    "        \n",
    "        # Creating a label tensor, the expected output for training the model\n",
    "        label = torch.cat(\n",
    "            [\n",
    "                torch.tensor(dec_input_tokens, dtype = torch.int64), # Inserting the tokenized target text\n",
    "                self.eos_token, # Inserting the '[EOS]' token \n",
    "                torch.tensor([self.pad_token] * dec_num_padding_tokens, dtype = torch.int64) # Adding padding tokens\n",
    "                \n",
    "            ]\n",
    "        )\n",
    "        \n",
    "        # Ensuring that the length of each tensor above is equal to the defined 'seq_len'\n",
    "        assert encoder_input.size(0) == self.seq_len\n",
    "        assert decoder_input.size(0) == self.seq_len\n",
    "        assert label.size(0) == self.seq_len\n",
    "        \n",
    "        return {\n",
    "            'encoder_input': encoder_input,\n",
    "            'decoder_input': decoder_input, \n",
    "            'encoder_mask': (encoder_input != self.pad_token).unsqueeze(0).unsqueeze(0).int(),\n",
    "            'decoder_mask': (decoder_input != self.pad_token).unsqueeze(0).unsqueeze(0).int() & casual_mask(decoder_input.size(0)), \n",
    "            'label': label,\n",
    "            'src_text': src_text,\n",
    "            'tgt_text': tgt_text\n",
    "        }    "
   ]
  },
  {
   "cell_type": "markdown",
   "id": "f3b2e023",
   "metadata": {
    "papermill": {
     "duration": 0.004664,
     "end_time": "2025-09-27T14:26:44.092859",
     "exception": false,
     "start_time": "2025-09-27T14:26:44.088195",
     "status": "completed"
    },
    "tags": []
   },
   "source": [
    "# Token Embedding"
   ]
  },
  {
   "cell_type": "code",
   "execution_count": 6,
   "id": "93f18cd3",
   "metadata": {
    "execution": {
     "iopub.execute_input": "2025-09-27T14:26:44.101890Z",
     "iopub.status.busy": "2025-09-27T14:26:44.101569Z",
     "iopub.status.idle": "2025-09-27T14:26:44.106797Z",
     "shell.execute_reply": "2025-09-27T14:26:44.105968Z"
    },
    "papermill": {
     "duration": 0.011538,
     "end_time": "2025-09-27T14:26:44.108161",
     "exception": false,
     "start_time": "2025-09-27T14:26:44.096623",
     "status": "completed"
    },
    "tags": []
   },
   "outputs": [],
   "source": [
    "class TokenEmbeddings(nn.Module):\n",
    "    def __init__(self, d_model, vocab_size):\n",
    "        super().__init__()\n",
    "        self.d_model = d_model\n",
    "        self.vocab_size = vocab_size\n",
    "        self.embeddings = nn.Embedding(vocab_size, d_model)\n",
    "\n",
    "    def forward(self, x):\n",
    "        return self.embeddings(x) * math.sqrt(self.d_model) # Normalizing the variance of the embedding\n",
    "        "
   ]
  },
  {
   "cell_type": "markdown",
   "id": "07fa6795",
   "metadata": {
    "papermill": {
     "duration": 0.004042,
     "end_time": "2025-09-27T14:26:44.116066",
     "exception": false,
     "start_time": "2025-09-27T14:26:44.112024",
     "status": "completed"
    },
    "tags": []
   },
   "source": [
    "# Positional Encoding\n",
    "\n",
    "<p style=\"\n",
    "    margin-bottom: 5; \n",
    "    font-size: 22px;\n",
    "    font-weight: 300;\n",
    "    font-family: 'Helvetica Neue', sans-serif;\n",
    "    color: #000000; \n",
    "  \">\n",
    "    \\begin{equation}\n",
    "    \\text{Even Indices } (2i): \\quad \\text{PE(pos, } 2i) = \\sin\\left(\\frac{\\text{pos}}{10000^{2i / d_{model}}}\\right)\n",
    "    \\end{equation}\n",
    "</p>\n",
    "\n",
    "<p style=\"\n",
    "    margin-bottom: 5; \n",
    "    font-size: 22px;\n",
    "    font-weight: 300;\n",
    "    font-family: 'Helvetica Neue', sans-serif;\n",
    "    color: #000000; \n",
    "  \">\n",
    "    \\begin{equation}\n",
    "    \\text{Odd Indices } (2i + 1): \\quad \\text{PE(pos, } 2i + 1) = \\cos\\left(\\frac{\\text{pos}}{10000^{2i / d_{model}}}\\right)\n",
    "    \\end{equation}\n",
    "</p>"
   ]
  },
  {
   "cell_type": "code",
   "execution_count": 7,
   "id": "fa853659",
   "metadata": {
    "execution": {
     "iopub.execute_input": "2025-09-27T14:26:44.125603Z",
     "iopub.status.busy": "2025-09-27T14:26:44.124958Z",
     "iopub.status.idle": "2025-09-27T14:26:44.131292Z",
     "shell.execute_reply": "2025-09-27T14:26:44.130546Z"
    },
    "papermill": {
     "duration": 0.012863,
     "end_time": "2025-09-27T14:26:44.132867",
     "exception": false,
     "start_time": "2025-09-27T14:26:44.120004",
     "status": "completed"
    },
    "tags": []
   },
   "outputs": [],
   "source": [
    "class PositionalEncoding(nn.Module):\n",
    "    def __init__(self, d_model: int, seq_len: int):\n",
    "        self.d_model = d_model\n",
    "        self.seq_len = seq_len\n",
    "        encodings = torch.zeros(seq_len, d_model)\n",
    "        pos = torch.arange(0, seq_len, dtype = torch.float).unsqueeze(1) # [seq_len, 1]\n",
    "        denominator = (torch.arange(0, d_model, 2).float() / d_model)\n",
    "        denominator = torch.pow(denominator, 10000)\n",
    "\n",
    "        encodings[:, 0::2] = torch.sin(pos/denominator)\n",
    "        encodings[:, 1::2] = torch.cos(pos/denominator)\n",
    "        encodings = encodings.unsqueeze(0) # add a batch dimension\n",
    "        self.register_buffer('encodings', encodings) # Buffer is a tensor not considered as a model parameter\n",
    "\n",
    "\n",
    "    def forward(self, x):\n",
    "        return x + (self.encodings[:, :x.shape[1], :]).requires_grad_(False)\n",
    "        "
   ]
  },
  {
   "cell_type": "markdown",
   "id": "a5efe752",
   "metadata": {
    "papermill": {
     "duration": 0.003676,
     "end_time": "2025-09-27T14:26:44.140505",
     "exception": false,
     "start_time": "2025-09-27T14:26:44.136829",
     "status": "completed"
    },
    "tags": []
   },
   "source": [
    "# Layer Norm"
   ]
  },
  {
   "cell_type": "code",
   "execution_count": 8,
   "id": "508f4f7c",
   "metadata": {
    "execution": {
     "iopub.execute_input": "2025-09-27T14:26:44.149649Z",
     "iopub.status.busy": "2025-09-27T14:26:44.149221Z",
     "iopub.status.idle": "2025-09-27T14:26:44.155227Z",
     "shell.execute_reply": "2025-09-27T14:26:44.154469Z"
    },
    "papermill": {
     "duration": 0.012325,
     "end_time": "2025-09-27T14:26:44.156696",
     "exception": false,
     "start_time": "2025-09-27T14:26:44.144371",
     "status": "completed"
    },
    "tags": []
   },
   "outputs": [],
   "source": [
    "class LayerNorm(nn.Module):\n",
    "    def __init__(self, eps: float = 10**-6):\n",
    "        super().__init__()\n",
    "        self.eps = eps\n",
    "\n",
    "        self.alpha = nn.Parameter(torch.ones(1))\n",
    "        self.bias = nn.Parameter(torch.zeros(1))\n",
    "\n",
    "    def forward(self, x):\n",
    "        mean = x.mean(dim=-1, keepdim=True)\n",
    "        std = x.std(dim=-1, keepdim=True)\n",
    "        return self.alpha * (x-mean) / (std+self.eps) + self.bias"
   ]
  },
  {
   "cell_type": "markdown",
   "id": "39a70d95",
   "metadata": {
    "papermill": {
     "duration": 0.003558,
     "end_time": "2025-09-27T14:26:44.164154",
     "exception": false,
     "start_time": "2025-09-27T14:26:44.160596",
     "status": "completed"
    },
    "tags": []
   },
   "source": [
    "# FFW"
   ]
  },
  {
   "cell_type": "code",
   "execution_count": 9,
   "id": "f3fd9aaa",
   "metadata": {
    "execution": {
     "iopub.execute_input": "2025-09-27T14:26:44.172854Z",
     "iopub.status.busy": "2025-09-27T14:26:44.172557Z",
     "iopub.status.idle": "2025-09-27T14:26:44.178580Z",
     "shell.execute_reply": "2025-09-27T14:26:44.177755Z"
    },
    "papermill": {
     "duration": 0.012126,
     "end_time": "2025-09-27T14:26:44.180067",
     "exception": false,
     "start_time": "2025-09-27T14:26:44.167941",
     "status": "completed"
    },
    "tags": []
   },
   "outputs": [],
   "source": [
    "class FeedForwardBlock(nn.Module):\n",
    "    \n",
    "    def __init__(self, d_model: int, d_ff: int, dropout: float) -> None:\n",
    "        super().__init__()\n",
    "        # First linear transformation\n",
    "        self.linear_1 = nn.Linear(d_model, d_ff) # W1 & b1\n",
    "        self.dropout = nn.Dropout(dropout) # Dropout to prevent overfitting\n",
    "        # Second linear transformation\n",
    "        self.linear_2 = nn.Linear(d_ff, d_model) # W2 & b2\n",
    "        \n",
    "    def forward(self, x):\n",
    "        # (Batch, seq_len, d_model) --> (batch, seq_len, d_ff) -->(batch, seq_len, d_model)\n",
    "        return self.linear_2(self.dropout(torch.relu(self.linear_1(x))))"
   ]
  },
  {
   "cell_type": "markdown",
   "id": "331a475e",
   "metadata": {
    "papermill": {
     "duration": 0.003722,
     "end_time": "2025-09-27T14:26:44.187686",
     "exception": false,
     "start_time": "2025-09-27T14:26:44.183964",
     "status": "completed"
    },
    "tags": []
   },
   "source": [
    "# Multi Head Attention\n",
    "\n",
    "<center>\n",
    "    <img src = \"https://i.imgur.com/JqJVrsj.png\" width = 1556, height= 959>\n",
    "<p style = \"font-size: 16px;\n",
    "            font-family: 'Georgia', serif;\n",
    "            text-align: center;\n",
    "            margin-top: 10px;\"></p>\n",
    "</center>"
   ]
  },
  {
   "cell_type": "code",
   "execution_count": 10,
   "id": "db3f0a7f",
   "metadata": {
    "execution": {
     "iopub.execute_input": "2025-09-27T14:26:44.196334Z",
     "iopub.status.busy": "2025-09-27T14:26:44.196027Z",
     "iopub.status.idle": "2025-09-27T14:26:44.205726Z",
     "shell.execute_reply": "2025-09-27T14:26:44.204737Z"
    },
    "papermill": {
     "duration": 0.01618,
     "end_time": "2025-09-27T14:26:44.207570",
     "exception": false,
     "start_time": "2025-09-27T14:26:44.191390",
     "status": "completed"
    },
    "tags": []
   },
   "outputs": [],
   "source": [
    "class MultiHeadAttention(nn.Module):\n",
    "    def __init__(self, n_heads: int, d_model: int):\n",
    "        super().__init__()\n",
    "        self.n_heads = n_heads\n",
    "        self.w_key = nn.Linear(d_model, d_model)\n",
    "        self.w_query = nn.Linear(d_model, d_model)\n",
    "        self.w_value = nn.Linear(d_model, d_model)\n",
    "        self.w_out = nn.Linear(d_model, d_model)\n",
    "\n",
    "    def attention(self, k, q, v, mask):\n",
    "        d_k = q.shape[-1]\n",
    "        affinities = (q @ K.transpose(-2, -1)) // math.sqrt(d_k)\n",
    "        if mask is not None:\n",
    "            affinities.masked_fill_(mask == 0, -1e9)\n",
    "        affinities = affinities.softmax(dim=-1)\n",
    "        value = affinities @ v\n",
    "        return value\n",
    "        \n",
    "\n",
    "    def forward(self, q, k, v, mask):\n",
    "        key = self.w_key(q)\n",
    "        query = self.w_query(k)\n",
    "        value = self.w_value(v)\n",
    "\n",
    "        # split embedding dim for each heads\n",
    "        new_d_model = self.d_model // self.n_heads\n",
    "        k_chunks = torch.split(key, new_d_model, dim=-1)\n",
    "        q_chunks = torch.split(query, new_d_model, dim=-1)\n",
    "        v_chunks = torch.split(value, new_d_model, dim=-1)\n",
    "\n",
    "        output_heads = []\n",
    "        for i in range(self.n_heads):\n",
    "            output_heads.append(self.attention(k_chunks[i], q_chunks[i], v_chunks[i]))\n",
    "\n",
    "        concat_out = torch.cat(output_heads, dim=-1)\n",
    "        return self.w_out(concat_out)\n",
    "        "
   ]
  },
  {
   "cell_type": "code",
   "execution_count": 11,
   "id": "5fac0e41",
   "metadata": {
    "execution": {
     "iopub.execute_input": "2025-09-27T14:26:44.216991Z",
     "iopub.status.busy": "2025-09-27T14:26:44.216255Z",
     "iopub.status.idle": "2025-09-27T14:26:44.221167Z",
     "shell.execute_reply": "2025-09-27T14:26:44.220474Z"
    },
    "papermill": {
     "duration": 0.011066,
     "end_time": "2025-09-27T14:26:44.222642",
     "exception": false,
     "start_time": "2025-09-27T14:26:44.211576",
     "status": "completed"
    },
    "tags": []
   },
   "outputs": [],
   "source": [
    "class ResidualConnection(nn.Module):\n",
    "    def __init__(self):\n",
    "        self.layernorm = LayerNorm()\n",
    "\n",
    "    def forward(self, x, sub_layer):\n",
    "        return x + sub_layer(self.layernorm(x))"
   ]
  },
  {
   "cell_type": "code",
   "execution_count": null,
   "id": "ad2d3c0d",
   "metadata": {
    "papermill": {
     "duration": 0.003646,
     "end_time": "2025-09-27T14:26:44.230324",
     "exception": false,
     "start_time": "2025-09-27T14:26:44.226678",
     "status": "completed"
    },
    "tags": []
   },
   "outputs": [],
   "source": []
  }
 ],
 "metadata": {
  "kaggle": {
   "accelerator": "none",
   "dataSources": [],
   "dockerImageVersionId": 31089,
   "isGpuEnabled": false,
   "isInternetEnabled": true,
   "language": "python",
   "sourceType": "notebook"
  },
  "kernelspec": {
   "display_name": "Python 3",
   "language": "python",
   "name": "python3"
  },
  "language_info": {
   "codemirror_mode": {
    "name": "ipython",
    "version": 3
   },
   "file_extension": ".py",
   "mimetype": "text/x-python",
   "name": "python",
   "nbconvert_exporter": "python",
   "pygments_lexer": "ipython3",
   "version": "3.11.13"
  },
  "papermill": {
   "default_parameters": {},
   "duration": 35.618095,
   "end_time": "2025-09-27T14:26:47.117883",
   "environment_variables": {},
   "exception": null,
   "input_path": "__notebook__.ipynb",
   "output_path": "__notebook__.ipynb",
   "parameters": {},
   "start_time": "2025-09-27T14:26:11.499788",
   "version": "2.6.0"
  }
 },
 "nbformat": 4,
 "nbformat_minor": 5
}
