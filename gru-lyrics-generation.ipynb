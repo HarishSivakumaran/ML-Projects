{
 "cells": [
  {
   "cell_type": "code",
   "execution_count": 1,
   "id": "9640fc96",
   "metadata": {
    "_cell_guid": "b1076dfc-b9ad-4769-8c92-a6c4dae69d19",
    "_uuid": "8f2839f25d086af736a60e9eeb907d3b93b6e0e5",
    "execution": {
     "iopub.execute_input": "2025-08-12T06:47:41.864175Z",
     "iopub.status.busy": "2025-08-12T06:47:41.863771Z",
     "iopub.status.idle": "2025-08-12T06:48:05.383238Z",
     "shell.execute_reply": "2025-08-12T06:48:05.381840Z"
    },
    "papermill": {
     "duration": 23.529483,
     "end_time": "2025-08-12T06:48:05.385447",
     "exception": false,
     "start_time": "2025-08-12T06:47:41.855964",
     "status": "completed"
    },
    "tags": []
   },
   "outputs": [
    {
     "name": "stderr",
     "output_type": "stream",
     "text": [
      "2025-08-12 06:47:43.909988: E external/local_xla/xla/stream_executor/cuda/cuda_fft.cc:477] Unable to register cuFFT factory: Attempting to register factory for plugin cuFFT when one has already been registered\n",
      "WARNING: All log messages before absl::InitializeLog() is called are written to STDERR\n",
      "E0000 00:00:1754981264.178525      13 cuda_dnn.cc:8310] Unable to register cuDNN factory: Attempting to register factory for plugin cuDNN when one has already been registered\n",
      "E0000 00:00:1754981264.254271      13 cuda_blas.cc:1418] Unable to register cuBLAS factory: Attempting to register factory for plugin cuBLAS when one has already been registered\n"
     ]
    }
   ],
   "source": [
    "import tensorflow as tf\n",
    "\n",
    "import numpy as np\n",
    "import os\n",
    "import time"
   ]
  },
  {
   "cell_type": "code",
   "execution_count": 2,
   "id": "f0689530",
   "metadata": {
    "execution": {
     "iopub.execute_input": "2025-08-12T06:48:05.400822Z",
     "iopub.status.busy": "2025-08-12T06:48:05.399904Z",
     "iopub.status.idle": "2025-08-12T06:48:05.405335Z",
     "shell.execute_reply": "2025-08-12T06:48:05.404337Z"
    },
    "papermill": {
     "duration": 0.015772,
     "end_time": "2025-08-12T06:48:05.407216",
     "exception": false,
     "start_time": "2025-08-12T06:48:05.391444",
     "status": "completed"
    },
    "tags": []
   },
   "outputs": [],
   "source": [
    "path_to_file = '../input/lyrics-generation/lyrics_dataset.txt'"
   ]
  },
  {
   "cell_type": "code",
   "execution_count": 3,
   "id": "1b2a78d2",
   "metadata": {
    "execution": {
     "iopub.execute_input": "2025-08-12T06:48:05.420325Z",
     "iopub.status.busy": "2025-08-12T06:48:05.419128Z",
     "iopub.status.idle": "2025-08-12T06:48:05.441780Z",
     "shell.execute_reply": "2025-08-12T06:48:05.440597Z"
    },
    "papermill": {
     "duration": 0.031103,
     "end_time": "2025-08-12T06:48:05.443793",
     "exception": false,
     "start_time": "2025-08-12T06:48:05.412690",
     "status": "completed"
    },
    "tags": []
   },
   "outputs": [
    {
     "name": "stdout",
     "output_type": "stream",
     "text": [
      "Length of text: 404640 characters\n"
     ]
    }
   ],
   "source": [
    "# Opening the text file in read mode and standard encoding it\n",
    "text = open(path_to_file, 'rb').read().decode(encoding='utf-8')\n",
    "\n",
    "# Length of text is the number of characters in it\n",
    "print ('Length of text: {} characters'.format(len(text)))"
   ]
  },
  {
   "cell_type": "code",
   "execution_count": 4,
   "id": "b215e7a5",
   "metadata": {
    "execution": {
     "iopub.execute_input": "2025-08-12T06:48:05.457451Z",
     "iopub.status.busy": "2025-08-12T06:48:05.457015Z",
     "iopub.status.idle": "2025-08-12T06:48:05.464752Z",
     "shell.execute_reply": "2025-08-12T06:48:05.463769Z"
    },
    "papermill": {
     "duration": 0.016476,
     "end_time": "2025-08-12T06:48:05.466522",
     "exception": false,
     "start_time": "2025-08-12T06:48:05.450046",
     "status": "completed"
    },
    "tags": []
   },
   "outputs": [
    {
     "data": {
      "text/plain": [
       "\"I hate you for what you did\\r\\nAnd I miss you like a little kid\\r\\nI faked it every time\\r\\nBut that's alr\""
      ]
     },
     "execution_count": 4,
     "metadata": {},
     "output_type": "execute_result"
    }
   ],
   "source": [
    "text[:100]"
   ]
  },
  {
   "cell_type": "code",
   "execution_count": 5,
   "id": "9b998e1b",
   "metadata": {
    "execution": {
     "iopub.execute_input": "2025-08-12T06:48:05.480570Z",
     "iopub.status.busy": "2025-08-12T06:48:05.480113Z",
     "iopub.status.idle": "2025-08-12T06:48:05.490534Z",
     "shell.execute_reply": "2025-08-12T06:48:05.489437Z"
    },
    "papermill": {
     "duration": 0.019472,
     "end_time": "2025-08-12T06:48:05.492253",
     "exception": false,
     "start_time": "2025-08-12T06:48:05.472781",
     "status": "completed"
    },
    "tags": []
   },
   "outputs": [
    {
     "name": "stdout",
     "output_type": "stream",
     "text": [
      "vocab size: 98 few chars ['\\n', '\\r', ' ', '!', '\"', '&', \"'\", '(', ')', '*'] type: <class 'numpy.ndarray'>\n"
     ]
    }
   ],
   "source": [
    "vocab = sorted(set(text))\n",
    "print(f'vocab size: {len(vocab)} few chars {vocab[:10]} type: {type(np.array(vocab))}')"
   ]
  },
  {
   "cell_type": "code",
   "execution_count": 6,
   "id": "3152fa2a",
   "metadata": {
    "execution": {
     "iopub.execute_input": "2025-08-12T06:48:05.506345Z",
     "iopub.status.busy": "2025-08-12T06:48:05.505902Z",
     "iopub.status.idle": "2025-08-12T06:48:05.566608Z",
     "shell.execute_reply": "2025-08-12T06:48:05.565557Z"
    },
    "papermill": {
     "duration": 0.070601,
     "end_time": "2025-08-12T06:48:05.568959",
     "exception": false,
     "start_time": "2025-08-12T06:48:05.498358",
     "status": "completed"
    },
    "tags": []
   },
   "outputs": [
    {
     "name": "stdout",
     "output_type": "stream",
     "text": [
      "ight\r\n",
      "I can hardly feel anything\r\n",
      "I hardly feel anything at all\r\n",
      "You gave me fifteen hundred\r\n",
      "To see\n"
     ]
    },
    {
     "data": {
      "text/plain": [
       "array([62, 60, 61, 73,  1,  0, 35,  2, 56, 54, 67,  2, 61, 54, 71, 57, 65,\n",
       "       78,  2, 59, 58, 58, 65,  2, 54, 67, 78, 73, 61, 62, 67, 60,  1,  0,\n",
       "       35,  2, 61, 54, 71, 57, 65, 78,  2, 59, 58, 58, 65,  2, 54, 67, 78,\n",
       "       73, 61, 62, 67, 60,  2, 54, 73,  2, 54, 65, 65,  1,  0, 51, 68, 74,\n",
       "        2, 60, 54, 75, 58,  2, 66, 58,  2, 59, 62, 59, 73, 58, 58, 67,  2,\n",
       "       61, 74, 67, 57, 71, 58, 57,  1,  0, 46, 68,  2, 72, 58, 58])"
      ]
     },
     "execution_count": 6,
     "metadata": {},
     "output_type": "execute_result"
    }
   ],
   "source": [
    "# token encoder\n",
    "char2i = {c:i for i,c in enumerate(vocab)}\n",
    "# token decoder\n",
    "i2char = np.array(vocab)\n",
    "\n",
    "encoded_text = np.array([char2i[c] for c in text])\n",
    "print(text[100:200])\n",
    "encoded_text[100:200]"
   ]
  },
  {
   "cell_type": "code",
   "execution_count": 7,
   "id": "7c5416fa",
   "metadata": {
    "execution": {
     "iopub.execute_input": "2025-08-12T06:48:05.582252Z",
     "iopub.status.busy": "2025-08-12T06:48:05.581740Z",
     "iopub.status.idle": "2025-08-12T06:48:05.589091Z",
     "shell.execute_reply": "2025-08-12T06:48:05.587567Z"
    },
    "papermill": {
     "duration": 0.016371,
     "end_time": "2025-08-12T06:48:05.591363",
     "exception": false,
     "start_time": "2025-08-12T06:48:05.574992",
     "status": "completed"
    },
    "tags": []
   },
   "outputs": [
    {
     "name": "stdout",
     "output_type": "stream",
     "text": [
      "{ ===========>\n",
      "  '\\n':   0,\n",
      "  '\\r':   1,\n",
      "  ' ' :   2,\n",
      "  '!' :   3,\n",
      "  '\"' :   4,\n",
      "  '&' :   5,\n",
      "  \"'\" :   6,\n",
      "  '(' :   7,\n",
      "  ')' :   8,\n",
      "  '*' :   9,\n",
      "  ',' :  10,\n",
      "  '-' :  11,\n",
      "  '.' :  12,\n",
      "  '/' :  13,\n",
      "  '0' :  14,\n",
      "  '1' :  15,\n",
      "  '2' :  16,\n",
      "  '3' :  17,\n",
      "  '4' :  18,\n",
      "  '5' :  19,\n",
      "  ...\n",
      "==========>}\n"
     ]
    }
   ],
   "source": [
    "print('{ ===========>')\n",
    "for char,_ in zip(char2i, range(20)):\n",
    "    print('  {:4s}: {:3d},'.format(repr(char), char2i[char]))\n",
    "print('  ...\\n==========>}')"
   ]
  },
  {
   "cell_type": "code",
   "execution_count": 8,
   "id": "d379a22c",
   "metadata": {
    "execution": {
     "iopub.execute_input": "2025-08-12T06:48:05.607472Z",
     "iopub.status.busy": "2025-08-12T06:48:05.607040Z",
     "iopub.status.idle": "2025-08-12T06:48:05.729862Z",
     "shell.execute_reply": "2025-08-12T06:48:05.728396Z"
    },
    "papermill": {
     "duration": 0.132704,
     "end_time": "2025-08-12T06:48:05.732267",
     "exception": false,
     "start_time": "2025-08-12T06:48:05.599563",
     "status": "completed"
    },
    "tags": []
   },
   "outputs": [
    {
     "name": "stdout",
     "output_type": "stream",
     "text": [
      "I hat"
     ]
    },
    {
     "name": "stderr",
     "output_type": "stream",
     "text": [
      "2025-08-12 06:48:05.620483: E external/local_xla/xla/stream_executor/cuda/cuda_driver.cc:152] failed call to cuInit: INTERNAL: CUDA error: Failed call to cuInit: UNKNOWN ERROR (303)\n"
     ]
    }
   ],
   "source": [
    "SEQ_LEN = 100\n",
    "BATCH = 64\n",
    "examples_per_epoch = len(text) // (SEQ_LEN + 1)\n",
    "char_dataset = tf.data.Dataset.from_tensor_slices(encoded_text)\n",
    "for i in char_dataset.take(5):\n",
    "  print(i2char[i.numpy()] , end = \"\")\n"
   ]
  },
  {
   "cell_type": "code",
   "execution_count": 9,
   "id": "258a64ed",
   "metadata": {
    "execution": {
     "iopub.execute_input": "2025-08-12T06:48:05.747160Z",
     "iopub.status.busy": "2025-08-12T06:48:05.746792Z",
     "iopub.status.idle": "2025-08-12T06:48:05.833817Z",
     "shell.execute_reply": "2025-08-12T06:48:05.832787Z"
    },
    "papermill": {
     "duration": 0.097674,
     "end_time": "2025-08-12T06:48:05.836508",
     "exception": false,
     "start_time": "2025-08-12T06:48:05.738834",
     "status": "completed"
    },
    "tags": []
   },
   "outputs": [],
   "source": [
    "def split_input_target(chunk):\n",
    "    input_text = chunk[:-1]\n",
    "    target_text = chunk[1:]\n",
    "    return input_text, target_text\n",
    "    \n",
    "sequences = char_dataset.batch(SEQ_LEN+1, drop_remainder=True)\n",
    "dataset = sequences.map(split_input_target)"
   ]
  },
  {
   "cell_type": "code",
   "execution_count": 10,
   "id": "4b1c9acb",
   "metadata": {
    "execution": {
     "iopub.execute_input": "2025-08-12T06:48:05.851378Z",
     "iopub.status.busy": "2025-08-12T06:48:05.850904Z",
     "iopub.status.idle": "2025-08-12T06:48:05.893818Z",
     "shell.execute_reply": "2025-08-12T06:48:05.892585Z"
    },
    "papermill": {
     "duration": 0.053164,
     "end_time": "2025-08-12T06:48:05.895649",
     "exception": false,
     "start_time": "2025-08-12T06:48:05.842485",
     "status": "completed"
    },
    "tags": []
   },
   "outputs": [
    {
     "name": "stdout",
     "output_type": "stream",
     "text": [
      "Input data:  \"I hate you for what you did\\r\\nAnd I miss you like a little kid\\r\\nI faked it every time\\r\\nBut that's alr\"\n",
      "Target data: \" hate you for what you did\\r\\nAnd I miss you like a little kid\\r\\nI faked it every time\\r\\nBut that's alri\"\n"
     ]
    }
   ],
   "source": [
    "for input_example, target_example in  dataset.take(1):\n",
    "  print ('Input data: ', repr(''.join(i2char[input_example.numpy()])))\n",
    "  print ('Target data:', repr(''.join(i2char[target_example.numpy()])))"
   ]
  },
  {
   "cell_type": "code",
   "execution_count": 11,
   "id": "4b82ad36",
   "metadata": {
    "execution": {
     "iopub.execute_input": "2025-08-12T06:48:05.909421Z",
     "iopub.status.busy": "2025-08-12T06:48:05.908993Z",
     "iopub.status.idle": "2025-08-12T06:48:05.922931Z",
     "shell.execute_reply": "2025-08-12T06:48:05.921876Z"
    },
    "papermill": {
     "duration": 0.022716,
     "end_time": "2025-08-12T06:48:05.924850",
     "exception": false,
     "start_time": "2025-08-12T06:48:05.902134",
     "status": "completed"
    },
    "tags": []
   },
   "outputs": [
    {
     "data": {
      "text/plain": [
       "<_BatchDataset element_spec=(TensorSpec(shape=(64, 100), dtype=tf.int64, name=None), TensorSpec(shape=(64, 100), dtype=tf.int64, name=None))>"
      ]
     },
     "execution_count": 11,
     "metadata": {},
     "output_type": "execute_result"
    }
   ],
   "source": [
    "# Batch size\n",
    "BATCH_SIZE = 64\n",
    "\n",
    "# Buffer size to shuffle the dataset\n",
    "# (TF data is designed to work with possibly infinite sequences,\n",
    "# so it doesn't attempt to shuffle the entire sequence in memory. Instead,\n",
    "# it maintains a buffer in which it shuffles elements).\n",
    "BUFFER_SIZE = 10000\n",
    "\n",
    "dataset = dataset.shuffle(BUFFER_SIZE).batch(BATCH_SIZE, drop_remainder=True)\n",
    "\n",
    "dataset"
   ]
  },
  {
   "cell_type": "code",
   "execution_count": 12,
   "id": "8eeb855c",
   "metadata": {
    "execution": {
     "iopub.execute_input": "2025-08-12T06:48:05.938506Z",
     "iopub.status.busy": "2025-08-12T06:48:05.938101Z",
     "iopub.status.idle": "2025-08-12T06:48:05.943547Z",
     "shell.execute_reply": "2025-08-12T06:48:05.942468Z"
    },
    "papermill": {
     "duration": 0.01481,
     "end_time": "2025-08-12T06:48:05.945714",
     "exception": false,
     "start_time": "2025-08-12T06:48:05.930904",
     "status": "completed"
    },
    "tags": []
   },
   "outputs": [],
   "source": [
    "# Length of the vocabulary in chars\n",
    "vocab_size = len(vocab)\n",
    "\n",
    "# The embedding dimension\n",
    "embedding_dim = 256\n",
    "\n",
    "# Number of RNN units \n",
    "rnn_units = 512"
   ]
  },
  {
   "cell_type": "code",
   "execution_count": 13,
   "id": "81dd26f2",
   "metadata": {
    "execution": {
     "iopub.execute_input": "2025-08-12T06:48:05.959414Z",
     "iopub.status.busy": "2025-08-12T06:48:05.959035Z",
     "iopub.status.idle": "2025-08-12T06:48:06.061892Z",
     "shell.execute_reply": "2025-08-12T06:48:06.060700Z"
    },
    "papermill": {
     "duration": 0.112328,
     "end_time": "2025-08-12T06:48:06.064512",
     "exception": false,
     "start_time": "2025-08-12T06:48:05.952184",
     "status": "completed"
    },
    "tags": []
   },
   "outputs": [],
   "source": [
    "class GatedRecurrentUnit(tf.keras.layers.Layer):\n",
    "    def __init__(self, units, return_sequences=False, **kwargs):\n",
    "        super().__init__()\n",
    "        self.units = units\n",
    "        self.return_sequences = return_sequences\n",
    "        self.name=\"CustomGatedRU\"\n",
    "\n",
    "    def build(self, input_shape):\n",
    "        input_dim = input_shape[-1]\n",
    "        initializer = tf.keras.initializers.GlorotUniform() #xavier initialization\n",
    "        # relevance gate\n",
    "        self.W_rc = self.add_weight(shape=(self.units, self.units), initializer=initializer, name='W_rc')\n",
    "        self.W_rx = self.add_weight(shape=(input_dim, self.units), initializer=initializer, name='W_rx')\n",
    "        self.b_r = self.add_weight(shape=(self.units,), initializer='zeros', name='b_r')\n",
    "\n",
    "        # Update gate\n",
    "        self.W_uc = self.add_weight(shape=(self.units, self.units), initializer=initializer, name='W_uc')\n",
    "        self.W_ux = self.add_weight(shape=(input_dim, self.units), initializer=initializer, name='W_ux')\n",
    "        self.b_u = self.add_weight(shape=(self.units,), initializer='zeros', name='b_u')\n",
    "\n",
    "        # potential new candidate\n",
    "        self.W_cc = self.add_weight(shape=(self.units, self.units), initializer=initializer, name='W_cc')\n",
    "        self.W_cx = self.add_weight(shape=(input_dim, self.units), initializer=initializer, name='W_cx')\n",
    "        self.b_c = self.add_weight(shape=(self.units,), initializer='zeros', name='b_c')\n",
    "\n",
    "        super().build(input_shape)\n",
    "\n",
    "\n",
    "    @tf.function\n",
    "    def call(self, inputs, initial_state=None):\n",
    "        #input : Batch, sequence/context len, Embedding\n",
    "        batch_size = tf.shape(inputs)[0]\n",
    "        seq_len = tf.shape(inputs)[1]\n",
    "        if initial_state is None:\n",
    "            h_t = tf.zeros(shape=(batch_size, self.units))\n",
    "        else:\n",
    "            h_t = initial_state\n",
    "\n",
    "        outputs = tf.TensorArray(tf.float32, size=seq_len)\n",
    "\n",
    "        for t in tf.range(seq_len):\n",
    "            x_t = inputs[:, t, :]\n",
    "            relevance_gate = tf.sigmoid((x_t @ self.W_rx) + (h_t @ self.W_rc) + self.b_r)\n",
    "            update_gate = tf.sigmoid((x_t @ self.W_ux) + (h_t @ self.W_uc) + self.b_u)\n",
    "            potential_new_candidate = tf.tanh((x_t @ self.W_cx) + relevance_gate*(h_t @ self.W_uc) + self.b_c)\n",
    "            h_t = update_gate*potential_new_candidate + (1-update_gate)*h_t\n",
    "            outputs = outputs.write(t, h_t)\n",
    "\n",
    "        outputs = outputs.stack()\n",
    "        # Transpose to the standard Keras output shape: (batch_size, sequence_length, units)\n",
    "        outputs = tf.transpose(outputs, perm=[1, 0, 2])\n",
    "        if self.return_sequences:\n",
    "            return outputs\n",
    "        else:\n",
    "            # Return only the final hidden state\n",
    "            return h_t\n",
    "\n",
    "    def get_config(self):\n",
    "        \"\"\"Enables the layer to be saved and loaded.\"\"\"\n",
    "        config = super().get_config()\n",
    "        config.update({\n",
    "            \"units\": self.units,\n",
    "            \"return_sequences\": self.return_sequences\n",
    "        })\n",
    "        return config\n",
    "\n",
    "        \n",
    "        "
   ]
  },
  {
   "cell_type": "code",
   "execution_count": 14,
   "id": "a8669207",
   "metadata": {
    "execution": {
     "iopub.execute_input": "2025-08-12T06:48:06.078430Z",
     "iopub.status.busy": "2025-08-12T06:48:06.078011Z",
     "iopub.status.idle": "2025-08-12T06:48:06.084130Z",
     "shell.execute_reply": "2025-08-12T06:48:06.083049Z"
    },
    "papermill": {
     "duration": 0.015299,
     "end_time": "2025-08-12T06:48:06.086028",
     "exception": false,
     "start_time": "2025-08-12T06:48:06.070729",
     "status": "completed"
    },
    "tags": []
   },
   "outputs": [],
   "source": [
    "def build_model(vocab_size, embedding_dim, rnn_units, batch_size):\n",
    "  model = tf.keras.Sequential([\n",
    "                               \n",
    "    tf.keras.layers.Embedding(vocab_size, embedding_dim),\n",
    "  \n",
    "    GatedRecurrentUnit(rnn_units,\n",
    "                        return_sequences=True, name='custom_gru'),\n",
    "\n",
    "    tf.keras.layers.Dense(vocab_size,activation='relu'),\n",
    "    \n",
    "    tf.keras.layers.Dropout(0.2),\n",
    "  ])\n",
    "  return model"
   ]
  },
  {
   "cell_type": "code",
   "execution_count": 15,
   "id": "1f754137",
   "metadata": {
    "execution": {
     "iopub.execute_input": "2025-08-12T06:48:06.099824Z",
     "iopub.status.busy": "2025-08-12T06:48:06.099374Z",
     "iopub.status.idle": "2025-08-12T06:48:06.118533Z",
     "shell.execute_reply": "2025-08-12T06:48:06.117465Z"
    },
    "papermill": {
     "duration": 0.027979,
     "end_time": "2025-08-12T06:48:06.120481",
     "exception": false,
     "start_time": "2025-08-12T06:48:06.092502",
     "status": "completed"
    },
    "tags": []
   },
   "outputs": [],
   "source": [
    "model = build_model(\n",
    "  vocab_size = len(vocab),\n",
    "  embedding_dim=embedding_dim,\n",
    "  rnn_units=rnn_units,\n",
    "  batch_size=BATCH_SIZE)"
   ]
  },
  {
   "cell_type": "code",
   "execution_count": 16,
   "id": "b43e3909",
   "metadata": {
    "execution": {
     "iopub.execute_input": "2025-08-12T06:48:06.134698Z",
     "iopub.status.busy": "2025-08-12T06:48:06.133473Z",
     "iopub.status.idle": "2025-08-12T06:48:07.715846Z",
     "shell.execute_reply": "2025-08-12T06:48:07.714807Z"
    },
    "papermill": {
     "duration": 1.591171,
     "end_time": "2025-08-12T06:48:07.717532",
     "exception": false,
     "start_time": "2025-08-12T06:48:06.126361",
     "status": "completed"
    },
    "tags": []
   },
   "outputs": [
    {
     "name": "stdout",
     "output_type": "stream",
     "text": [
      "(64, 100, 98) # (batch_size, sequence_length, vocab_size)\n"
     ]
    }
   ],
   "source": [
    "for input_example_batch, target_example_batch in dataset.take(1):\n",
    "  example_batch_predictions = model(input_example_batch)\n",
    "  print(example_batch_predictions.shape, \"# (batch_size, sequence_length, vocab_size)\")"
   ]
  },
  {
   "cell_type": "code",
   "execution_count": 17,
   "id": "d2e72ba5",
   "metadata": {
    "execution": {
     "iopub.execute_input": "2025-08-12T06:48:07.730982Z",
     "iopub.status.busy": "2025-08-12T06:48:07.730580Z",
     "iopub.status.idle": "2025-08-12T06:48:07.750056Z",
     "shell.execute_reply": "2025-08-12T06:48:07.749149Z"
    },
    "papermill": {
     "duration": 0.02825,
     "end_time": "2025-08-12T06:48:07.751914",
     "exception": false,
     "start_time": "2025-08-12T06:48:07.723664",
     "status": "completed"
    },
    "tags": []
   },
   "outputs": [
    {
     "data": {
      "text/html": [
       "<pre style=\"white-space:pre;overflow-x:auto;line-height:normal;font-family:Menlo,'DejaVu Sans Mono',consolas,'Courier New',monospace\"><span style=\"font-weight: bold\">Model: \"sequential\"</span>\n",
       "</pre>\n"
      ],
      "text/plain": [
       "\u001b[1mModel: \"sequential\"\u001b[0m\n"
      ]
     },
     "metadata": {},
     "output_type": "display_data"
    },
    {
     "data": {
      "text/html": [
       "<pre style=\"white-space:pre;overflow-x:auto;line-height:normal;font-family:Menlo,'DejaVu Sans Mono',consolas,'Courier New',monospace\">┏━━━━━━━━━━━━━━━━━━━━━━━━━━━━━━━━━┳━━━━━━━━━━━━━━━━━━━━━━━━┳━━━━━━━━━━━━━━━┓\n",
       "┃<span style=\"font-weight: bold\"> Layer (type)                    </span>┃<span style=\"font-weight: bold\"> Output Shape           </span>┃<span style=\"font-weight: bold\">       Param # </span>┃\n",
       "┡━━━━━━━━━━━━━━━━━━━━━━━━━━━━━━━━━╇━━━━━━━━━━━━━━━━━━━━━━━━╇━━━━━━━━━━━━━━━┩\n",
       "│ embedding (<span style=\"color: #0087ff; text-decoration-color: #0087ff\">Embedding</span>)           │ (<span style=\"color: #00af00; text-decoration-color: #00af00\">64</span>, <span style=\"color: #00af00; text-decoration-color: #00af00\">100</span>, <span style=\"color: #00af00; text-decoration-color: #00af00\">256</span>)         │        <span style=\"color: #00af00; text-decoration-color: #00af00\">25,088</span> │\n",
       "├─────────────────────────────────┼────────────────────────┼───────────────┤\n",
       "│ CustomGatedRU                   │ (<span style=\"color: #00af00; text-decoration-color: #00af00\">64</span>, <span style=\"color: #00d7ff; text-decoration-color: #00d7ff\">None</span>, <span style=\"color: #00af00; text-decoration-color: #00af00\">512</span>)        │     <span style=\"color: #00af00; text-decoration-color: #00af00\">1,181,184</span> │\n",
       "│ (<span style=\"color: #0087ff; text-decoration-color: #0087ff\">GatedRecurrentUnit</span>)            │                        │               │\n",
       "├─────────────────────────────────┼────────────────────────┼───────────────┤\n",
       "│ dense (<span style=\"color: #0087ff; text-decoration-color: #0087ff\">Dense</span>)                   │ (<span style=\"color: #00af00; text-decoration-color: #00af00\">64</span>, <span style=\"color: #00d7ff; text-decoration-color: #00d7ff\">None</span>, <span style=\"color: #00af00; text-decoration-color: #00af00\">98</span>)         │        <span style=\"color: #00af00; text-decoration-color: #00af00\">50,274</span> │\n",
       "├─────────────────────────────────┼────────────────────────┼───────────────┤\n",
       "│ dropout (<span style=\"color: #0087ff; text-decoration-color: #0087ff\">Dropout</span>)               │ (<span style=\"color: #00af00; text-decoration-color: #00af00\">64</span>, <span style=\"color: #00d7ff; text-decoration-color: #00d7ff\">None</span>, <span style=\"color: #00af00; text-decoration-color: #00af00\">98</span>)         │             <span style=\"color: #00af00; text-decoration-color: #00af00\">0</span> │\n",
       "└─────────────────────────────────┴────────────────────────┴───────────────┘\n",
       "</pre>\n"
      ],
      "text/plain": [
       "┏━━━━━━━━━━━━━━━━━━━━━━━━━━━━━━━━━┳━━━━━━━━━━━━━━━━━━━━━━━━┳━━━━━━━━━━━━━━━┓\n",
       "┃\u001b[1m \u001b[0m\u001b[1mLayer (type)                   \u001b[0m\u001b[1m \u001b[0m┃\u001b[1m \u001b[0m\u001b[1mOutput Shape          \u001b[0m\u001b[1m \u001b[0m┃\u001b[1m \u001b[0m\u001b[1m      Param #\u001b[0m\u001b[1m \u001b[0m┃\n",
       "┡━━━━━━━━━━━━━━━━━━━━━━━━━━━━━━━━━╇━━━━━━━━━━━━━━━━━━━━━━━━╇━━━━━━━━━━━━━━━┩\n",
       "│ embedding (\u001b[38;5;33mEmbedding\u001b[0m)           │ (\u001b[38;5;34m64\u001b[0m, \u001b[38;5;34m100\u001b[0m, \u001b[38;5;34m256\u001b[0m)         │        \u001b[38;5;34m25,088\u001b[0m │\n",
       "├─────────────────────────────────┼────────────────────────┼───────────────┤\n",
       "│ CustomGatedRU                   │ (\u001b[38;5;34m64\u001b[0m, \u001b[38;5;45mNone\u001b[0m, \u001b[38;5;34m512\u001b[0m)        │     \u001b[38;5;34m1,181,184\u001b[0m │\n",
       "│ (\u001b[38;5;33mGatedRecurrentUnit\u001b[0m)            │                        │               │\n",
       "├─────────────────────────────────┼────────────────────────┼───────────────┤\n",
       "│ dense (\u001b[38;5;33mDense\u001b[0m)                   │ (\u001b[38;5;34m64\u001b[0m, \u001b[38;5;45mNone\u001b[0m, \u001b[38;5;34m98\u001b[0m)         │        \u001b[38;5;34m50,274\u001b[0m │\n",
       "├─────────────────────────────────┼────────────────────────┼───────────────┤\n",
       "│ dropout (\u001b[38;5;33mDropout\u001b[0m)               │ (\u001b[38;5;34m64\u001b[0m, \u001b[38;5;45mNone\u001b[0m, \u001b[38;5;34m98\u001b[0m)         │             \u001b[38;5;34m0\u001b[0m │\n",
       "└─────────────────────────────────┴────────────────────────┴───────────────┘\n"
      ]
     },
     "metadata": {},
     "output_type": "display_data"
    },
    {
     "data": {
      "text/html": [
       "<pre style=\"white-space:pre;overflow-x:auto;line-height:normal;font-family:Menlo,'DejaVu Sans Mono',consolas,'Courier New',monospace\"><span style=\"font-weight: bold\"> Total params: </span><span style=\"color: #00af00; text-decoration-color: #00af00\">1,256,546</span> (4.79 MB)\n",
       "</pre>\n"
      ],
      "text/plain": [
       "\u001b[1m Total params: \u001b[0m\u001b[38;5;34m1,256,546\u001b[0m (4.79 MB)\n"
      ]
     },
     "metadata": {},
     "output_type": "display_data"
    },
    {
     "data": {
      "text/html": [
       "<pre style=\"white-space:pre;overflow-x:auto;line-height:normal;font-family:Menlo,'DejaVu Sans Mono',consolas,'Courier New',monospace\"><span style=\"font-weight: bold\"> Trainable params: </span><span style=\"color: #00af00; text-decoration-color: #00af00\">1,256,546</span> (4.79 MB)\n",
       "</pre>\n"
      ],
      "text/plain": [
       "\u001b[1m Trainable params: \u001b[0m\u001b[38;5;34m1,256,546\u001b[0m (4.79 MB)\n"
      ]
     },
     "metadata": {},
     "output_type": "display_data"
    },
    {
     "data": {
      "text/html": [
       "<pre style=\"white-space:pre;overflow-x:auto;line-height:normal;font-family:Menlo,'DejaVu Sans Mono',consolas,'Courier New',monospace\"><span style=\"font-weight: bold\"> Non-trainable params: </span><span style=\"color: #00af00; text-decoration-color: #00af00\">0</span> (0.00 B)\n",
       "</pre>\n"
      ],
      "text/plain": [
       "\u001b[1m Non-trainable params: \u001b[0m\u001b[38;5;34m0\u001b[0m (0.00 B)\n"
      ]
     },
     "metadata": {},
     "output_type": "display_data"
    }
   ],
   "source": [
    "model.summary()"
   ]
  },
  {
   "cell_type": "code",
   "execution_count": 18,
   "id": "ae804ec1",
   "metadata": {
    "execution": {
     "iopub.execute_input": "2025-08-12T06:48:07.766450Z",
     "iopub.status.busy": "2025-08-12T06:48:07.766050Z",
     "iopub.status.idle": "2025-08-12T06:48:07.783763Z",
     "shell.execute_reply": "2025-08-12T06:48:07.782498Z"
    },
    "papermill": {
     "duration": 0.027257,
     "end_time": "2025-08-12T06:48:07.785786",
     "exception": false,
     "start_time": "2025-08-12T06:48:07.758529",
     "status": "completed"
    },
    "tags": []
   },
   "outputs": [
    {
     "name": "stdout",
     "output_type": "stream",
     "text": [
      "(100,)\n",
      "Input: \n",
      " \"121)\\r\\nWe ain't hit a rave in a while (London City)\\r\\nSo take me back to London (Woo)\\r\\nBass high, midd\"\n",
      "\n",
      "Next Char Predictions: \n",
      " '!\\'Vg{HP—2—P‘Iky];w¨‘?¨-\\u2005rgYYa hw\\'nBv\\u205fG;u2¡F4íUKu6zMD9\\n93¡wg\\u205fd;£;!2\")5–…í-T0&zHRMáMh\"B\\'TFé2{ej“J\\x93;KLQ'\n"
     ]
    }
   ],
   "source": [
    "sampled_indices = tf.random.categorical(example_batch_predictions[0], num_samples=1)\n",
    "sampled_indices = tf.squeeze(sampled_indices,axis=-1).numpy()\n",
    "print(sampled_indices.shape)\n",
    "print(\"Input: \\n\", repr(\"\".join(i2char[input_example_batch[0]])))\n",
    "print()\n",
    "print(\"Next Char Predictions: \\n\", repr(\"\".join(i2char[sampled_indices ])))\n"
   ]
  },
  {
   "cell_type": "code",
   "execution_count": 19,
   "id": "8c75f230",
   "metadata": {
    "execution": {
     "iopub.execute_input": "2025-08-12T06:48:07.800919Z",
     "iopub.status.busy": "2025-08-12T06:48:07.800544Z",
     "iopub.status.idle": "2025-08-12T06:48:07.807198Z",
     "shell.execute_reply": "2025-08-12T06:48:07.806270Z"
    },
    "papermill": {
     "duration": 0.015794,
     "end_time": "2025-08-12T06:48:07.808856",
     "exception": false,
     "start_time": "2025-08-12T06:48:07.793062",
     "status": "completed"
    },
    "tags": []
   },
   "outputs": [
    {
     "data": {
      "text/plain": [
       "array([',', '6', 'K'], dtype='<U1')"
      ]
     },
     "execution_count": 19,
     "metadata": {},
     "output_type": "execute_result"
    }
   ],
   "source": [
    "i2char[[10, 20, 37]]"
   ]
  },
  {
   "cell_type": "code",
   "execution_count": 20,
   "id": "d46d891a",
   "metadata": {
    "execution": {
     "iopub.execute_input": "2025-08-12T06:48:07.823566Z",
     "iopub.status.busy": "2025-08-12T06:48:07.823169Z",
     "iopub.status.idle": "2025-08-12T06:48:07.860732Z",
     "shell.execute_reply": "2025-08-12T06:48:07.859558Z"
    },
    "papermill": {
     "duration": 0.047243,
     "end_time": "2025-08-12T06:48:07.862760",
     "exception": false,
     "start_time": "2025-08-12T06:48:07.815517",
     "status": "completed"
    },
    "tags": []
   },
   "outputs": [
    {
     "name": "stdout",
     "output_type": "stream",
     "text": [
      "Prediction shape:  (64, 100, 98)  # (batch_size, sequence_length, vocab_size)\n",
      "scalar_loss:       4.5832276\n"
     ]
    }
   ],
   "source": [
    "def loss(labels, logits):\n",
    "  return tf.keras.losses.sparse_categorical_crossentropy(labels, logits, from_logits=True)\n",
    "\n",
    "example_batch_loss  = loss(target_example_batch, example_batch_predictions)\n",
    "print(\"Prediction shape: \", example_batch_predictions.shape, \" # (batch_size, sequence_length, vocab_size)\")\n",
    "print(\"scalar_loss:      \", example_batch_loss.numpy().mean())\n",
    "\n",
    "model.compile(optimizer='adam', loss=loss)\n"
   ]
  },
  {
   "cell_type": "code",
   "execution_count": 21,
   "id": "220171aa",
   "metadata": {
    "execution": {
     "iopub.execute_input": "2025-08-12T06:48:07.878277Z",
     "iopub.status.busy": "2025-08-12T06:48:07.877153Z",
     "iopub.status.idle": "2025-08-12T06:48:07.883066Z",
     "shell.execute_reply": "2025-08-12T06:48:07.882124Z"
    },
    "papermill": {
     "duration": 0.015307,
     "end_time": "2025-08-12T06:48:07.884816",
     "exception": false,
     "start_time": "2025-08-12T06:48:07.869509",
     "status": "completed"
    },
    "tags": []
   },
   "outputs": [],
   "source": [
    "# Directory where the checkpoints will be saved\n",
    "checkpoint_dir = './training_checkpoints'\n",
    "\n",
    "# Name of the checkpoint files\n",
    "checkpoint_prefix = os.path.join(checkpoint_dir, \"ckpt_{epoch}.weights.h5\")\n",
    "\n",
    "checkpoint_callback=tf.keras.callbacks.ModelCheckpoint(\n",
    "    filepath=checkpoint_prefix,\n",
    "    save_weights_only=True)"
   ]
  },
  {
   "cell_type": "code",
   "execution_count": 22,
   "id": "9f7885fc",
   "metadata": {
    "execution": {
     "iopub.execute_input": "2025-08-12T06:48:07.899435Z",
     "iopub.status.busy": "2025-08-12T06:48:07.899052Z",
     "iopub.status.idle": "2025-08-12T07:11:20.513004Z",
     "shell.execute_reply": "2025-08-12T07:11:20.511468Z"
    },
    "papermill": {
     "duration": 1392.624026,
     "end_time": "2025-08-12T07:11:20.515457",
     "exception": false,
     "start_time": "2025-08-12T06:48:07.891431",
     "status": "completed"
    },
    "tags": []
   },
   "outputs": [
    {
     "name": "stdout",
     "output_type": "stream",
     "text": [
      "Epoch 1/25\n"
     ]
    },
    {
     "name": "stderr",
     "output_type": "stream",
     "text": [
      "/usr/local/lib/python3.11/dist-packages/keras/src/optimizers/base_optimizer.py:774: UserWarning: Gradients do not exist for variables ['sequential/CustomGatedRU/W_cc'] when minimizing the loss. If using `model.compile()`, did you forget to provide a `loss` argument?\n",
      "  warnings.warn(\n"
     ]
    },
    {
     "name": "stdout",
     "output_type": "stream",
     "text": [
      "\u001b[1m62/62\u001b[0m \u001b[32m━━━━━━━━━━━━━━━━━━━━\u001b[0m\u001b[37m\u001b[0m \u001b[1m61s\u001b[0m 893ms/step - loss: 3.6660\n",
      "Epoch 2/25\n",
      "\u001b[1m62/62\u001b[0m \u001b[32m━━━━━━━━━━━━━━━━━━━━\u001b[0m\u001b[37m\u001b[0m \u001b[1m54s\u001b[0m 856ms/step - loss: 2.8243\n",
      "Epoch 3/25\n",
      "\u001b[1m62/62\u001b[0m \u001b[32m━━━━━━━━━━━━━━━━━━━━\u001b[0m\u001b[37m\u001b[0m \u001b[1m82s\u001b[0m 857ms/step - loss: 2.6476\n",
      "Epoch 4/25\n",
      "\u001b[1m62/62\u001b[0m \u001b[32m━━━━━━━━━━━━━━━━━━━━\u001b[0m\u001b[37m\u001b[0m \u001b[1m53s\u001b[0m 850ms/step - loss: 2.5151\n",
      "Epoch 5/25\n",
      "\u001b[1m62/62\u001b[0m \u001b[32m━━━━━━━━━━━━━━━━━━━━\u001b[0m\u001b[37m\u001b[0m \u001b[1m54s\u001b[0m 858ms/step - loss: 2.4170\n",
      "Epoch 6/25\n",
      "\u001b[1m62/62\u001b[0m \u001b[32m━━━━━━━━━━━━━━━━━━━━\u001b[0m\u001b[37m\u001b[0m \u001b[1m55s\u001b[0m 876ms/step - loss: 2.3392\n",
      "Epoch 7/25\n",
      "\u001b[1m62/62\u001b[0m \u001b[32m━━━━━━━━━━━━━━━━━━━━\u001b[0m\u001b[37m\u001b[0m \u001b[1m56s\u001b[0m 901ms/step - loss: 2.2900\n",
      "Epoch 8/25\n",
      "\u001b[1m62/62\u001b[0m \u001b[32m━━━━━━━━━━━━━━━━━━━━\u001b[0m\u001b[37m\u001b[0m \u001b[1m54s\u001b[0m 854ms/step - loss: 2.2273\n",
      "Epoch 9/25\n",
      "\u001b[1m62/62\u001b[0m \u001b[32m━━━━━━━━━━━━━━━━━━━━\u001b[0m\u001b[37m\u001b[0m \u001b[1m54s\u001b[0m 861ms/step - loss: 2.1835\n",
      "Epoch 10/25\n",
      "\u001b[1m62/62\u001b[0m \u001b[32m━━━━━━━━━━━━━━━━━━━━\u001b[0m\u001b[37m\u001b[0m \u001b[1m54s\u001b[0m 857ms/step - loss: 2.1552\n",
      "Epoch 11/25\n",
      "\u001b[1m62/62\u001b[0m \u001b[32m━━━━━━━━━━━━━━━━━━━━\u001b[0m\u001b[37m\u001b[0m \u001b[1m55s\u001b[0m 875ms/step - loss: 2.1225\n",
      "Epoch 12/25\n",
      "\u001b[1m62/62\u001b[0m \u001b[32m━━━━━━━━━━━━━━━━━━━━\u001b[0m\u001b[37m\u001b[0m \u001b[1m55s\u001b[0m 873ms/step - loss: 2.0743\n",
      "Epoch 13/25\n",
      "\u001b[1m62/62\u001b[0m \u001b[32m━━━━━━━━━━━━━━━━━━━━\u001b[0m\u001b[37m\u001b[0m \u001b[1m55s\u001b[0m 876ms/step - loss: 2.0412\n",
      "Epoch 14/25\n",
      "\u001b[1m62/62\u001b[0m \u001b[32m━━━━━━━━━━━━━━━━━━━━\u001b[0m\u001b[37m\u001b[0m \u001b[1m55s\u001b[0m 871ms/step - loss: 2.0039\n",
      "Epoch 15/25\n",
      "\u001b[1m62/62\u001b[0m \u001b[32m━━━━━━━━━━━━━━━━━━━━\u001b[0m\u001b[37m\u001b[0m \u001b[1m55s\u001b[0m 870ms/step - loss: 1.9835\n",
      "Epoch 16/25\n",
      "\u001b[1m62/62\u001b[0m \u001b[32m━━━━━━━━━━━━━━━━━━━━\u001b[0m\u001b[37m\u001b[0m \u001b[1m54s\u001b[0m 855ms/step - loss: 1.9446\n",
      "Epoch 17/25\n",
      "\u001b[1m62/62\u001b[0m \u001b[32m━━━━━━━━━━━━━━━━━━━━\u001b[0m\u001b[37m\u001b[0m \u001b[1m55s\u001b[0m 869ms/step - loss: 1.9078\n",
      "Epoch 18/25\n",
      "\u001b[1m62/62\u001b[0m \u001b[32m━━━━━━━━━━━━━━━━━━━━\u001b[0m\u001b[37m\u001b[0m \u001b[1m54s\u001b[0m 868ms/step - loss: 1.8774\n",
      "Epoch 19/25\n",
      "\u001b[1m62/62\u001b[0m \u001b[32m━━━━━━━━━━━━━━━━━━━━\u001b[0m\u001b[37m\u001b[0m \u001b[1m54s\u001b[0m 855ms/step - loss: 1.8537\n",
      "Epoch 20/25\n",
      "\u001b[1m62/62\u001b[0m \u001b[32m━━━━━━━━━━━━━━━━━━━━\u001b[0m\u001b[37m\u001b[0m \u001b[1m54s\u001b[0m 866ms/step - loss: 1.8154\n",
      "Epoch 21/25\n",
      "\u001b[1m62/62\u001b[0m \u001b[32m━━━━━━━━━━━━━━━━━━━━\u001b[0m\u001b[37m\u001b[0m \u001b[1m54s\u001b[0m 860ms/step - loss: 1.7914\n",
      "Epoch 22/25\n",
      "\u001b[1m62/62\u001b[0m \u001b[32m━━━━━━━━━━━━━━━━━━━━\u001b[0m\u001b[37m\u001b[0m \u001b[1m54s\u001b[0m 859ms/step - loss: 1.7723\n",
      "Epoch 23/25\n",
      "\u001b[1m62/62\u001b[0m \u001b[32m━━━━━━━━━━━━━━━━━━━━\u001b[0m\u001b[37m\u001b[0m \u001b[1m54s\u001b[0m 862ms/step - loss: 1.7531\n",
      "Epoch 24/25\n",
      "\u001b[1m62/62\u001b[0m \u001b[32m━━━━━━━━━━━━━━━━━━━━\u001b[0m\u001b[37m\u001b[0m \u001b[1m54s\u001b[0m 865ms/step - loss: 1.7222\n",
      "Epoch 25/25\n",
      "\u001b[1m62/62\u001b[0m \u001b[32m━━━━━━━━━━━━━━━━━━━━\u001b[0m\u001b[37m\u001b[0m \u001b[1m54s\u001b[0m 853ms/step - loss: 1.7087\n"
     ]
    }
   ],
   "source": [
    "EPOCHS=25 \n",
    "history = model.fit(dataset, epochs=EPOCHS, callbacks=[checkpoint_callback])"
   ]
  },
  {
   "cell_type": "code",
   "execution_count": 23,
   "id": "80e6698f",
   "metadata": {
    "execution": {
     "iopub.execute_input": "2025-08-12T07:11:20.695953Z",
     "iopub.status.busy": "2025-08-12T07:11:20.695525Z",
     "iopub.status.idle": "2025-08-12T07:11:20.966326Z",
     "shell.execute_reply": "2025-08-12T07:11:20.965289Z"
    },
    "papermill": {
     "duration": 0.36298,
     "end_time": "2025-08-12T07:11:20.967799",
     "exception": false,
     "start_time": "2025-08-12T07:11:20.604819",
     "status": "completed"
    },
    "tags": []
   },
   "outputs": [
    {
     "data": {
      "text/html": [
       "<pre style=\"white-space:pre;overflow-x:auto;line-height:normal;font-family:Menlo,'DejaVu Sans Mono',consolas,'Courier New',monospace\"><span style=\"font-weight: bold\">Model: \"sequential_1\"</span>\n",
       "</pre>\n"
      ],
      "text/plain": [
       "\u001b[1mModel: \"sequential_1\"\u001b[0m\n"
      ]
     },
     "metadata": {},
     "output_type": "display_data"
    },
    {
     "data": {
      "text/html": [
       "<pre style=\"white-space:pre;overflow-x:auto;line-height:normal;font-family:Menlo,'DejaVu Sans Mono',consolas,'Courier New',monospace\">┏━━━━━━━━━━━━━━━━━━━━━━━━━━━━━━━━━┳━━━━━━━━━━━━━━━━━━━━━━━━┳━━━━━━━━━━━━━━━┓\n",
       "┃<span style=\"font-weight: bold\"> Layer (type)                    </span>┃<span style=\"font-weight: bold\"> Output Shape           </span>┃<span style=\"font-weight: bold\">       Param # </span>┃\n",
       "┡━━━━━━━━━━━━━━━━━━━━━━━━━━━━━━━━━╇━━━━━━━━━━━━━━━━━━━━━━━━╇━━━━━━━━━━━━━━━┩\n",
       "│ embedding_1 (<span style=\"color: #0087ff; text-decoration-color: #0087ff\">Embedding</span>)         │ (<span style=\"color: #00af00; text-decoration-color: #00af00\">1</span>, <span style=\"color: #00d7ff; text-decoration-color: #00d7ff\">None</span>, <span style=\"color: #00af00; text-decoration-color: #00af00\">256</span>)         │        <span style=\"color: #00af00; text-decoration-color: #00af00\">25,088</span> │\n",
       "├─────────────────────────────────┼────────────────────────┼───────────────┤\n",
       "│ CustomGatedRU                   │ (<span style=\"color: #00af00; text-decoration-color: #00af00\">1</span>, <span style=\"color: #00d7ff; text-decoration-color: #00d7ff\">None</span>, <span style=\"color: #00af00; text-decoration-color: #00af00\">512</span>)         │     <span style=\"color: #00af00; text-decoration-color: #00af00\">1,181,184</span> │\n",
       "│ (<span style=\"color: #0087ff; text-decoration-color: #0087ff\">GatedRecurrentUnit</span>)            │                        │               │\n",
       "├─────────────────────────────────┼────────────────────────┼───────────────┤\n",
       "│ dense_1 (<span style=\"color: #0087ff; text-decoration-color: #0087ff\">Dense</span>)                 │ (<span style=\"color: #00af00; text-decoration-color: #00af00\">1</span>, <span style=\"color: #00d7ff; text-decoration-color: #00d7ff\">None</span>, <span style=\"color: #00af00; text-decoration-color: #00af00\">98</span>)          │        <span style=\"color: #00af00; text-decoration-color: #00af00\">50,274</span> │\n",
       "├─────────────────────────────────┼────────────────────────┼───────────────┤\n",
       "│ dropout_1 (<span style=\"color: #0087ff; text-decoration-color: #0087ff\">Dropout</span>)             │ (<span style=\"color: #00af00; text-decoration-color: #00af00\">1</span>, <span style=\"color: #00d7ff; text-decoration-color: #00d7ff\">None</span>, <span style=\"color: #00af00; text-decoration-color: #00af00\">98</span>)          │             <span style=\"color: #00af00; text-decoration-color: #00af00\">0</span> │\n",
       "└─────────────────────────────────┴────────────────────────┴───────────────┘\n",
       "</pre>\n"
      ],
      "text/plain": [
       "┏━━━━━━━━━━━━━━━━━━━━━━━━━━━━━━━━━┳━━━━━━━━━━━━━━━━━━━━━━━━┳━━━━━━━━━━━━━━━┓\n",
       "┃\u001b[1m \u001b[0m\u001b[1mLayer (type)                   \u001b[0m\u001b[1m \u001b[0m┃\u001b[1m \u001b[0m\u001b[1mOutput Shape          \u001b[0m\u001b[1m \u001b[0m┃\u001b[1m \u001b[0m\u001b[1m      Param #\u001b[0m\u001b[1m \u001b[0m┃\n",
       "┡━━━━━━━━━━━━━━━━━━━━━━━━━━━━━━━━━╇━━━━━━━━━━━━━━━━━━━━━━━━╇━━━━━━━━━━━━━━━┩\n",
       "│ embedding_1 (\u001b[38;5;33mEmbedding\u001b[0m)         │ (\u001b[38;5;34m1\u001b[0m, \u001b[38;5;45mNone\u001b[0m, \u001b[38;5;34m256\u001b[0m)         │        \u001b[38;5;34m25,088\u001b[0m │\n",
       "├─────────────────────────────────┼────────────────────────┼───────────────┤\n",
       "│ CustomGatedRU                   │ (\u001b[38;5;34m1\u001b[0m, \u001b[38;5;45mNone\u001b[0m, \u001b[38;5;34m512\u001b[0m)         │     \u001b[38;5;34m1,181,184\u001b[0m │\n",
       "│ (\u001b[38;5;33mGatedRecurrentUnit\u001b[0m)            │                        │               │\n",
       "├─────────────────────────────────┼────────────────────────┼───────────────┤\n",
       "│ dense_1 (\u001b[38;5;33mDense\u001b[0m)                 │ (\u001b[38;5;34m1\u001b[0m, \u001b[38;5;45mNone\u001b[0m, \u001b[38;5;34m98\u001b[0m)          │        \u001b[38;5;34m50,274\u001b[0m │\n",
       "├─────────────────────────────────┼────────────────────────┼───────────────┤\n",
       "│ dropout_1 (\u001b[38;5;33mDropout\u001b[0m)             │ (\u001b[38;5;34m1\u001b[0m, \u001b[38;5;45mNone\u001b[0m, \u001b[38;5;34m98\u001b[0m)          │             \u001b[38;5;34m0\u001b[0m │\n",
       "└─────────────────────────────────┴────────────────────────┴───────────────┘\n"
      ]
     },
     "metadata": {},
     "output_type": "display_data"
    },
    {
     "data": {
      "text/html": [
       "<pre style=\"white-space:pre;overflow-x:auto;line-height:normal;font-family:Menlo,'DejaVu Sans Mono',consolas,'Courier New',monospace\"><span style=\"font-weight: bold\"> Total params: </span><span style=\"color: #00af00; text-decoration-color: #00af00\">1,256,546</span> (4.79 MB)\n",
       "</pre>\n"
      ],
      "text/plain": [
       "\u001b[1m Total params: \u001b[0m\u001b[38;5;34m1,256,546\u001b[0m (4.79 MB)\n"
      ]
     },
     "metadata": {},
     "output_type": "display_data"
    },
    {
     "data": {
      "text/html": [
       "<pre style=\"white-space:pre;overflow-x:auto;line-height:normal;font-family:Menlo,'DejaVu Sans Mono',consolas,'Courier New',monospace\"><span style=\"font-weight: bold\"> Trainable params: </span><span style=\"color: #00af00; text-decoration-color: #00af00\">1,256,546</span> (4.79 MB)\n",
       "</pre>\n"
      ],
      "text/plain": [
       "\u001b[1m Trainable params: \u001b[0m\u001b[38;5;34m1,256,546\u001b[0m (4.79 MB)\n"
      ]
     },
     "metadata": {},
     "output_type": "display_data"
    },
    {
     "data": {
      "text/html": [
       "<pre style=\"white-space:pre;overflow-x:auto;line-height:normal;font-family:Menlo,'DejaVu Sans Mono',consolas,'Courier New',monospace\"><span style=\"font-weight: bold\"> Non-trainable params: </span><span style=\"color: #00af00; text-decoration-color: #00af00\">0</span> (0.00 B)\n",
       "</pre>\n"
      ],
      "text/plain": [
       "\u001b[1m Non-trainable params: \u001b[0m\u001b[38;5;34m0\u001b[0m (0.00 B)\n"
      ]
     },
     "metadata": {},
     "output_type": "display_data"
    }
   ],
   "source": [
    "model = build_model(vocab_size, embedding_dim, rnn_units, batch_size=1)\n",
    "model.build(tf.TensorShape([1, None]))\n",
    "model.load_weights(\"./training_checkpoints/ckpt_25.weights.h5\")\n",
    "model.summary()"
   ]
  },
  {
   "cell_type": "code",
   "execution_count": 24,
   "id": "a0e34865",
   "metadata": {
    "execution": {
     "iopub.execute_input": "2025-08-12T07:11:21.146704Z",
     "iopub.status.busy": "2025-08-12T07:11:21.146298Z",
     "iopub.status.idle": "2025-08-12T07:11:21.153876Z",
     "shell.execute_reply": "2025-08-12T07:11:21.152685Z"
    },
    "papermill": {
     "duration": 0.099885,
     "end_time": "2025-08-12T07:11:21.155502",
     "exception": false,
     "start_time": "2025-08-12T07:11:21.055617",
     "status": "completed"
    },
    "tags": []
   },
   "outputs": [],
   "source": [
    "def generate_text(model, chars_to_generate , temp , start_string):\n",
    "  # Evaluation step (generating text using the learned model)\n",
    "\n",
    "  # Number of characters to generate\n",
    "  num_generate = chars_to_generate\n",
    "\n",
    "  # Converting our start string to numbers (vectorizing)\n",
    "  input_eval = [char2i[s] for s in start_string]\n",
    "  input_eval = tf.expand_dims(input_eval, 0)\n",
    "\n",
    "  # Empty string to store our results\n",
    "  text_generated = []\n",
    "\n",
    "  # Low temperatures results in more predictable text.\n",
    "  # Higher temperatures results in more surprising text.\n",
    "  # Experiment to find the best setting.\n",
    "  temperature = temp\n",
    "\n",
    "  # Here batch size == 1\n",
    "  for i in range(num_generate):\n",
    "      predictions = model(input_eval)\n",
    "      # remove the batch dimension\n",
    "      predictions = tf.squeeze(predictions, 0)\n",
    "\n",
    "      # using a categorical distribution to predict the character returned by the model\n",
    "      predictions = predictions / temperature\n",
    "      predicted_id = tf.random.categorical(predictions, num_samples=1)[-1,0].numpy()\n",
    "\n",
    "      # We pass the predicted character as the next input to the model\n",
    "      # along with the previous hidden state\n",
    "      input_eval = tf.expand_dims([predicted_id], 0)\n",
    "\n",
    "      text_generated.append(i2char[predicted_id])\n",
    "\n",
    "  return (start_string + ''.join(text_generated))"
   ]
  },
  {
   "cell_type": "code",
   "execution_count": 25,
   "id": "8561aa8c",
   "metadata": {
    "execution": {
     "iopub.execute_input": "2025-08-12T07:11:21.342733Z",
     "iopub.status.busy": "2025-08-12T07:11:21.342335Z",
     "iopub.status.idle": "2025-08-12T07:11:25.655285Z",
     "shell.execute_reply": "2025-08-12T07:11:25.654143Z"
    },
    "papermill": {
     "duration": 4.41083,
     "end_time": "2025-08-12T07:11:25.657256",
     "exception": false,
     "start_time": "2025-08-12T07:11:21.246426",
     "status": "completed"
    },
    "tags": []
   },
   "outputs": [
    {
     "name": "stdout",
     "output_type": "stream",
     "text": [
      "Flower bon tUn bum s who6 linthe th i–hee it diveryoshousa ked mit al we\r\n",
      "\r\n",
      "Dy myx w bril p ouryowe'tI s fe2 l id youmeromy\r\n",
      "Oh‘{ulie warin\r\n",
      "\r\n",
      "Al trUrJan I thoBat've byo y tou\"Nou Ke\r\n",
      "\r\n",
      "An d whi y f y gh tstkA wal\r\n",
      "Ap “I bethe2  an se we l wow find mare linout kecke t br, chare !\r\n",
      "I to y y blid s shongil the st\r\n",
      "Shin: d—I whe\r\n",
      "AntouKe wnd n s{Nouthourged fid s9\r\n",
      "\r\n",
      "Sabrave don's loveNoplith ththjupe ldond kihel a2\r\n",
      "\r\n",
      "I ckeve\r\n",
      "An ary we sin\"\r\n",
      "Anelily, ing me waled thedyou p s/\n",
      "OranKeldOhinghe ay ousetFr\n"
     ]
    }
   ],
   "source": [
    "from numpy import arange\n",
    "\n",
    "chars_to_generate = 500 \n",
    "\n",
    "print(generate_text(model , chars_to_generate , 0.7 , start_string=u\"Flower \"))"
   ]
  },
  {
   "cell_type": "code",
   "execution_count": null,
   "id": "d424dfe1",
   "metadata": {
    "papermill": {
     "duration": 0.087589,
     "end_time": "2025-08-12T07:11:25.835372",
     "exception": false,
     "start_time": "2025-08-12T07:11:25.747783",
     "status": "completed"
    },
    "tags": []
   },
   "outputs": [],
   "source": []
  }
 ],
 "metadata": {
  "kaggle": {
   "accelerator": "none",
   "dataSources": [
    {
     "datasetId": 700363,
     "sourceId": 1224724,
     "sourceType": "datasetVersion"
    }
   ],
   "dockerImageVersionId": 31089,
   "isGpuEnabled": false,
   "isInternetEnabled": true,
   "language": "python",
   "sourceType": "notebook"
  },
  "kernelspec": {
   "display_name": "Python 3",
   "language": "python",
   "name": "python3"
  },
  "language_info": {
   "codemirror_mode": {
    "name": "ipython",
    "version": 3
   },
   "file_extension": ".py",
   "mimetype": "text/x-python",
   "name": "python",
   "nbconvert_exporter": "python",
   "pygments_lexer": "ipython3",
   "version": "3.11.13"
  },
  "papermill": {
   "default_parameters": {},
   "duration": 1433.309228,
   "end_time": "2025-08-12T07:11:28.909668",
   "environment_variables": {},
   "exception": null,
   "input_path": "__notebook__.ipynb",
   "output_path": "__notebook__.ipynb",
   "parameters": {},
   "start_time": "2025-08-12T06:47:35.600440",
   "version": "2.6.0"
  }
 },
 "nbformat": 4,
 "nbformat_minor": 5
}
