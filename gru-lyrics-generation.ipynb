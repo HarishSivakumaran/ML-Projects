{
 "cells": [
  {
   "cell_type": "code",
   "execution_count": 1,
   "id": "bea2ac9a",
   "metadata": {
    "_cell_guid": "b1076dfc-b9ad-4769-8c92-a6c4dae69d19",
    "_uuid": "8f2839f25d086af736a60e9eeb907d3b93b6e0e5",
    "execution": {
     "iopub.execute_input": "2025-08-12T06:42:01.440164Z",
     "iopub.status.busy": "2025-08-12T06:42:01.439636Z",
     "iopub.status.idle": "2025-08-12T06:42:22.270424Z",
     "shell.execute_reply": "2025-08-12T06:42:22.269324Z"
    },
    "papermill": {
     "duration": 20.839242,
     "end_time": "2025-08-12T06:42:22.272224",
     "exception": false,
     "start_time": "2025-08-12T06:42:01.432982",
     "status": "completed"
    },
    "tags": []
   },
   "outputs": [
    {
     "name": "stderr",
     "output_type": "stream",
     "text": [
      "2025-08-12 06:42:03.266427: E external/local_xla/xla/stream_executor/cuda/cuda_fft.cc:477] Unable to register cuFFT factory: Attempting to register factory for plugin cuFFT when one has already been registered\n",
      "WARNING: All log messages before absl::InitializeLog() is called are written to STDERR\n",
      "E0000 00:00:1754980923.516701      13 cuda_dnn.cc:8310] Unable to register cuDNN factory: Attempting to register factory for plugin cuDNN when one has already been registered\n",
      "E0000 00:00:1754980923.592250      13 cuda_blas.cc:1418] Unable to register cuBLAS factory: Attempting to register factory for plugin cuBLAS when one has already been registered\n"
     ]
    }
   ],
   "source": [
    "import tensorflow as tf\n",
    "\n",
    "import numpy as np\n",
    "import os\n",
    "import time"
   ]
  },
  {
   "cell_type": "code",
   "execution_count": 2,
   "id": "1cbe6a4e",
   "metadata": {
    "execution": {
     "iopub.execute_input": "2025-08-12T06:42:22.284484Z",
     "iopub.status.busy": "2025-08-12T06:42:22.282624Z",
     "iopub.status.idle": "2025-08-12T06:42:22.288445Z",
     "shell.execute_reply": "2025-08-12T06:42:22.287396Z"
    },
    "papermill": {
     "duration": 0.013033,
     "end_time": "2025-08-12T06:42:22.290221",
     "exception": false,
     "start_time": "2025-08-12T06:42:22.277188",
     "status": "completed"
    },
    "tags": []
   },
   "outputs": [],
   "source": [
    "path_to_file = '../input/lyrics-generation/lyrics_dataset.txt'"
   ]
  },
  {
   "cell_type": "code",
   "execution_count": 3,
   "id": "fd421ed5",
   "metadata": {
    "execution": {
     "iopub.execute_input": "2025-08-12T06:42:22.300681Z",
     "iopub.status.busy": "2025-08-12T06:42:22.300291Z",
     "iopub.status.idle": "2025-08-12T06:42:22.348754Z",
     "shell.execute_reply": "2025-08-12T06:42:22.347733Z"
    },
    "papermill": {
     "duration": 0.055388,
     "end_time": "2025-08-12T06:42:22.350271",
     "exception": false,
     "start_time": "2025-08-12T06:42:22.294883",
     "status": "completed"
    },
    "tags": []
   },
   "outputs": [
    {
     "name": "stdout",
     "output_type": "stream",
     "text": [
      "Length of text: 404640 characters\n"
     ]
    }
   ],
   "source": [
    "# Opening the text file in read mode and standard encoding it\n",
    "text = open(path_to_file, 'rb').read().decode(encoding='utf-8')\n",
    "\n",
    "# Length of text is the number of characters in it\n",
    "print ('Length of text: {} characters'.format(len(text)))"
   ]
  },
  {
   "cell_type": "code",
   "execution_count": 4,
   "id": "6afae6f8",
   "metadata": {
    "execution": {
     "iopub.execute_input": "2025-08-12T06:42:22.361225Z",
     "iopub.status.busy": "2025-08-12T06:42:22.360884Z",
     "iopub.status.idle": "2025-08-12T06:42:22.367903Z",
     "shell.execute_reply": "2025-08-12T06:42:22.366675Z"
    },
    "papermill": {
     "duration": 0.014072,
     "end_time": "2025-08-12T06:42:22.369463",
     "exception": false,
     "start_time": "2025-08-12T06:42:22.355391",
     "status": "completed"
    },
    "tags": []
   },
   "outputs": [
    {
     "data": {
      "text/plain": [
       "\"I hate you for what you did\\r\\nAnd I miss you like a little kid\\r\\nI faked it every time\\r\\nBut that's alr\""
      ]
     },
     "execution_count": 4,
     "metadata": {},
     "output_type": "execute_result"
    }
   ],
   "source": [
    "text[:100]"
   ]
  },
  {
   "cell_type": "code",
   "execution_count": 5,
   "id": "196a0a5b",
   "metadata": {
    "execution": {
     "iopub.execute_input": "2025-08-12T06:42:22.379854Z",
     "iopub.status.busy": "2025-08-12T06:42:22.379499Z",
     "iopub.status.idle": "2025-08-12T06:42:22.390351Z",
     "shell.execute_reply": "2025-08-12T06:42:22.388683Z"
    },
    "papermill": {
     "duration": 0.01785,
     "end_time": "2025-08-12T06:42:22.391955",
     "exception": false,
     "start_time": "2025-08-12T06:42:22.374105",
     "status": "completed"
    },
    "tags": []
   },
   "outputs": [
    {
     "name": "stdout",
     "output_type": "stream",
     "text": [
      "vocab size: 98 few chars ['\\n', '\\r', ' ', '!', '\"', '&', \"'\", '(', ')', '*'] type: <class 'numpy.ndarray'>\n"
     ]
    }
   ],
   "source": [
    "vocab = sorted(set(text))\n",
    "print(f'vocab size: {len(vocab)} few chars {vocab[:10]} type: {type(np.array(vocab))}')"
   ]
  },
  {
   "cell_type": "code",
   "execution_count": 6,
   "id": "022aea45",
   "metadata": {
    "execution": {
     "iopub.execute_input": "2025-08-12T06:42:22.402739Z",
     "iopub.status.busy": "2025-08-12T06:42:22.402393Z",
     "iopub.status.idle": "2025-08-12T06:42:22.468835Z",
     "shell.execute_reply": "2025-08-12T06:42:22.467960Z"
    },
    "papermill": {
     "duration": 0.073737,
     "end_time": "2025-08-12T06:42:22.470363",
     "exception": false,
     "start_time": "2025-08-12T06:42:22.396626",
     "status": "completed"
    },
    "tags": []
   },
   "outputs": [
    {
     "name": "stdout",
     "output_type": "stream",
     "text": [
      "ight\r\n",
      "I can hardly feel anything\r\n",
      "I hardly feel anything at all\r\n",
      "You gave me fifteen hundred\r\n",
      "To see\n"
     ]
    },
    {
     "data": {
      "text/plain": [
       "array([62, 60, 61, 73,  1,  0, 35,  2, 56, 54, 67,  2, 61, 54, 71, 57, 65,\n",
       "       78,  2, 59, 58, 58, 65,  2, 54, 67, 78, 73, 61, 62, 67, 60,  1,  0,\n",
       "       35,  2, 61, 54, 71, 57, 65, 78,  2, 59, 58, 58, 65,  2, 54, 67, 78,\n",
       "       73, 61, 62, 67, 60,  2, 54, 73,  2, 54, 65, 65,  1,  0, 51, 68, 74,\n",
       "        2, 60, 54, 75, 58,  2, 66, 58,  2, 59, 62, 59, 73, 58, 58, 67,  2,\n",
       "       61, 74, 67, 57, 71, 58, 57,  1,  0, 46, 68,  2, 72, 58, 58])"
      ]
     },
     "execution_count": 6,
     "metadata": {},
     "output_type": "execute_result"
    }
   ],
   "source": [
    "# token encoder\n",
    "char2i = {c:i for i,c in enumerate(vocab)}\n",
    "# token decoder\n",
    "i2char = np.array(vocab)\n",
    "\n",
    "encoded_text = np.array([char2i[c] for c in text])\n",
    "print(text[100:200])\n",
    "encoded_text[100:200]"
   ]
  },
  {
   "cell_type": "code",
   "execution_count": 7,
   "id": "e8a8a129",
   "metadata": {
    "execution": {
     "iopub.execute_input": "2025-08-12T06:42:22.481567Z",
     "iopub.status.busy": "2025-08-12T06:42:22.480640Z",
     "iopub.status.idle": "2025-08-12T06:42:22.487000Z",
     "shell.execute_reply": "2025-08-12T06:42:22.485766Z"
    },
    "papermill": {
     "duration": 0.013664,
     "end_time": "2025-08-12T06:42:22.488777",
     "exception": false,
     "start_time": "2025-08-12T06:42:22.475113",
     "status": "completed"
    },
    "tags": []
   },
   "outputs": [
    {
     "name": "stdout",
     "output_type": "stream",
     "text": [
      "{ ===========>\n",
      "  '\\n':   0,\n",
      "  '\\r':   1,\n",
      "  ' ' :   2,\n",
      "  '!' :   3,\n",
      "  '\"' :   4,\n",
      "  '&' :   5,\n",
      "  \"'\" :   6,\n",
      "  '(' :   7,\n",
      "  ')' :   8,\n",
      "  '*' :   9,\n",
      "  ',' :  10,\n",
      "  '-' :  11,\n",
      "  '.' :  12,\n",
      "  '/' :  13,\n",
      "  '0' :  14,\n",
      "  '1' :  15,\n",
      "  '2' :  16,\n",
      "  '3' :  17,\n",
      "  '4' :  18,\n",
      "  '5' :  19,\n",
      "  ...\n",
      "==========>}\n"
     ]
    }
   ],
   "source": [
    "print('{ ===========>')\n",
    "for char,_ in zip(char2i, range(20)):\n",
    "    print('  {:4s}: {:3d},'.format(repr(char), char2i[char]))\n",
    "print('  ...\\n==========>}')"
   ]
  },
  {
   "cell_type": "code",
   "execution_count": 8,
   "id": "ac3b1739",
   "metadata": {
    "execution": {
     "iopub.execute_input": "2025-08-12T06:42:22.501852Z",
     "iopub.status.busy": "2025-08-12T06:42:22.500813Z",
     "iopub.status.idle": "2025-08-12T06:42:22.594499Z",
     "shell.execute_reply": "2025-08-12T06:42:22.593529Z"
    },
    "papermill": {
     "duration": 0.102257,
     "end_time": "2025-08-12T06:42:22.596268",
     "exception": false,
     "start_time": "2025-08-12T06:42:22.494011",
     "status": "completed"
    },
    "tags": []
   },
   "outputs": [
    {
     "name": "stdout",
     "output_type": "stream",
     "text": [
      "I hat"
     ]
    },
    {
     "name": "stderr",
     "output_type": "stream",
     "text": [
      "2025-08-12 06:42:22.507786: E external/local_xla/xla/stream_executor/cuda/cuda_driver.cc:152] failed call to cuInit: INTERNAL: CUDA error: Failed call to cuInit: UNKNOWN ERROR (303)\n"
     ]
    }
   ],
   "source": [
    "SEQ_LEN = 100\n",
    "BATCH = 64\n",
    "examples_per_epoch = len(text) // (SEQ_LEN + 1)\n",
    "char_dataset = tf.data.Dataset.from_tensor_slices(encoded_text)\n",
    "for i in char_dataset.take(5):\n",
    "  print(i2char[i.numpy()] , end = \"\")\n"
   ]
  },
  {
   "cell_type": "code",
   "execution_count": 9,
   "id": "9d4e4c8a",
   "metadata": {
    "execution": {
     "iopub.execute_input": "2025-08-12T06:42:22.607399Z",
     "iopub.status.busy": "2025-08-12T06:42:22.607051Z",
     "iopub.status.idle": "2025-08-12T06:42:22.670092Z",
     "shell.execute_reply": "2025-08-12T06:42:22.668920Z"
    },
    "papermill": {
     "duration": 0.070551,
     "end_time": "2025-08-12T06:42:22.671877",
     "exception": false,
     "start_time": "2025-08-12T06:42:22.601326",
     "status": "completed"
    },
    "tags": []
   },
   "outputs": [],
   "source": [
    "def split_input_target(chunk):\n",
    "    input_text = chunk[:-1]\n",
    "    target_text = chunk[1:]\n",
    "    return input_text, target_text\n",
    "    \n",
    "sequences = char_dataset.batch(SEQ_LEN+1, drop_remainder=True)\n",
    "dataset = sequences.map(split_input_target)"
   ]
  },
  {
   "cell_type": "code",
   "execution_count": 10,
   "id": "019a3cec",
   "metadata": {
    "execution": {
     "iopub.execute_input": "2025-08-12T06:42:22.682890Z",
     "iopub.status.busy": "2025-08-12T06:42:22.682565Z",
     "iopub.status.idle": "2025-08-12T06:42:22.720034Z",
     "shell.execute_reply": "2025-08-12T06:42:22.718894Z"
    },
    "papermill": {
     "duration": 0.04471,
     "end_time": "2025-08-12T06:42:22.721594",
     "exception": false,
     "start_time": "2025-08-12T06:42:22.676884",
     "status": "completed"
    },
    "tags": []
   },
   "outputs": [
    {
     "name": "stdout",
     "output_type": "stream",
     "text": [
      "Input data:  \"I hate you for what you did\\r\\nAnd I miss you like a little kid\\r\\nI faked it every time\\r\\nBut that's alr\"\n",
      "Target data: \" hate you for what you did\\r\\nAnd I miss you like a little kid\\r\\nI faked it every time\\r\\nBut that's alri\"\n"
     ]
    }
   ],
   "source": [
    "for input_example, target_example in  dataset.take(1):\n",
    "  print ('Input data: ', repr(''.join(i2char[input_example.numpy()])))\n",
    "  print ('Target data:', repr(''.join(i2char[target_example.numpy()])))"
   ]
  },
  {
   "cell_type": "code",
   "execution_count": 11,
   "id": "c1afaa23",
   "metadata": {
    "execution": {
     "iopub.execute_input": "2025-08-12T06:42:22.733724Z",
     "iopub.status.busy": "2025-08-12T06:42:22.733328Z",
     "iopub.status.idle": "2025-08-12T06:42:22.745183Z",
     "shell.execute_reply": "2025-08-12T06:42:22.744244Z"
    },
    "papermill": {
     "duration": 0.020144,
     "end_time": "2025-08-12T06:42:22.746777",
     "exception": false,
     "start_time": "2025-08-12T06:42:22.726633",
     "status": "completed"
    },
    "tags": []
   },
   "outputs": [
    {
     "data": {
      "text/plain": [
       "<_BatchDataset element_spec=(TensorSpec(shape=(64, 100), dtype=tf.int64, name=None), TensorSpec(shape=(64, 100), dtype=tf.int64, name=None))>"
      ]
     },
     "execution_count": 11,
     "metadata": {},
     "output_type": "execute_result"
    }
   ],
   "source": [
    "# Batch size\n",
    "BATCH_SIZE = 64\n",
    "\n",
    "# Buffer size to shuffle the dataset\n",
    "# (TF data is designed to work with possibly infinite sequences,\n",
    "# so it doesn't attempt to shuffle the entire sequence in memory. Instead,\n",
    "# it maintains a buffer in which it shuffles elements).\n",
    "BUFFER_SIZE = 10000\n",
    "\n",
    "dataset = dataset.shuffle(BUFFER_SIZE).batch(BATCH_SIZE, drop_remainder=True)\n",
    "\n",
    "dataset"
   ]
  },
  {
   "cell_type": "code",
   "execution_count": 12,
   "id": "cf72986d",
   "metadata": {
    "execution": {
     "iopub.execute_input": "2025-08-12T06:42:22.758267Z",
     "iopub.status.busy": "2025-08-12T06:42:22.757925Z",
     "iopub.status.idle": "2025-08-12T06:42:22.762665Z",
     "shell.execute_reply": "2025-08-12T06:42:22.761762Z"
    },
    "papermill": {
     "duration": 0.012393,
     "end_time": "2025-08-12T06:42:22.764408",
     "exception": false,
     "start_time": "2025-08-12T06:42:22.752015",
     "status": "completed"
    },
    "tags": []
   },
   "outputs": [],
   "source": [
    "# Length of the vocabulary in chars\n",
    "vocab_size = len(vocab)\n",
    "\n",
    "# The embedding dimension\n",
    "embedding_dim = 256\n",
    "\n",
    "# Number of RNN units \n",
    "rnn_units = 512"
   ]
  },
  {
   "cell_type": "code",
   "execution_count": 13,
   "id": "90d3c195",
   "metadata": {
    "execution": {
     "iopub.execute_input": "2025-08-12T06:42:22.776187Z",
     "iopub.status.busy": "2025-08-12T06:42:22.775860Z",
     "iopub.status.idle": "2025-08-12T06:42:22.870270Z",
     "shell.execute_reply": "2025-08-12T06:42:22.869028Z"
    },
    "papermill": {
     "duration": 0.102569,
     "end_time": "2025-08-12T06:42:22.872001",
     "exception": false,
     "start_time": "2025-08-12T06:42:22.769432",
     "status": "completed"
    },
    "tags": []
   },
   "outputs": [],
   "source": [
    "class GatedRecurrentUnit(tf.keras.layers.Layer):\n",
    "    def __init__(self, units, return_sequences=False, **kwargs):\n",
    "        super().__init__()\n",
    "        self.units = units\n",
    "        self.return_sequences = return_sequences\n",
    "        self.name=\"CustomGatedRU\"\n",
    "\n",
    "    def build(self, input_shape):\n",
    "        input_dim = input_shape[-1]\n",
    "        initializer = tf.keras.initializers.GlorotUniform() #xavier initialization\n",
    "        # relevance gate\n",
    "        self.W_rc = self.add_weight(shape=(self.units, self.units), initializer=initializer, name='W_rc')\n",
    "        self.W_rx = self.add_weight(shape=(input_dim, self.units), initializer=initializer, name='W_rx')\n",
    "        self.b_r = self.add_weight(shape=(self.units,), initializer='zeros', name='b_r')\n",
    "\n",
    "        # Update gate\n",
    "        self.W_uc = self.add_weight(shape=(self.units, self.units), initializer=initializer, name='W_uc')\n",
    "        self.W_ux = self.add_weight(shape=(input_dim, self.units), initializer=initializer, name='W_ux')\n",
    "        self.b_u = self.add_weight(shape=(self.units,), initializer='zeros', name='b_u')\n",
    "\n",
    "        # potential new candidate\n",
    "        self.W_cc = self.add_weight(shape=(self.units, self.units), initializer=initializer, name='W_cc')\n",
    "        self.W_cx = self.add_weight(shape=(input_dim, self.units), initializer=initializer, name='W_cx')\n",
    "        self.b_c = self.add_weight(shape=(self.units,), initializer='zeros', name='b_c')\n",
    "\n",
    "        super().build(input_shape)\n",
    "\n",
    "\n",
    "    @tf.function\n",
    "    def call(self, inputs, initial_state=None):\n",
    "        #input : Batch, sequence/context len, Embedding\n",
    "        batch_size = tf.shape(inputs)[0]\n",
    "        seq_len = tf.shape(inputs)[1]\n",
    "        if initial_state is None:\n",
    "            h_t = tf.zeros(shape=(batch_size, self.units))\n",
    "        else:\n",
    "            h_t = initial_state\n",
    "\n",
    "        outputs = tf.TensorArray(tf.float32, size=seq_len)\n",
    "\n",
    "        for t in tf.range(seq_len):\n",
    "            x_t = inputs[:, t, :]\n",
    "            relevance_gate = tf.sigmoid((x_t @ self.W_rx) + (h_t @ self.W_rc) + self.b_r)\n",
    "            update_gate = tf.sigmoid((x_t @ self.W_ux) + (h_t @ self.W_uc) + self.b_u)\n",
    "            potential_new_candidate = tf.tanh((x_t @ self.W_cx) + relevance_gate*(h_t @ self.W_uc) + self.b_c)\n",
    "            h_t = update_gate*potential_new_candidate + (1-update_gate)*h_t\n",
    "            outputs = outputs.write(t, h_t)\n",
    "\n",
    "        outputs = outputs.stack()\n",
    "        # Transpose to the standard Keras output shape: (batch_size, sequence_length, units)\n",
    "        outputs = tf.transpose(outputs, perm=[1, 0, 2])\n",
    "        if self.return_sequences:\n",
    "            return outputs\n",
    "        else:\n",
    "            # Return only the final hidden state\n",
    "            return h_t\n",
    "\n",
    "    def get_config(self):\n",
    "        \"\"\"Enables the layer to be saved and loaded.\"\"\"\n",
    "        config = super().get_config()\n",
    "        config.update({\n",
    "            \"units\": self.units,\n",
    "            \"return_sequences\": self.return_sequences\n",
    "        })\n",
    "        return config\n",
    "\n",
    "        \n",
    "        "
   ]
  },
  {
   "cell_type": "code",
   "execution_count": 14,
   "id": "3371759c",
   "metadata": {
    "execution": {
     "iopub.execute_input": "2025-08-12T06:42:22.884086Z",
     "iopub.status.busy": "2025-08-12T06:42:22.883781Z",
     "iopub.status.idle": "2025-08-12T06:42:22.889332Z",
     "shell.execute_reply": "2025-08-12T06:42:22.888449Z"
    },
    "papermill": {
     "duration": 0.013405,
     "end_time": "2025-08-12T06:42:22.890861",
     "exception": false,
     "start_time": "2025-08-12T06:42:22.877456",
     "status": "completed"
    },
    "tags": []
   },
   "outputs": [],
   "source": [
    "def build_model(vocab_size, embedding_dim, rnn_units, batch_size):\n",
    "  model = tf.keras.Sequential([\n",
    "                               \n",
    "    tf.keras.layers.Embedding(vocab_size, embedding_dim),\n",
    "  \n",
    "    GatedRecurrentUnit(rnn_units,\n",
    "                        return_sequences=True, name='custom_gru'),\n",
    "\n",
    "    tf.keras.layers.Dense(vocab_size,activation='relu'),\n",
    "    \n",
    "    tf.keras.layers.Dropout(0.2),\n",
    "  ])\n",
    "  return model"
   ]
  },
  {
   "cell_type": "code",
   "execution_count": 15,
   "id": "8f41f1b9",
   "metadata": {
    "execution": {
     "iopub.execute_input": "2025-08-12T06:42:22.902617Z",
     "iopub.status.busy": "2025-08-12T06:42:22.902286Z",
     "iopub.status.idle": "2025-08-12T06:42:22.919945Z",
     "shell.execute_reply": "2025-08-12T06:42:22.919061Z"
    },
    "papermill": {
     "duration": 0.025544,
     "end_time": "2025-08-12T06:42:22.921535",
     "exception": false,
     "start_time": "2025-08-12T06:42:22.895991",
     "status": "completed"
    },
    "tags": []
   },
   "outputs": [],
   "source": [
    "model = build_model(\n",
    "  vocab_size = len(vocab),\n",
    "  embedding_dim=embedding_dim,\n",
    "  rnn_units=rnn_units,\n",
    "  batch_size=BATCH_SIZE)"
   ]
  },
  {
   "cell_type": "code",
   "execution_count": 16,
   "id": "050d2245",
   "metadata": {
    "execution": {
     "iopub.execute_input": "2025-08-12T06:42:22.932657Z",
     "iopub.status.busy": "2025-08-12T06:42:22.932380Z",
     "iopub.status.idle": "2025-08-12T06:42:24.496803Z",
     "shell.execute_reply": "2025-08-12T06:42:24.495611Z"
    },
    "papermill": {
     "duration": 1.572203,
     "end_time": "2025-08-12T06:42:24.498764",
     "exception": false,
     "start_time": "2025-08-12T06:42:22.926561",
     "status": "completed"
    },
    "tags": []
   },
   "outputs": [
    {
     "name": "stdout",
     "output_type": "stream",
     "text": [
      "(64, 100, 98) # (batch_size, sequence_length, vocab_size)\n"
     ]
    }
   ],
   "source": [
    "for input_example_batch, target_example_batch in dataset.take(1):\n",
    "  example_batch_predictions = model(input_example_batch)\n",
    "  print(example_batch_predictions.shape, \"# (batch_size, sequence_length, vocab_size)\")"
   ]
  },
  {
   "cell_type": "code",
   "execution_count": 17,
   "id": "f9c09d62",
   "metadata": {
    "execution": {
     "iopub.execute_input": "2025-08-12T06:42:24.516836Z",
     "iopub.status.busy": "2025-08-12T06:42:24.515546Z",
     "iopub.status.idle": "2025-08-12T06:42:24.533524Z",
     "shell.execute_reply": "2025-08-12T06:42:24.532586Z"
    },
    "papermill": {
     "duration": 0.027175,
     "end_time": "2025-08-12T06:42:24.535204",
     "exception": false,
     "start_time": "2025-08-12T06:42:24.508029",
     "status": "completed"
    },
    "tags": []
   },
   "outputs": [
    {
     "data": {
      "text/html": [
       "<pre style=\"white-space:pre;overflow-x:auto;line-height:normal;font-family:Menlo,'DejaVu Sans Mono',consolas,'Courier New',monospace\"><span style=\"font-weight: bold\">Model: \"sequential\"</span>\n",
       "</pre>\n"
      ],
      "text/plain": [
       "\u001b[1mModel: \"sequential\"\u001b[0m\n"
      ]
     },
     "metadata": {},
     "output_type": "display_data"
    },
    {
     "data": {
      "text/html": [
       "<pre style=\"white-space:pre;overflow-x:auto;line-height:normal;font-family:Menlo,'DejaVu Sans Mono',consolas,'Courier New',monospace\">┏━━━━━━━━━━━━━━━━━━━━━━━━━━━━━━━━━┳━━━━━━━━━━━━━━━━━━━━━━━━┳━━━━━━━━━━━━━━━┓\n",
       "┃<span style=\"font-weight: bold\"> Layer (type)                    </span>┃<span style=\"font-weight: bold\"> Output Shape           </span>┃<span style=\"font-weight: bold\">       Param # </span>┃\n",
       "┡━━━━━━━━━━━━━━━━━━━━━━━━━━━━━━━━━╇━━━━━━━━━━━━━━━━━━━━━━━━╇━━━━━━━━━━━━━━━┩\n",
       "│ embedding (<span style=\"color: #0087ff; text-decoration-color: #0087ff\">Embedding</span>)           │ (<span style=\"color: #00af00; text-decoration-color: #00af00\">64</span>, <span style=\"color: #00af00; text-decoration-color: #00af00\">100</span>, <span style=\"color: #00af00; text-decoration-color: #00af00\">256</span>)         │        <span style=\"color: #00af00; text-decoration-color: #00af00\">25,088</span> │\n",
       "├─────────────────────────────────┼────────────────────────┼───────────────┤\n",
       "│ CustomGatedRU                   │ (<span style=\"color: #00af00; text-decoration-color: #00af00\">64</span>, <span style=\"color: #00d7ff; text-decoration-color: #00d7ff\">None</span>, <span style=\"color: #00af00; text-decoration-color: #00af00\">512</span>)        │     <span style=\"color: #00af00; text-decoration-color: #00af00\">1,181,184</span> │\n",
       "│ (<span style=\"color: #0087ff; text-decoration-color: #0087ff\">GatedRecurrentUnit</span>)            │                        │               │\n",
       "├─────────────────────────────────┼────────────────────────┼───────────────┤\n",
       "│ dense (<span style=\"color: #0087ff; text-decoration-color: #0087ff\">Dense</span>)                   │ (<span style=\"color: #00af00; text-decoration-color: #00af00\">64</span>, <span style=\"color: #00d7ff; text-decoration-color: #00d7ff\">None</span>, <span style=\"color: #00af00; text-decoration-color: #00af00\">98</span>)         │        <span style=\"color: #00af00; text-decoration-color: #00af00\">50,274</span> │\n",
       "├─────────────────────────────────┼────────────────────────┼───────────────┤\n",
       "│ dropout (<span style=\"color: #0087ff; text-decoration-color: #0087ff\">Dropout</span>)               │ (<span style=\"color: #00af00; text-decoration-color: #00af00\">64</span>, <span style=\"color: #00d7ff; text-decoration-color: #00d7ff\">None</span>, <span style=\"color: #00af00; text-decoration-color: #00af00\">98</span>)         │             <span style=\"color: #00af00; text-decoration-color: #00af00\">0</span> │\n",
       "└─────────────────────────────────┴────────────────────────┴───────────────┘\n",
       "</pre>\n"
      ],
      "text/plain": [
       "┏━━━━━━━━━━━━━━━━━━━━━━━━━━━━━━━━━┳━━━━━━━━━━━━━━━━━━━━━━━━┳━━━━━━━━━━━━━━━┓\n",
       "┃\u001b[1m \u001b[0m\u001b[1mLayer (type)                   \u001b[0m\u001b[1m \u001b[0m┃\u001b[1m \u001b[0m\u001b[1mOutput Shape          \u001b[0m\u001b[1m \u001b[0m┃\u001b[1m \u001b[0m\u001b[1m      Param #\u001b[0m\u001b[1m \u001b[0m┃\n",
       "┡━━━━━━━━━━━━━━━━━━━━━━━━━━━━━━━━━╇━━━━━━━━━━━━━━━━━━━━━━━━╇━━━━━━━━━━━━━━━┩\n",
       "│ embedding (\u001b[38;5;33mEmbedding\u001b[0m)           │ (\u001b[38;5;34m64\u001b[0m, \u001b[38;5;34m100\u001b[0m, \u001b[38;5;34m256\u001b[0m)         │        \u001b[38;5;34m25,088\u001b[0m │\n",
       "├─────────────────────────────────┼────────────────────────┼───────────────┤\n",
       "│ CustomGatedRU                   │ (\u001b[38;5;34m64\u001b[0m, \u001b[38;5;45mNone\u001b[0m, \u001b[38;5;34m512\u001b[0m)        │     \u001b[38;5;34m1,181,184\u001b[0m │\n",
       "│ (\u001b[38;5;33mGatedRecurrentUnit\u001b[0m)            │                        │               │\n",
       "├─────────────────────────────────┼────────────────────────┼───────────────┤\n",
       "│ dense (\u001b[38;5;33mDense\u001b[0m)                   │ (\u001b[38;5;34m64\u001b[0m, \u001b[38;5;45mNone\u001b[0m, \u001b[38;5;34m98\u001b[0m)         │        \u001b[38;5;34m50,274\u001b[0m │\n",
       "├─────────────────────────────────┼────────────────────────┼───────────────┤\n",
       "│ dropout (\u001b[38;5;33mDropout\u001b[0m)               │ (\u001b[38;5;34m64\u001b[0m, \u001b[38;5;45mNone\u001b[0m, \u001b[38;5;34m98\u001b[0m)         │             \u001b[38;5;34m0\u001b[0m │\n",
       "└─────────────────────────────────┴────────────────────────┴───────────────┘\n"
      ]
     },
     "metadata": {},
     "output_type": "display_data"
    },
    {
     "data": {
      "text/html": [
       "<pre style=\"white-space:pre;overflow-x:auto;line-height:normal;font-family:Menlo,'DejaVu Sans Mono',consolas,'Courier New',monospace\"><span style=\"font-weight: bold\"> Total params: </span><span style=\"color: #00af00; text-decoration-color: #00af00\">1,256,546</span> (4.79 MB)\n",
       "</pre>\n"
      ],
      "text/plain": [
       "\u001b[1m Total params: \u001b[0m\u001b[38;5;34m1,256,546\u001b[0m (4.79 MB)\n"
      ]
     },
     "metadata": {},
     "output_type": "display_data"
    },
    {
     "data": {
      "text/html": [
       "<pre style=\"white-space:pre;overflow-x:auto;line-height:normal;font-family:Menlo,'DejaVu Sans Mono',consolas,'Courier New',monospace\"><span style=\"font-weight: bold\"> Trainable params: </span><span style=\"color: #00af00; text-decoration-color: #00af00\">1,256,546</span> (4.79 MB)\n",
       "</pre>\n"
      ],
      "text/plain": [
       "\u001b[1m Trainable params: \u001b[0m\u001b[38;5;34m1,256,546\u001b[0m (4.79 MB)\n"
      ]
     },
     "metadata": {},
     "output_type": "display_data"
    },
    {
     "data": {
      "text/html": [
       "<pre style=\"white-space:pre;overflow-x:auto;line-height:normal;font-family:Menlo,'DejaVu Sans Mono',consolas,'Courier New',monospace\"><span style=\"font-weight: bold\"> Non-trainable params: </span><span style=\"color: #00af00; text-decoration-color: #00af00\">0</span> (0.00 B)\n",
       "</pre>\n"
      ],
      "text/plain": [
       "\u001b[1m Non-trainable params: \u001b[0m\u001b[38;5;34m0\u001b[0m (0.00 B)\n"
      ]
     },
     "metadata": {},
     "output_type": "display_data"
    }
   ],
   "source": [
    "model.summary()"
   ]
  },
  {
   "cell_type": "code",
   "execution_count": 18,
   "id": "6dbf4bb7",
   "metadata": {
    "execution": {
     "iopub.execute_input": "2025-08-12T06:42:24.548791Z",
     "iopub.status.busy": "2025-08-12T06:42:24.548368Z",
     "iopub.status.idle": "2025-08-12T06:42:24.566128Z",
     "shell.execute_reply": "2025-08-12T06:42:24.564648Z"
    },
    "papermill": {
     "duration": 0.026682,
     "end_time": "2025-08-12T06:42:24.568003",
     "exception": false,
     "start_time": "2025-08-12T06:42:24.541321",
     "status": "completed"
    },
    "tags": []
   },
   "outputs": [
    {
     "name": "stdout",
     "output_type": "stream",
     "text": [
      "(100,)\n",
      "Input: \n",
      " \"rin' at your phone like something's comin' through\\r\\nCome to grips and take your chips when the cards\"\n",
      "\n",
      "Next Char Predictions: \n",
      " '—1bR0/,’mx:H4P0éGqTy\\'l£Q ¨/{.7EGUnw-S…0V:\"éY1t{iár0£8jó?e\\'VOy9eCex\\x93DR,f3!pI4CmoV8LLfZW’Q0X]j{LRl\\u205fa8‘'\n"
     ]
    }
   ],
   "source": [
    "sampled_indices = tf.random.categorical(example_batch_predictions[0], num_samples=1)\n",
    "sampled_indices = tf.squeeze(sampled_indices,axis=-1).numpy()\n",
    "print(sampled_indices.shape)\n",
    "print(\"Input: \\n\", repr(\"\".join(i2char[input_example_batch[0]])))\n",
    "print()\n",
    "print(\"Next Char Predictions: \\n\", repr(\"\".join(i2char[sampled_indices ])))\n"
   ]
  },
  {
   "cell_type": "code",
   "execution_count": 19,
   "id": "c54e07b6",
   "metadata": {
    "execution": {
     "iopub.execute_input": "2025-08-12T06:42:24.582452Z",
     "iopub.status.busy": "2025-08-12T06:42:24.581621Z",
     "iopub.status.idle": "2025-08-12T06:42:24.588768Z",
     "shell.execute_reply": "2025-08-12T06:42:24.587760Z"
    },
    "papermill": {
     "duration": 0.015877,
     "end_time": "2025-08-12T06:42:24.590677",
     "exception": false,
     "start_time": "2025-08-12T06:42:24.574800",
     "status": "completed"
    },
    "tags": []
   },
   "outputs": [
    {
     "data": {
      "text/plain": [
       "array([',', '6', 'K'], dtype='<U1')"
      ]
     },
     "execution_count": 19,
     "metadata": {},
     "output_type": "execute_result"
    }
   ],
   "source": [
    "i2char[[10, 20, 37]]"
   ]
  },
  {
   "cell_type": "code",
   "execution_count": 20,
   "id": "52ff1493",
   "metadata": {
    "execution": {
     "iopub.execute_input": "2025-08-12T06:42:24.605355Z",
     "iopub.status.busy": "2025-08-12T06:42:24.604956Z",
     "iopub.status.idle": "2025-08-12T06:42:24.640970Z",
     "shell.execute_reply": "2025-08-12T06:42:24.639754Z"
    },
    "papermill": {
     "duration": 0.045268,
     "end_time": "2025-08-12T06:42:24.642626",
     "exception": false,
     "start_time": "2025-08-12T06:42:24.597358",
     "status": "completed"
    },
    "tags": []
   },
   "outputs": [
    {
     "name": "stdout",
     "output_type": "stream",
     "text": [
      "Prediction shape:  (64, 100, 98)  # (batch_size, sequence_length, vocab_size)\n",
      "scalar_loss:       4.58428\n"
     ]
    }
   ],
   "source": [
    "def loss(labels, logits):\n",
    "  return tf.keras.losses.sparse_categorical_crossentropy(labels, logits, from_logits=True)\n",
    "\n",
    "example_batch_loss  = loss(target_example_batch, example_batch_predictions)\n",
    "print(\"Prediction shape: \", example_batch_predictions.shape, \" # (batch_size, sequence_length, vocab_size)\")\n",
    "print(\"scalar_loss:      \", example_batch_loss.numpy().mean())\n",
    "\n",
    "model.compile(optimizer='adam', loss=loss)\n"
   ]
  },
  {
   "cell_type": "code",
   "execution_count": 21,
   "id": "60093628",
   "metadata": {
    "execution": {
     "iopub.execute_input": "2025-08-12T06:42:24.655800Z",
     "iopub.status.busy": "2025-08-12T06:42:24.655372Z",
     "iopub.status.idle": "2025-08-12T06:42:24.660737Z",
     "shell.execute_reply": "2025-08-12T06:42:24.659562Z"
    },
    "papermill": {
     "duration": 0.013967,
     "end_time": "2025-08-12T06:42:24.662535",
     "exception": false,
     "start_time": "2025-08-12T06:42:24.648568",
     "status": "completed"
    },
    "tags": []
   },
   "outputs": [],
   "source": [
    "# Directory where the checkpoints will be saved\n",
    "checkpoint_dir = './training_checkpoints'\n",
    "\n",
    "# Name of the checkpoint files\n",
    "checkpoint_prefix = os.path.join(checkpoint_dir, \"ckpt_{epoch}.weights.h5\")\n",
    "\n",
    "checkpoint_callback=tf.keras.callbacks.ModelCheckpoint(\n",
    "    filepath=checkpoint_prefix,\n",
    "    save_weights_only=True)"
   ]
  },
  {
   "cell_type": "code",
   "execution_count": 22,
   "id": "cde7b31f",
   "metadata": {
    "execution": {
     "iopub.execute_input": "2025-08-12T06:42:24.676156Z",
     "iopub.status.busy": "2025-08-12T06:42:24.675805Z",
     "iopub.status.idle": "2025-08-12T07:02:57.476946Z",
     "shell.execute_reply": "2025-08-12T07:02:57.475900Z"
    },
    "papermill": {
     "duration": 1232.809846,
     "end_time": "2025-08-12T07:02:57.478738",
     "exception": false,
     "start_time": "2025-08-12T06:42:24.668892",
     "status": "completed"
    },
    "tags": []
   },
   "outputs": [
    {
     "name": "stdout",
     "output_type": "stream",
     "text": [
      "Epoch 1/25\n"
     ]
    },
    {
     "name": "stderr",
     "output_type": "stream",
     "text": [
      "/usr/local/lib/python3.11/dist-packages/keras/src/optimizers/base_optimizer.py:774: UserWarning: Gradients do not exist for variables ['sequential/CustomGatedRU/W_cc'] when minimizing the loss. If using `model.compile()`, did you forget to provide a `loss` argument?\n",
      "  warnings.warn(\n"
     ]
    },
    {
     "name": "stdout",
     "output_type": "stream",
     "text": [
      "\u001b[1m62/62\u001b[0m \u001b[32m━━━━━━━━━━━━━━━━━━━━\u001b[0m\u001b[37m\u001b[0m \u001b[1m52s\u001b[0m 757ms/step - loss: 3.7832\n",
      "Epoch 2/25\n",
      "\u001b[1m62/62\u001b[0m \u001b[32m━━━━━━━━━━━━━━━━━━━━\u001b[0m\u001b[37m\u001b[0m \u001b[1m47s\u001b[0m 740ms/step - loss: 2.8924\n",
      "Epoch 3/25\n",
      "\u001b[1m62/62\u001b[0m \u001b[32m━━━━━━━━━━━━━━━━━━━━\u001b[0m\u001b[37m\u001b[0m \u001b[1m47s\u001b[0m 738ms/step - loss: 2.6947\n",
      "Epoch 4/25\n",
      "\u001b[1m62/62\u001b[0m \u001b[32m━━━━━━━━━━━━━━━━━━━━\u001b[0m\u001b[37m\u001b[0m \u001b[1m47s\u001b[0m 743ms/step - loss: 2.5754\n",
      "Epoch 5/25\n",
      "\u001b[1m62/62\u001b[0m \u001b[32m━━━━━━━━━━━━━━━━━━━━\u001b[0m\u001b[37m\u001b[0m \u001b[1m47s\u001b[0m 740ms/step - loss: 2.4697\n",
      "Epoch 6/25\n",
      "\u001b[1m62/62\u001b[0m \u001b[32m━━━━━━━━━━━━━━━━━━━━\u001b[0m\u001b[37m\u001b[0m \u001b[1m46s\u001b[0m 732ms/step - loss: 2.4076\n",
      "Epoch 7/25\n",
      "\u001b[1m62/62\u001b[0m \u001b[32m━━━━━━━━━━━━━━━━━━━━\u001b[0m\u001b[37m\u001b[0m \u001b[1m47s\u001b[0m 744ms/step - loss: 2.3527\n",
      "Epoch 8/25\n",
      "\u001b[1m62/62\u001b[0m \u001b[32m━━━━━━━━━━━━━━━━━━━━\u001b[0m\u001b[37m\u001b[0m \u001b[1m46s\u001b[0m 733ms/step - loss: 2.2925\n",
      "Epoch 9/25\n",
      "\u001b[1m62/62\u001b[0m \u001b[32m━━━━━━━━━━━━━━━━━━━━\u001b[0m\u001b[37m\u001b[0m \u001b[1m47s\u001b[0m 755ms/step - loss: 2.2464\n",
      "Epoch 10/25\n",
      "\u001b[1m62/62\u001b[0m \u001b[32m━━━━━━━━━━━━━━━━━━━━\u001b[0m\u001b[37m\u001b[0m \u001b[1m48s\u001b[0m 760ms/step - loss: 2.2232\n",
      "Epoch 11/25\n",
      "\u001b[1m62/62\u001b[0m \u001b[32m━━━━━━━━━━━━━━━━━━━━\u001b[0m\u001b[37m\u001b[0m \u001b[1m49s\u001b[0m 779ms/step - loss: 2.1764\n",
      "Epoch 12/25\n",
      "\u001b[1m62/62\u001b[0m \u001b[32m━━━━━━━━━━━━━━━━━━━━\u001b[0m\u001b[37m\u001b[0m \u001b[1m47s\u001b[0m 747ms/step - loss: 2.1508\n",
      "Epoch 13/25\n",
      "\u001b[1m62/62\u001b[0m \u001b[32m━━━━━━━━━━━━━━━━━━━━\u001b[0m\u001b[37m\u001b[0m \u001b[1m47s\u001b[0m 743ms/step - loss: 2.1110\n",
      "Epoch 14/25\n",
      "\u001b[1m62/62\u001b[0m \u001b[32m━━━━━━━━━━━━━━━━━━━━\u001b[0m\u001b[37m\u001b[0m \u001b[1m48s\u001b[0m 760ms/step - loss: 2.0799\n",
      "Epoch 15/25\n",
      "\u001b[1m62/62\u001b[0m \u001b[32m━━━━━━━━━━━━━━━━━━━━\u001b[0m\u001b[37m\u001b[0m \u001b[1m81s\u001b[0m 749ms/step - loss: 2.0670\n",
      "Epoch 16/25\n",
      "\u001b[1m62/62\u001b[0m \u001b[32m━━━━━━━━━━━━━━━━━━━━\u001b[0m\u001b[37m\u001b[0m \u001b[1m52s\u001b[0m 830ms/step - loss: 2.0256\n",
      "Epoch 17/25\n",
      "\u001b[1m62/62\u001b[0m \u001b[32m━━━━━━━━━━━━━━━━━━━━\u001b[0m\u001b[37m\u001b[0m \u001b[1m48s\u001b[0m 761ms/step - loss: 2.0061\n",
      "Epoch 18/25\n",
      "\u001b[1m62/62\u001b[0m \u001b[32m━━━━━━━━━━━━━━━━━━━━\u001b[0m\u001b[37m\u001b[0m \u001b[1m47s\u001b[0m 754ms/step - loss: 1.9708\n",
      "Epoch 19/25\n",
      "\u001b[1m62/62\u001b[0m \u001b[32m━━━━━━━━━━━━━━━━━━━━\u001b[0m\u001b[37m\u001b[0m \u001b[1m47s\u001b[0m 750ms/step - loss: 1.9473\n",
      "Epoch 20/25\n",
      "\u001b[1m62/62\u001b[0m \u001b[32m━━━━━━━━━━━━━━━━━━━━\u001b[0m\u001b[37m\u001b[0m \u001b[1m47s\u001b[0m 753ms/step - loss: 1.9219\n",
      "Epoch 21/25\n",
      "\u001b[1m62/62\u001b[0m \u001b[32m━━━━━━━━━━━━━━━━━━━━\u001b[0m\u001b[37m\u001b[0m \u001b[1m47s\u001b[0m 752ms/step - loss: 1.8985\n",
      "Epoch 22/25\n",
      "\u001b[1m62/62\u001b[0m \u001b[32m━━━━━━━━━━━━━━━━━━━━\u001b[0m\u001b[37m\u001b[0m \u001b[1m51s\u001b[0m 810ms/step - loss: 1.8718\n",
      "Epoch 23/25\n",
      "\u001b[1m62/62\u001b[0m \u001b[32m━━━━━━━━━━━━━━━━━━━━\u001b[0m\u001b[37m\u001b[0m \u001b[1m50s\u001b[0m 785ms/step - loss: 1.8545\n",
      "Epoch 24/25\n",
      "\u001b[1m62/62\u001b[0m \u001b[32m━━━━━━━━━━━━━━━━━━━━\u001b[0m\u001b[37m\u001b[0m \u001b[1m49s\u001b[0m 782ms/step - loss: 1.8153\n",
      "Epoch 25/25\n",
      "\u001b[1m62/62\u001b[0m \u001b[32m━━━━━━━━━━━━━━━━━━━━\u001b[0m\u001b[37m\u001b[0m \u001b[1m48s\u001b[0m 765ms/step - loss: 1.7885\n"
     ]
    }
   ],
   "source": [
    "EPOCHS=25 \n",
    "history = model.fit(dataset, epochs=EPOCHS, callbacks=[checkpoint_callback])"
   ]
  },
  {
   "cell_type": "code",
   "execution_count": 23,
   "id": "03585e83",
   "metadata": {
    "execution": {
     "iopub.execute_input": "2025-08-12T07:02:57.646021Z",
     "iopub.status.busy": "2025-08-12T07:02:57.645614Z",
     "iopub.status.idle": "2025-08-12T07:02:57.878493Z",
     "shell.execute_reply": "2025-08-12T07:02:57.877467Z"
    },
    "papermill": {
     "duration": 0.318097,
     "end_time": "2025-08-12T07:02:57.880387",
     "exception": false,
     "start_time": "2025-08-12T07:02:57.562290",
     "status": "completed"
    },
    "tags": []
   },
   "outputs": [
    {
     "data": {
      "text/html": [
       "<pre style=\"white-space:pre;overflow-x:auto;line-height:normal;font-family:Menlo,'DejaVu Sans Mono',consolas,'Courier New',monospace\"><span style=\"font-weight: bold\">Model: \"sequential_1\"</span>\n",
       "</pre>\n"
      ],
      "text/plain": [
       "\u001b[1mModel: \"sequential_1\"\u001b[0m\n"
      ]
     },
     "metadata": {},
     "output_type": "display_data"
    },
    {
     "data": {
      "text/html": [
       "<pre style=\"white-space:pre;overflow-x:auto;line-height:normal;font-family:Menlo,'DejaVu Sans Mono',consolas,'Courier New',monospace\">┏━━━━━━━━━━━━━━━━━━━━━━━━━━━━━━━━━┳━━━━━━━━━━━━━━━━━━━━━━━━┳━━━━━━━━━━━━━━━┓\n",
       "┃<span style=\"font-weight: bold\"> Layer (type)                    </span>┃<span style=\"font-weight: bold\"> Output Shape           </span>┃<span style=\"font-weight: bold\">       Param # </span>┃\n",
       "┡━━━━━━━━━━━━━━━━━━━━━━━━━━━━━━━━━╇━━━━━━━━━━━━━━━━━━━━━━━━╇━━━━━━━━━━━━━━━┩\n",
       "│ embedding_1 (<span style=\"color: #0087ff; text-decoration-color: #0087ff\">Embedding</span>)         │ (<span style=\"color: #00af00; text-decoration-color: #00af00\">1</span>, <span style=\"color: #00d7ff; text-decoration-color: #00d7ff\">None</span>, <span style=\"color: #00af00; text-decoration-color: #00af00\">256</span>)         │        <span style=\"color: #00af00; text-decoration-color: #00af00\">25,088</span> │\n",
       "├─────────────────────────────────┼────────────────────────┼───────────────┤\n",
       "│ CustomGatedRU                   │ (<span style=\"color: #00af00; text-decoration-color: #00af00\">1</span>, <span style=\"color: #00d7ff; text-decoration-color: #00d7ff\">None</span>, <span style=\"color: #00af00; text-decoration-color: #00af00\">512</span>)         │     <span style=\"color: #00af00; text-decoration-color: #00af00\">1,181,184</span> │\n",
       "│ (<span style=\"color: #0087ff; text-decoration-color: #0087ff\">GatedRecurrentUnit</span>)            │                        │               │\n",
       "├─────────────────────────────────┼────────────────────────┼───────────────┤\n",
       "│ dense_1 (<span style=\"color: #0087ff; text-decoration-color: #0087ff\">Dense</span>)                 │ (<span style=\"color: #00af00; text-decoration-color: #00af00\">1</span>, <span style=\"color: #00d7ff; text-decoration-color: #00d7ff\">None</span>, <span style=\"color: #00af00; text-decoration-color: #00af00\">98</span>)          │        <span style=\"color: #00af00; text-decoration-color: #00af00\">50,274</span> │\n",
       "├─────────────────────────────────┼────────────────────────┼───────────────┤\n",
       "│ dropout_1 (<span style=\"color: #0087ff; text-decoration-color: #0087ff\">Dropout</span>)             │ (<span style=\"color: #00af00; text-decoration-color: #00af00\">1</span>, <span style=\"color: #00d7ff; text-decoration-color: #00d7ff\">None</span>, <span style=\"color: #00af00; text-decoration-color: #00af00\">98</span>)          │             <span style=\"color: #00af00; text-decoration-color: #00af00\">0</span> │\n",
       "└─────────────────────────────────┴────────────────────────┴───────────────┘\n",
       "</pre>\n"
      ],
      "text/plain": [
       "┏━━━━━━━━━━━━━━━━━━━━━━━━━━━━━━━━━┳━━━━━━━━━━━━━━━━━━━━━━━━┳━━━━━━━━━━━━━━━┓\n",
       "┃\u001b[1m \u001b[0m\u001b[1mLayer (type)                   \u001b[0m\u001b[1m \u001b[0m┃\u001b[1m \u001b[0m\u001b[1mOutput Shape          \u001b[0m\u001b[1m \u001b[0m┃\u001b[1m \u001b[0m\u001b[1m      Param #\u001b[0m\u001b[1m \u001b[0m┃\n",
       "┡━━━━━━━━━━━━━━━━━━━━━━━━━━━━━━━━━╇━━━━━━━━━━━━━━━━━━━━━━━━╇━━━━━━━━━━━━━━━┩\n",
       "│ embedding_1 (\u001b[38;5;33mEmbedding\u001b[0m)         │ (\u001b[38;5;34m1\u001b[0m, \u001b[38;5;45mNone\u001b[0m, \u001b[38;5;34m256\u001b[0m)         │        \u001b[38;5;34m25,088\u001b[0m │\n",
       "├─────────────────────────────────┼────────────────────────┼───────────────┤\n",
       "│ CustomGatedRU                   │ (\u001b[38;5;34m1\u001b[0m, \u001b[38;5;45mNone\u001b[0m, \u001b[38;5;34m512\u001b[0m)         │     \u001b[38;5;34m1,181,184\u001b[0m │\n",
       "│ (\u001b[38;5;33mGatedRecurrentUnit\u001b[0m)            │                        │               │\n",
       "├─────────────────────────────────┼────────────────────────┼───────────────┤\n",
       "│ dense_1 (\u001b[38;5;33mDense\u001b[0m)                 │ (\u001b[38;5;34m1\u001b[0m, \u001b[38;5;45mNone\u001b[0m, \u001b[38;5;34m98\u001b[0m)          │        \u001b[38;5;34m50,274\u001b[0m │\n",
       "├─────────────────────────────────┼────────────────────────┼───────────────┤\n",
       "│ dropout_1 (\u001b[38;5;33mDropout\u001b[0m)             │ (\u001b[38;5;34m1\u001b[0m, \u001b[38;5;45mNone\u001b[0m, \u001b[38;5;34m98\u001b[0m)          │             \u001b[38;5;34m0\u001b[0m │\n",
       "└─────────────────────────────────┴────────────────────────┴───────────────┘\n"
      ]
     },
     "metadata": {},
     "output_type": "display_data"
    },
    {
     "data": {
      "text/html": [
       "<pre style=\"white-space:pre;overflow-x:auto;line-height:normal;font-family:Menlo,'DejaVu Sans Mono',consolas,'Courier New',monospace\"><span style=\"font-weight: bold\"> Total params: </span><span style=\"color: #00af00; text-decoration-color: #00af00\">1,256,546</span> (4.79 MB)\n",
       "</pre>\n"
      ],
      "text/plain": [
       "\u001b[1m Total params: \u001b[0m\u001b[38;5;34m1,256,546\u001b[0m (4.79 MB)\n"
      ]
     },
     "metadata": {},
     "output_type": "display_data"
    },
    {
     "data": {
      "text/html": [
       "<pre style=\"white-space:pre;overflow-x:auto;line-height:normal;font-family:Menlo,'DejaVu Sans Mono',consolas,'Courier New',monospace\"><span style=\"font-weight: bold\"> Trainable params: </span><span style=\"color: #00af00; text-decoration-color: #00af00\">1,256,546</span> (4.79 MB)\n",
       "</pre>\n"
      ],
      "text/plain": [
       "\u001b[1m Trainable params: \u001b[0m\u001b[38;5;34m1,256,546\u001b[0m (4.79 MB)\n"
      ]
     },
     "metadata": {},
     "output_type": "display_data"
    },
    {
     "data": {
      "text/html": [
       "<pre style=\"white-space:pre;overflow-x:auto;line-height:normal;font-family:Menlo,'DejaVu Sans Mono',consolas,'Courier New',monospace\"><span style=\"font-weight: bold\"> Non-trainable params: </span><span style=\"color: #00af00; text-decoration-color: #00af00\">0</span> (0.00 B)\n",
       "</pre>\n"
      ],
      "text/plain": [
       "\u001b[1m Non-trainable params: \u001b[0m\u001b[38;5;34m0\u001b[0m (0.00 B)\n"
      ]
     },
     "metadata": {},
     "output_type": "display_data"
    }
   ],
   "source": [
    "model = build_model(vocab_size, embedding_dim, rnn_units, batch_size=1)\n",
    "model.build(tf.TensorShape([1, None]))\n",
    "model.load_weights(\"./training_checkpoints/ckpt_25.weights.h5\")\n",
    "model.summary()"
   ]
  }
 ],
 "metadata": {
  "kaggle": {
   "accelerator": "none",
   "dataSources": [
    {
     "datasetId": 700363,
     "sourceId": 1224724,
     "sourceType": "datasetVersion"
    }
   ],
   "dockerImageVersionId": 31089,
   "isGpuEnabled": false,
   "isInternetEnabled": true,
   "language": "python",
   "sourceType": "notebook"
  },
  "kernelspec": {
   "display_name": "Python 3",
   "language": "python",
   "name": "python3"
  },
  "language_info": {
   "codemirror_mode": {
    "name": "ipython",
    "version": 3
   },
   "file_extension": ".py",
   "mimetype": "text/x-python",
   "name": "python",
   "nbconvert_exporter": "python",
   "pygments_lexer": "ipython3",
   "version": "3.11.13"
  },
  "papermill": {
   "default_parameters": {},
   "duration": 1264.711809,
   "end_time": "2025-08-12T07:03:00.977909",
   "environment_variables": {},
   "exception": null,
   "input_path": "__notebook__.ipynb",
   "output_path": "__notebook__.ipynb",
   "parameters": {},
   "start_time": "2025-08-12T06:41:56.266100",
   "version": "2.6.0"
  }
 },
 "nbformat": 4,
 "nbformat_minor": 5
}
