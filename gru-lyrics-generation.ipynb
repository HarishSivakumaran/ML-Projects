{
 "cells": [
  {
   "cell_type": "code",
   "execution_count": 1,
   "id": "d9973b74",
   "metadata": {
    "_cell_guid": "b1076dfc-b9ad-4769-8c92-a6c4dae69d19",
    "_uuid": "8f2839f25d086af736a60e9eeb907d3b93b6e0e5",
    "execution": {
     "iopub.execute_input": "2025-08-12T07:12:03.138115Z",
     "iopub.status.busy": "2025-08-12T07:12:03.137795Z",
     "iopub.status.idle": "2025-08-12T07:12:21.855474Z",
     "shell.execute_reply": "2025-08-12T07:12:21.854622Z"
    },
    "papermill": {
     "duration": 18.724683,
     "end_time": "2025-08-12T07:12:21.856925",
     "exception": false,
     "start_time": "2025-08-12T07:12:03.132242",
     "status": "completed"
    },
    "tags": []
   },
   "outputs": [
    {
     "name": "stderr",
     "output_type": "stream",
     "text": [
      "2025-08-12 07:12:05.027252: E external/local_xla/xla/stream_executor/cuda/cuda_fft.cc:477] Unable to register cuFFT factory: Attempting to register factory for plugin cuFFT when one has already been registered\n",
      "WARNING: All log messages before absl::InitializeLog() is called are written to STDERR\n",
      "E0000 00:00:1754982725.289801      13 cuda_dnn.cc:8310] Unable to register cuDNN factory: Attempting to register factory for plugin cuDNN when one has already been registered\n",
      "E0000 00:00:1754982725.368867      13 cuda_blas.cc:1418] Unable to register cuBLAS factory: Attempting to register factory for plugin cuBLAS when one has already been registered\n"
     ]
    }
   ],
   "source": [
    "import tensorflow as tf\n",
    "\n",
    "import numpy as np\n",
    "import os\n",
    "import time"
   ]
  },
  {
   "cell_type": "code",
   "execution_count": 2,
   "id": "acc800f1",
   "metadata": {
    "execution": {
     "iopub.execute_input": "2025-08-12T07:12:21.869854Z",
     "iopub.status.busy": "2025-08-12T07:12:21.869213Z",
     "iopub.status.idle": "2025-08-12T07:12:21.874442Z",
     "shell.execute_reply": "2025-08-12T07:12:21.873261Z"
    },
    "papermill": {
     "duration": 0.013196,
     "end_time": "2025-08-12T07:12:21.876075",
     "exception": false,
     "start_time": "2025-08-12T07:12:21.862879",
     "status": "completed"
    },
    "tags": []
   },
   "outputs": [],
   "source": [
    "path_to_file = '../input/lyrics-generation/lyrics_dataset.txt'"
   ]
  },
  {
   "cell_type": "code",
   "execution_count": 3,
   "id": "1fbb5cfe",
   "metadata": {
    "execution": {
     "iopub.execute_input": "2025-08-12T07:12:21.886049Z",
     "iopub.status.busy": "2025-08-12T07:12:21.885749Z",
     "iopub.status.idle": "2025-08-12T07:12:21.902479Z",
     "shell.execute_reply": "2025-08-12T07:12:21.901623Z"
    },
    "papermill": {
     "duration": 0.022025,
     "end_time": "2025-08-12T07:12:21.903685",
     "exception": false,
     "start_time": "2025-08-12T07:12:21.881660",
     "status": "completed"
    },
    "tags": []
   },
   "outputs": [
    {
     "name": "stdout",
     "output_type": "stream",
     "text": [
      "Length of text: 404640 characters\n"
     ]
    }
   ],
   "source": [
    "# Opening the text file in read mode and standard encoding it\n",
    "text = open(path_to_file, 'rb').read().decode(encoding='utf-8')\n",
    "\n",
    "# Length of text is the number of characters in it\n",
    "print ('Length of text: {} characters'.format(len(text)))"
   ]
  },
  {
   "cell_type": "code",
   "execution_count": 4,
   "id": "c5526dad",
   "metadata": {
    "execution": {
     "iopub.execute_input": "2025-08-12T07:12:21.911950Z",
     "iopub.status.busy": "2025-08-12T07:12:21.911661Z",
     "iopub.status.idle": "2025-08-12T07:12:21.917190Z",
     "shell.execute_reply": "2025-08-12T07:12:21.916320Z"
    },
    "papermill": {
     "duration": 0.010805,
     "end_time": "2025-08-12T07:12:21.918280",
     "exception": false,
     "start_time": "2025-08-12T07:12:21.907475",
     "status": "completed"
    },
    "tags": []
   },
   "outputs": [
    {
     "data": {
      "text/plain": [
       "\"I hate you for what you did\\r\\nAnd I miss you like a little kid\\r\\nI faked it every time\\r\\nBut that's alr\""
      ]
     },
     "execution_count": 4,
     "metadata": {},
     "output_type": "execute_result"
    }
   ],
   "source": [
    "text[:100]"
   ]
  },
  {
   "cell_type": "code",
   "execution_count": 5,
   "id": "37e347e0",
   "metadata": {
    "execution": {
     "iopub.execute_input": "2025-08-12T07:12:21.926371Z",
     "iopub.status.busy": "2025-08-12T07:12:21.926121Z",
     "iopub.status.idle": "2025-08-12T07:12:21.932800Z",
     "shell.execute_reply": "2025-08-12T07:12:21.932089Z"
    },
    "papermill": {
     "duration": 0.01216,
     "end_time": "2025-08-12T07:12:21.934086",
     "exception": false,
     "start_time": "2025-08-12T07:12:21.921926",
     "status": "completed"
    },
    "tags": []
   },
   "outputs": [
    {
     "name": "stdout",
     "output_type": "stream",
     "text": [
      "vocab size: 98 few chars ['\\n', '\\r', ' ', '!', '\"', '&', \"'\", '(', ')', '*'] type: <class 'numpy.ndarray'>\n"
     ]
    }
   ],
   "source": [
    "vocab = sorted(set(text))\n",
    "print(f'vocab size: {len(vocab)} few chars {vocab[:10]} type: {type(np.array(vocab))}')"
   ]
  },
  {
   "cell_type": "code",
   "execution_count": 6,
   "id": "1e1b8cc9",
   "metadata": {
    "execution": {
     "iopub.execute_input": "2025-08-12T07:12:21.942115Z",
     "iopub.status.busy": "2025-08-12T07:12:21.941822Z",
     "iopub.status.idle": "2025-08-12T07:12:21.981329Z",
     "shell.execute_reply": "2025-08-12T07:12:21.980589Z"
    },
    "papermill": {
     "duration": 0.044529,
     "end_time": "2025-08-12T07:12:21.982394",
     "exception": false,
     "start_time": "2025-08-12T07:12:21.937865",
     "status": "completed"
    },
    "tags": []
   },
   "outputs": [
    {
     "name": "stdout",
     "output_type": "stream",
     "text": [
      "ight\r\n",
      "I can hardly feel anything\r\n",
      "I hardly feel anything at all\r\n",
      "You gave me fifteen hundred\r\n",
      "To see\n"
     ]
    },
    {
     "data": {
      "text/plain": [
       "array([62, 60, 61, 73,  1,  0, 35,  2, 56, 54, 67,  2, 61, 54, 71, 57, 65,\n",
       "       78,  2, 59, 58, 58, 65,  2, 54, 67, 78, 73, 61, 62, 67, 60,  1,  0,\n",
       "       35,  2, 61, 54, 71, 57, 65, 78,  2, 59, 58, 58, 65,  2, 54, 67, 78,\n",
       "       73, 61, 62, 67, 60,  2, 54, 73,  2, 54, 65, 65,  1,  0, 51, 68, 74,\n",
       "        2, 60, 54, 75, 58,  2, 66, 58,  2, 59, 62, 59, 73, 58, 58, 67,  2,\n",
       "       61, 74, 67, 57, 71, 58, 57,  1,  0, 46, 68,  2, 72, 58, 58])"
      ]
     },
     "execution_count": 6,
     "metadata": {},
     "output_type": "execute_result"
    }
   ],
   "source": [
    "# token encoder\n",
    "char2i = {c:i for i,c in enumerate(vocab)}\n",
    "# token decoder\n",
    "i2char = np.array(vocab)\n",
    "\n",
    "encoded_text = np.array([char2i[c] for c in text])\n",
    "print(text[100:200])\n",
    "encoded_text[100:200]"
   ]
  },
  {
   "cell_type": "code",
   "execution_count": 7,
   "id": "02e28e1d",
   "metadata": {
    "execution": {
     "iopub.execute_input": "2025-08-12T07:12:21.991053Z",
     "iopub.status.busy": "2025-08-12T07:12:21.990740Z",
     "iopub.status.idle": "2025-08-12T07:12:21.995710Z",
     "shell.execute_reply": "2025-08-12T07:12:21.994865Z"
    },
    "papermill": {
     "duration": 0.010383,
     "end_time": "2025-08-12T07:12:21.996690",
     "exception": false,
     "start_time": "2025-08-12T07:12:21.986307",
     "status": "completed"
    },
    "tags": []
   },
   "outputs": [
    {
     "name": "stdout",
     "output_type": "stream",
     "text": [
      "{ ===========>\n",
      "  '\\n':   0,\n",
      "  '\\r':   1,\n",
      "  ' ' :   2,\n",
      "  '!' :   3,\n",
      "  '\"' :   4,\n",
      "  '&' :   5,\n",
      "  \"'\" :   6,\n",
      "  '(' :   7,\n",
      "  ')' :   8,\n",
      "  '*' :   9,\n",
      "  ',' :  10,\n",
      "  '-' :  11,\n",
      "  '.' :  12,\n",
      "  '/' :  13,\n",
      "  '0' :  14,\n",
      "  '1' :  15,\n",
      "  '2' :  16,\n",
      "  '3' :  17,\n",
      "  '4' :  18,\n",
      "  '5' :  19,\n",
      "  ...\n",
      "==========>}\n"
     ]
    }
   ],
   "source": [
    "print('{ ===========>')\n",
    "for char,_ in zip(char2i, range(20)):\n",
    "    print('  {:4s}: {:3d},'.format(repr(char), char2i[char]))\n",
    "print('  ...\\n==========>}')"
   ]
  },
  {
   "cell_type": "code",
   "execution_count": 8,
   "id": "931add6d",
   "metadata": {
    "execution": {
     "iopub.execute_input": "2025-08-12T07:12:22.005379Z",
     "iopub.status.busy": "2025-08-12T07:12:22.005060Z",
     "iopub.status.idle": "2025-08-12T07:12:22.089162Z",
     "shell.execute_reply": "2025-08-12T07:12:22.088465Z"
    },
    "papermill": {
     "duration": 0.089866,
     "end_time": "2025-08-12T07:12:22.090276",
     "exception": false,
     "start_time": "2025-08-12T07:12:22.000410",
     "status": "completed"
    },
    "tags": []
   },
   "outputs": [
    {
     "name": "stdout",
     "output_type": "stream",
     "text": [
      "I hat"
     ]
    },
    {
     "name": "stderr",
     "output_type": "stream",
     "text": [
      "2025-08-12 07:12:22.010746: E external/local_xla/xla/stream_executor/cuda/cuda_driver.cc:152] failed call to cuInit: INTERNAL: CUDA error: Failed call to cuInit: UNKNOWN ERROR (303)\n"
     ]
    }
   ],
   "source": [
    "SEQ_LEN = 100\n",
    "BATCH = 64\n",
    "examples_per_epoch = len(text) // (SEQ_LEN + 1)\n",
    "char_dataset = tf.data.Dataset.from_tensor_slices(encoded_text)\n",
    "for i in char_dataset.take(5):\n",
    "  print(i2char[i.numpy()] , end = \"\")\n"
   ]
  },
  {
   "cell_type": "code",
   "execution_count": 9,
   "id": "ab8fa045",
   "metadata": {
    "execution": {
     "iopub.execute_input": "2025-08-12T07:12:22.099724Z",
     "iopub.status.busy": "2025-08-12T07:12:22.099457Z",
     "iopub.status.idle": "2025-08-12T07:12:22.150759Z",
     "shell.execute_reply": "2025-08-12T07:12:22.149651Z"
    },
    "papermill": {
     "duration": 0.057383,
     "end_time": "2025-08-12T07:12:22.152472",
     "exception": false,
     "start_time": "2025-08-12T07:12:22.095089",
     "status": "completed"
    },
    "tags": []
   },
   "outputs": [],
   "source": [
    "def split_input_target(chunk):\n",
    "    input_text = chunk[:-1]\n",
    "    target_text = chunk[1:]\n",
    "    return input_text, target_text\n",
    "    \n",
    "sequences = char_dataset.batch(SEQ_LEN+1, drop_remainder=True)\n",
    "dataset = sequences.map(split_input_target)"
   ]
  },
  {
   "cell_type": "code",
   "execution_count": 10,
   "id": "50f44650",
   "metadata": {
    "execution": {
     "iopub.execute_input": "2025-08-12T07:12:22.161741Z",
     "iopub.status.busy": "2025-08-12T07:12:22.161067Z",
     "iopub.status.idle": "2025-08-12T07:12:22.195128Z",
     "shell.execute_reply": "2025-08-12T07:12:22.194232Z"
    },
    "papermill": {
     "duration": 0.039847,
     "end_time": "2025-08-12T07:12:22.196294",
     "exception": false,
     "start_time": "2025-08-12T07:12:22.156447",
     "status": "completed"
    },
    "tags": []
   },
   "outputs": [
    {
     "name": "stdout",
     "output_type": "stream",
     "text": [
      "Input data:  \"I hate you for what you did\\r\\nAnd I miss you like a little kid\\r\\nI faked it every time\\r\\nBut that's alr\"\n",
      "Target data: \" hate you for what you did\\r\\nAnd I miss you like a little kid\\r\\nI faked it every time\\r\\nBut that's alri\"\n"
     ]
    }
   ],
   "source": [
    "for input_example, target_example in  dataset.take(1):\n",
    "  print ('Input data: ', repr(''.join(i2char[input_example.numpy()])))\n",
    "  print ('Target data:', repr(''.join(i2char[target_example.numpy()])))"
   ]
  },
  {
   "cell_type": "code",
   "execution_count": 11,
   "id": "5e33023a",
   "metadata": {
    "execution": {
     "iopub.execute_input": "2025-08-12T07:12:22.204729Z",
     "iopub.status.busy": "2025-08-12T07:12:22.204478Z",
     "iopub.status.idle": "2025-08-12T07:12:22.213430Z",
     "shell.execute_reply": "2025-08-12T07:12:22.212651Z"
    },
    "papermill": {
     "duration": 0.014441,
     "end_time": "2025-08-12T07:12:22.214625",
     "exception": false,
     "start_time": "2025-08-12T07:12:22.200184",
     "status": "completed"
    },
    "tags": []
   },
   "outputs": [
    {
     "data": {
      "text/plain": [
       "<_BatchDataset element_spec=(TensorSpec(shape=(64, 100), dtype=tf.int64, name=None), TensorSpec(shape=(64, 100), dtype=tf.int64, name=None))>"
      ]
     },
     "execution_count": 11,
     "metadata": {},
     "output_type": "execute_result"
    }
   ],
   "source": [
    "# Batch size\n",
    "BATCH_SIZE = 64\n",
    "\n",
    "# Buffer size to shuffle the dataset\n",
    "# (TF data is designed to work with possibly infinite sequences,\n",
    "# so it doesn't attempt to shuffle the entire sequence in memory. Instead,\n",
    "# it maintains a buffer in which it shuffles elements).\n",
    "BUFFER_SIZE = 10000\n",
    "\n",
    "dataset = dataset.shuffle(BUFFER_SIZE).batch(BATCH_SIZE, drop_remainder=True)\n",
    "\n",
    "dataset"
   ]
  },
  {
   "cell_type": "code",
   "execution_count": 12,
   "id": "4e415c41",
   "metadata": {
    "execution": {
     "iopub.execute_input": "2025-08-12T07:12:22.222987Z",
     "iopub.status.busy": "2025-08-12T07:12:22.222739Z",
     "iopub.status.idle": "2025-08-12T07:12:22.225814Z",
     "shell.execute_reply": "2025-08-12T07:12:22.225368Z"
    },
    "papermill": {
     "duration": 0.008132,
     "end_time": "2025-08-12T07:12:22.226686",
     "exception": false,
     "start_time": "2025-08-12T07:12:22.218554",
     "status": "completed"
    },
    "tags": []
   },
   "outputs": [],
   "source": [
    "# Length of the vocabulary in chars\n",
    "vocab_size = len(vocab)\n",
    "\n",
    "# The embedding dimension\n",
    "embedding_dim = 256\n",
    "\n",
    "# Number of RNN units \n",
    "rnn_units = 512"
   ]
  },
  {
   "cell_type": "code",
   "execution_count": 13,
   "id": "64ae789c",
   "metadata": {
    "execution": {
     "iopub.execute_input": "2025-08-12T07:12:22.234983Z",
     "iopub.status.busy": "2025-08-12T07:12:22.234767Z",
     "iopub.status.idle": "2025-08-12T07:12:22.318485Z",
     "shell.execute_reply": "2025-08-12T07:12:22.317581Z"
    },
    "papermill": {
     "duration": 0.089399,
     "end_time": "2025-08-12T07:12:22.319940",
     "exception": false,
     "start_time": "2025-08-12T07:12:22.230541",
     "status": "completed"
    },
    "tags": []
   },
   "outputs": [],
   "source": [
    "class GatedRecurrentUnit(tf.keras.layers.Layer):\n",
    "    def __init__(self, units, return_sequences=False, **kwargs):\n",
    "        super().__init__()\n",
    "        self.units = units\n",
    "        self.return_sequences = return_sequences\n",
    "        self.name=\"CustomGatedRU\"\n",
    "\n",
    "    def build(self, input_shape):\n",
    "        input_dim = input_shape[-1]\n",
    "        initializer = tf.keras.initializers.GlorotUniform() #xavier initialization\n",
    "        # relevance gate\n",
    "        self.W_rc = self.add_weight(shape=(self.units, self.units), initializer=initializer, name='W_rc')\n",
    "        self.W_rx = self.add_weight(shape=(input_dim, self.units), initializer=initializer, name='W_rx')\n",
    "        self.b_r = self.add_weight(shape=(self.units,), initializer='zeros', name='b_r')\n",
    "\n",
    "        # Update gate\n",
    "        self.W_uc = self.add_weight(shape=(self.units, self.units), initializer=initializer, name='W_uc')\n",
    "        self.W_ux = self.add_weight(shape=(input_dim, self.units), initializer=initializer, name='W_ux')\n",
    "        self.b_u = self.add_weight(shape=(self.units,), initializer='zeros', name='b_u')\n",
    "\n",
    "        # potential new candidate\n",
    "        self.W_cc = self.add_weight(shape=(self.units, self.units), initializer=initializer, name='W_cc')\n",
    "        self.W_cx = self.add_weight(shape=(input_dim, self.units), initializer=initializer, name='W_cx')\n",
    "        self.b_c = self.add_weight(shape=(self.units,), initializer='zeros', name='b_c')\n",
    "\n",
    "        super().build(input_shape)\n",
    "\n",
    "\n",
    "    @tf.function\n",
    "    def call(self, inputs, initial_state=None):\n",
    "        #input : Batch, sequence/context len, Embedding\n",
    "        batch_size = tf.shape(inputs)[0]\n",
    "        seq_len = tf.shape(inputs)[1]\n",
    "        if initial_state is None:\n",
    "            h_t = tf.zeros(shape=(batch_size, self.units))\n",
    "        else:\n",
    "            h_t = initial_state\n",
    "\n",
    "        outputs = tf.TensorArray(tf.float32, size=seq_len)\n",
    "\n",
    "        for t in tf.range(seq_len):\n",
    "            x_t = inputs[:, t, :]\n",
    "            relevance_gate = tf.sigmoid((x_t @ self.W_rx) + (h_t @ self.W_rc) + self.b_r)\n",
    "            update_gate = tf.sigmoid((x_t @ self.W_ux) + (h_t @ self.W_uc) + self.b_u)\n",
    "            potential_new_candidate = tf.tanh((x_t @ self.W_cx) + relevance_gate*(h_t @ self.W_uc) + self.b_c)\n",
    "            h_t = update_gate*potential_new_candidate + (1-update_gate)*h_t\n",
    "            outputs = outputs.write(t, h_t)\n",
    "\n",
    "        outputs = outputs.stack()\n",
    "        # Transpose to the standard Keras output shape: (batch_size, sequence_length, units)\n",
    "        outputs = tf.transpose(outputs, perm=[1, 0, 2])\n",
    "        if self.return_sequences:\n",
    "            return outputs\n",
    "        else:\n",
    "            # Return only the final hidden state\n",
    "            return h_t\n",
    "\n",
    "    def get_config(self):\n",
    "        \"\"\"Enables the layer to be saved and loaded.\"\"\"\n",
    "        config = super().get_config()\n",
    "        config.update({\n",
    "            \"units\": self.units,\n",
    "            \"return_sequences\": self.return_sequences\n",
    "        })\n",
    "        return config\n",
    "\n",
    "        \n",
    "        "
   ]
  },
  {
   "cell_type": "code",
   "execution_count": 14,
   "id": "90611b3c",
   "metadata": {
    "execution": {
     "iopub.execute_input": "2025-08-12T07:12:22.328764Z",
     "iopub.status.busy": "2025-08-12T07:12:22.328520Z",
     "iopub.status.idle": "2025-08-12T07:12:22.333154Z",
     "shell.execute_reply": "2025-08-12T07:12:22.332319Z"
    },
    "papermill": {
     "duration": 0.010145,
     "end_time": "2025-08-12T07:12:22.334287",
     "exception": false,
     "start_time": "2025-08-12T07:12:22.324142",
     "status": "completed"
    },
    "tags": []
   },
   "outputs": [],
   "source": [
    "def build_model(vocab_size, embedding_dim, rnn_units, batch_size):\n",
    "  model = tf.keras.Sequential([\n",
    "                               \n",
    "    tf.keras.layers.Embedding(vocab_size, embedding_dim),\n",
    "  \n",
    "    GatedRecurrentUnit(rnn_units,\n",
    "                        return_sequences=True, name='custom_gru'),\n",
    "\n",
    "    tf.keras.layers.Dense(vocab_size,activation='relu'),\n",
    "    \n",
    "    tf.keras.layers.Dropout(0.2),\n",
    "  ])\n",
    "  return model"
   ]
  },
  {
   "cell_type": "code",
   "execution_count": 15,
   "id": "1e16f5b2",
   "metadata": {
    "execution": {
     "iopub.execute_input": "2025-08-12T07:12:22.343495Z",
     "iopub.status.busy": "2025-08-12T07:12:22.343234Z",
     "iopub.status.idle": "2025-08-12T07:12:22.356730Z",
     "shell.execute_reply": "2025-08-12T07:12:22.355929Z"
    },
    "papermill": {
     "duration": 0.019541,
     "end_time": "2025-08-12T07:12:22.358031",
     "exception": false,
     "start_time": "2025-08-12T07:12:22.338490",
     "status": "completed"
    },
    "tags": []
   },
   "outputs": [],
   "source": [
    "model = build_model(\n",
    "  vocab_size = len(vocab),\n",
    "  embedding_dim=embedding_dim,\n",
    "  rnn_units=rnn_units,\n",
    "  batch_size=BATCH_SIZE)"
   ]
  },
  {
   "cell_type": "code",
   "execution_count": 16,
   "id": "0c0c6bd4",
   "metadata": {
    "execution": {
     "iopub.execute_input": "2025-08-12T07:12:22.367201Z",
     "iopub.status.busy": "2025-08-12T07:12:22.366918Z",
     "iopub.status.idle": "2025-08-12T07:12:23.513443Z",
     "shell.execute_reply": "2025-08-12T07:12:23.512406Z"
    },
    "papermill": {
     "duration": 1.152567,
     "end_time": "2025-08-12T07:12:23.514773",
     "exception": false,
     "start_time": "2025-08-12T07:12:22.362206",
     "status": "completed"
    },
    "tags": []
   },
   "outputs": [
    {
     "name": "stdout",
     "output_type": "stream",
     "text": [
      "(64, 100, 98) # (batch_size, sequence_length, vocab_size)\n"
     ]
    }
   ],
   "source": [
    "for input_example_batch, target_example_batch in dataset.take(1):\n",
    "  example_batch_predictions = model(input_example_batch)\n",
    "  print(example_batch_predictions.shape, \"# (batch_size, sequence_length, vocab_size)\")"
   ]
  },
  {
   "cell_type": "code",
   "execution_count": 17,
   "id": "a0eb0ff9",
   "metadata": {
    "execution": {
     "iopub.execute_input": "2025-08-12T07:12:23.524166Z",
     "iopub.status.busy": "2025-08-12T07:12:23.523890Z",
     "iopub.status.idle": "2025-08-12T07:12:23.537952Z",
     "shell.execute_reply": "2025-08-12T07:12:23.536964Z"
    },
    "papermill": {
     "duration": 0.020064,
     "end_time": "2025-08-12T07:12:23.539221",
     "exception": false,
     "start_time": "2025-08-12T07:12:23.519157",
     "status": "completed"
    },
    "tags": []
   },
   "outputs": [
    {
     "data": {
      "text/html": [
       "<pre style=\"white-space:pre;overflow-x:auto;line-height:normal;font-family:Menlo,'DejaVu Sans Mono',consolas,'Courier New',monospace\"><span style=\"font-weight: bold\">Model: \"sequential\"</span>\n",
       "</pre>\n"
      ],
      "text/plain": [
       "\u001b[1mModel: \"sequential\"\u001b[0m\n"
      ]
     },
     "metadata": {},
     "output_type": "display_data"
    },
    {
     "data": {
      "text/html": [
       "<pre style=\"white-space:pre;overflow-x:auto;line-height:normal;font-family:Menlo,'DejaVu Sans Mono',consolas,'Courier New',monospace\">┏━━━━━━━━━━━━━━━━━━━━━━━━━━━━━━━━━┳━━━━━━━━━━━━━━━━━━━━━━━━┳━━━━━━━━━━━━━━━┓\n",
       "┃<span style=\"font-weight: bold\"> Layer (type)                    </span>┃<span style=\"font-weight: bold\"> Output Shape           </span>┃<span style=\"font-weight: bold\">       Param # </span>┃\n",
       "┡━━━━━━━━━━━━━━━━━━━━━━━━━━━━━━━━━╇━━━━━━━━━━━━━━━━━━━━━━━━╇━━━━━━━━━━━━━━━┩\n",
       "│ embedding (<span style=\"color: #0087ff; text-decoration-color: #0087ff\">Embedding</span>)           │ (<span style=\"color: #00af00; text-decoration-color: #00af00\">64</span>, <span style=\"color: #00af00; text-decoration-color: #00af00\">100</span>, <span style=\"color: #00af00; text-decoration-color: #00af00\">256</span>)         │        <span style=\"color: #00af00; text-decoration-color: #00af00\">25,088</span> │\n",
       "├─────────────────────────────────┼────────────────────────┼───────────────┤\n",
       "│ CustomGatedRU                   │ (<span style=\"color: #00af00; text-decoration-color: #00af00\">64</span>, <span style=\"color: #00d7ff; text-decoration-color: #00d7ff\">None</span>, <span style=\"color: #00af00; text-decoration-color: #00af00\">512</span>)        │     <span style=\"color: #00af00; text-decoration-color: #00af00\">1,181,184</span> │\n",
       "│ (<span style=\"color: #0087ff; text-decoration-color: #0087ff\">GatedRecurrentUnit</span>)            │                        │               │\n",
       "├─────────────────────────────────┼────────────────────────┼───────────────┤\n",
       "│ dense (<span style=\"color: #0087ff; text-decoration-color: #0087ff\">Dense</span>)                   │ (<span style=\"color: #00af00; text-decoration-color: #00af00\">64</span>, <span style=\"color: #00d7ff; text-decoration-color: #00d7ff\">None</span>, <span style=\"color: #00af00; text-decoration-color: #00af00\">98</span>)         │        <span style=\"color: #00af00; text-decoration-color: #00af00\">50,274</span> │\n",
       "├─────────────────────────────────┼────────────────────────┼───────────────┤\n",
       "│ dropout (<span style=\"color: #0087ff; text-decoration-color: #0087ff\">Dropout</span>)               │ (<span style=\"color: #00af00; text-decoration-color: #00af00\">64</span>, <span style=\"color: #00d7ff; text-decoration-color: #00d7ff\">None</span>, <span style=\"color: #00af00; text-decoration-color: #00af00\">98</span>)         │             <span style=\"color: #00af00; text-decoration-color: #00af00\">0</span> │\n",
       "└─────────────────────────────────┴────────────────────────┴───────────────┘\n",
       "</pre>\n"
      ],
      "text/plain": [
       "┏━━━━━━━━━━━━━━━━━━━━━━━━━━━━━━━━━┳━━━━━━━━━━━━━━━━━━━━━━━━┳━━━━━━━━━━━━━━━┓\n",
       "┃\u001b[1m \u001b[0m\u001b[1mLayer (type)                   \u001b[0m\u001b[1m \u001b[0m┃\u001b[1m \u001b[0m\u001b[1mOutput Shape          \u001b[0m\u001b[1m \u001b[0m┃\u001b[1m \u001b[0m\u001b[1m      Param #\u001b[0m\u001b[1m \u001b[0m┃\n",
       "┡━━━━━━━━━━━━━━━━━━━━━━━━━━━━━━━━━╇━━━━━━━━━━━━━━━━━━━━━━━━╇━━━━━━━━━━━━━━━┩\n",
       "│ embedding (\u001b[38;5;33mEmbedding\u001b[0m)           │ (\u001b[38;5;34m64\u001b[0m, \u001b[38;5;34m100\u001b[0m, \u001b[38;5;34m256\u001b[0m)         │        \u001b[38;5;34m25,088\u001b[0m │\n",
       "├─────────────────────────────────┼────────────────────────┼───────────────┤\n",
       "│ CustomGatedRU                   │ (\u001b[38;5;34m64\u001b[0m, \u001b[38;5;45mNone\u001b[0m, \u001b[38;5;34m512\u001b[0m)        │     \u001b[38;5;34m1,181,184\u001b[0m │\n",
       "│ (\u001b[38;5;33mGatedRecurrentUnit\u001b[0m)            │                        │               │\n",
       "├─────────────────────────────────┼────────────────────────┼───────────────┤\n",
       "│ dense (\u001b[38;5;33mDense\u001b[0m)                   │ (\u001b[38;5;34m64\u001b[0m, \u001b[38;5;45mNone\u001b[0m, \u001b[38;5;34m98\u001b[0m)         │        \u001b[38;5;34m50,274\u001b[0m │\n",
       "├─────────────────────────────────┼────────────────────────┼───────────────┤\n",
       "│ dropout (\u001b[38;5;33mDropout\u001b[0m)               │ (\u001b[38;5;34m64\u001b[0m, \u001b[38;5;45mNone\u001b[0m, \u001b[38;5;34m98\u001b[0m)         │             \u001b[38;5;34m0\u001b[0m │\n",
       "└─────────────────────────────────┴────────────────────────┴───────────────┘\n"
      ]
     },
     "metadata": {},
     "output_type": "display_data"
    },
    {
     "data": {
      "text/html": [
       "<pre style=\"white-space:pre;overflow-x:auto;line-height:normal;font-family:Menlo,'DejaVu Sans Mono',consolas,'Courier New',monospace\"><span style=\"font-weight: bold\"> Total params: </span><span style=\"color: #00af00; text-decoration-color: #00af00\">1,256,546</span> (4.79 MB)\n",
       "</pre>\n"
      ],
      "text/plain": [
       "\u001b[1m Total params: \u001b[0m\u001b[38;5;34m1,256,546\u001b[0m (4.79 MB)\n"
      ]
     },
     "metadata": {},
     "output_type": "display_data"
    },
    {
     "data": {
      "text/html": [
       "<pre style=\"white-space:pre;overflow-x:auto;line-height:normal;font-family:Menlo,'DejaVu Sans Mono',consolas,'Courier New',monospace\"><span style=\"font-weight: bold\"> Trainable params: </span><span style=\"color: #00af00; text-decoration-color: #00af00\">1,256,546</span> (4.79 MB)\n",
       "</pre>\n"
      ],
      "text/plain": [
       "\u001b[1m Trainable params: \u001b[0m\u001b[38;5;34m1,256,546\u001b[0m (4.79 MB)\n"
      ]
     },
     "metadata": {},
     "output_type": "display_data"
    },
    {
     "data": {
      "text/html": [
       "<pre style=\"white-space:pre;overflow-x:auto;line-height:normal;font-family:Menlo,'DejaVu Sans Mono',consolas,'Courier New',monospace\"><span style=\"font-weight: bold\"> Non-trainable params: </span><span style=\"color: #00af00; text-decoration-color: #00af00\">0</span> (0.00 B)\n",
       "</pre>\n"
      ],
      "text/plain": [
       "\u001b[1m Non-trainable params: \u001b[0m\u001b[38;5;34m0\u001b[0m (0.00 B)\n"
      ]
     },
     "metadata": {},
     "output_type": "display_data"
    }
   ],
   "source": [
    "model.summary()"
   ]
  },
  {
   "cell_type": "code",
   "execution_count": 18,
   "id": "5b325dbb",
   "metadata": {
    "execution": {
     "iopub.execute_input": "2025-08-12T07:12:23.549277Z",
     "iopub.status.busy": "2025-08-12T07:12:23.548963Z",
     "iopub.status.idle": "2025-08-12T07:12:23.565088Z",
     "shell.execute_reply": "2025-08-12T07:12:23.564160Z"
    },
    "papermill": {
     "duration": 0.022903,
     "end_time": "2025-08-12T07:12:23.566669",
     "exception": false,
     "start_time": "2025-08-12T07:12:23.543766",
     "status": "completed"
    },
    "tags": []
   },
   "outputs": [
    {
     "name": "stdout",
     "output_type": "stream",
     "text": [
      "(100,)\n",
      "Input: \n",
      " \"(Woo, woo) somethin' foreign (Skrrt, skrrt)\\r\\nBust it up, a rain forest, it be pourin', yeah\\r\\nKiss me\"\n",
      "\n",
      "Next Char Predictions: \n",
      " 'Sm7aK,”b9Oq36\\u205fQh1íQP5¡J1TGODx7\\x93—eK,2jSCq\\r7M(\\n\\x93(V)o’FLTEGzy”\\r\"r(HáQ…B\\u2005\\rnGmRDq1)oj”\\n*WEíTpwdKá/S6bRHry'\n"
     ]
    }
   ],
   "source": [
    "sampled_indices = tf.random.categorical(example_batch_predictions[0], num_samples=1)\n",
    "sampled_indices = tf.squeeze(sampled_indices,axis=-1).numpy()\n",
    "print(sampled_indices.shape)\n",
    "print(\"Input: \\n\", repr(\"\".join(i2char[input_example_batch[0]])))\n",
    "print()\n",
    "print(\"Next Char Predictions: \\n\", repr(\"\".join(i2char[sampled_indices ])))\n"
   ]
  },
  {
   "cell_type": "code",
   "execution_count": 19,
   "id": "70cc2ae7",
   "metadata": {
    "execution": {
     "iopub.execute_input": "2025-08-12T07:12:23.577195Z",
     "iopub.status.busy": "2025-08-12T07:12:23.576896Z",
     "iopub.status.idle": "2025-08-12T07:12:23.582187Z",
     "shell.execute_reply": "2025-08-12T07:12:23.581507Z"
    },
    "papermill": {
     "duration": 0.01176,
     "end_time": "2025-08-12T07:12:23.583236",
     "exception": false,
     "start_time": "2025-08-12T07:12:23.571476",
     "status": "completed"
    },
    "tags": []
   },
   "outputs": [
    {
     "data": {
      "text/plain": [
       "array([',', '6', 'K'], dtype='<U1')"
      ]
     },
     "execution_count": 19,
     "metadata": {},
     "output_type": "execute_result"
    }
   ],
   "source": [
    "i2char[[10, 20, 37]]"
   ]
  },
  {
   "cell_type": "code",
   "execution_count": 20,
   "id": "90e7709c",
   "metadata": {
    "execution": {
     "iopub.execute_input": "2025-08-12T07:12:23.593781Z",
     "iopub.status.busy": "2025-08-12T07:12:23.593498Z",
     "iopub.status.idle": "2025-08-12T07:12:23.621065Z",
     "shell.execute_reply": "2025-08-12T07:12:23.620194Z"
    },
    "papermill": {
     "duration": 0.034081,
     "end_time": "2025-08-12T07:12:23.622228",
     "exception": false,
     "start_time": "2025-08-12T07:12:23.588147",
     "status": "completed"
    },
    "tags": []
   },
   "outputs": [
    {
     "name": "stdout",
     "output_type": "stream",
     "text": [
      "Prediction shape:  (64, 100, 98)  # (batch_size, sequence_length, vocab_size)\n",
      "scalar_loss:       4.5846944\n"
     ]
    }
   ],
   "source": [
    "def loss(labels, logits):\n",
    "  return tf.keras.losses.sparse_categorical_crossentropy(labels, logits, from_logits=True)\n",
    "\n",
    "example_batch_loss  = loss(target_example_batch, example_batch_predictions)\n",
    "print(\"Prediction shape: \", example_batch_predictions.shape, \" # (batch_size, sequence_length, vocab_size)\")\n",
    "print(\"scalar_loss:      \", example_batch_loss.numpy().mean())\n",
    "\n",
    "model.compile(optimizer='adam', loss=loss)\n"
   ]
  },
  {
   "cell_type": "code",
   "execution_count": 21,
   "id": "84574dfb",
   "metadata": {
    "execution": {
     "iopub.execute_input": "2025-08-12T07:12:23.632607Z",
     "iopub.status.busy": "2025-08-12T07:12:23.632339Z",
     "iopub.status.idle": "2025-08-12T07:12:23.636733Z",
     "shell.execute_reply": "2025-08-12T07:12:23.635733Z"
    },
    "papermill": {
     "duration": 0.011262,
     "end_time": "2025-08-12T07:12:23.638205",
     "exception": false,
     "start_time": "2025-08-12T07:12:23.626943",
     "status": "completed"
    },
    "tags": []
   },
   "outputs": [],
   "source": [
    "# Directory where the checkpoints will be saved\n",
    "checkpoint_dir = './training_checkpoints'\n",
    "\n",
    "# Name of the checkpoint files\n",
    "checkpoint_prefix = os.path.join(checkpoint_dir, \"ckpt_{epoch}.weights.h5\")\n",
    "\n",
    "checkpoint_callback=tf.keras.callbacks.ModelCheckpoint(\n",
    "    filepath=checkpoint_prefix,\n",
    "    save_weights_only=True)"
   ]
  },
  {
   "cell_type": "code",
   "execution_count": 22,
   "id": "f4fbafea",
   "metadata": {
    "execution": {
     "iopub.execute_input": "2025-08-12T07:12:23.648313Z",
     "iopub.status.busy": "2025-08-12T07:12:23.648040Z",
     "iopub.status.idle": "2025-08-12T07:28:27.365441Z",
     "shell.execute_reply": "2025-08-12T07:28:27.364603Z"
    },
    "papermill": {
     "duration": 963.723707,
     "end_time": "2025-08-12T07:28:27.366642",
     "exception": false,
     "start_time": "2025-08-12T07:12:23.642935",
     "status": "completed"
    },
    "tags": []
   },
   "outputs": [
    {
     "name": "stdout",
     "output_type": "stream",
     "text": [
      "Epoch 1/25\n"
     ]
    },
    {
     "name": "stderr",
     "output_type": "stream",
     "text": [
      "/usr/local/lib/python3.11/dist-packages/keras/src/optimizers/base_optimizer.py:774: UserWarning: Gradients do not exist for variables ['sequential/CustomGatedRU/W_cc'] when minimizing the loss. If using `model.compile()`, did you forget to provide a `loss` argument?\n",
      "  warnings.warn(\n"
     ]
    },
    {
     "name": "stdout",
     "output_type": "stream",
     "text": [
      "\u001b[1m62/62\u001b[0m \u001b[32m━━━━━━━━━━━━━━━━━━━━\u001b[0m\u001b[37m\u001b[0m \u001b[1m42s\u001b[0m 629ms/step - loss: 3.8146\n",
      "Epoch 2/25\n",
      "\u001b[1m62/62\u001b[0m \u001b[32m━━━━━━━━━━━━━━━━━━━━\u001b[0m\u001b[37m\u001b[0m \u001b[1m38s\u001b[0m 609ms/step - loss: 2.9175\n",
      "Epoch 3/25\n",
      "\u001b[1m62/62\u001b[0m \u001b[32m━━━━━━━━━━━━━━━━━━━━\u001b[0m\u001b[37m\u001b[0m \u001b[1m38s\u001b[0m 610ms/step - loss: 2.7239\n",
      "Epoch 4/25\n",
      "\u001b[1m62/62\u001b[0m \u001b[32m━━━━━━━━━━━━━━━━━━━━\u001b[0m\u001b[37m\u001b[0m \u001b[1m38s\u001b[0m 601ms/step - loss: 2.5943\n",
      "Epoch 5/25\n",
      "\u001b[1m62/62\u001b[0m \u001b[32m━━━━━━━━━━━━━━━━━━━━\u001b[0m\u001b[37m\u001b[0m \u001b[1m39s\u001b[0m 618ms/step - loss: 2.4939\n",
      "Epoch 6/25\n",
      "\u001b[1m62/62\u001b[0m \u001b[32m━━━━━━━━━━━━━━━━━━━━\u001b[0m\u001b[37m\u001b[0m \u001b[1m40s\u001b[0m 634ms/step - loss: 2.4299\n",
      "Epoch 7/25\n",
      "\u001b[1m62/62\u001b[0m \u001b[32m━━━━━━━━━━━━━━━━━━━━\u001b[0m\u001b[37m\u001b[0m \u001b[1m39s\u001b[0m 613ms/step - loss: 2.3554\n",
      "Epoch 8/25\n",
      "\u001b[1m62/62\u001b[0m \u001b[32m━━━━━━━━━━━━━━━━━━━━\u001b[0m\u001b[37m\u001b[0m \u001b[1m38s\u001b[0m 601ms/step - loss: 2.3098\n",
      "Epoch 9/25\n",
      "\u001b[1m62/62\u001b[0m \u001b[32m━━━━━━━━━━━━━━━━━━━━\u001b[0m\u001b[37m\u001b[0m \u001b[1m38s\u001b[0m 601ms/step - loss: 2.2760\n",
      "Epoch 10/25\n",
      "\u001b[1m62/62\u001b[0m \u001b[32m━━━━━━━━━━━━━━━━━━━━\u001b[0m\u001b[37m\u001b[0m \u001b[1m37s\u001b[0m 595ms/step - loss: 2.2205\n",
      "Epoch 11/25\n",
      "\u001b[1m62/62\u001b[0m \u001b[32m━━━━━━━━━━━━━━━━━━━━\u001b[0m\u001b[37m\u001b[0m \u001b[1m38s\u001b[0m 601ms/step - loss: 2.1886\n",
      "Epoch 12/25\n",
      "\u001b[1m62/62\u001b[0m \u001b[32m━━━━━━━━━━━━━━━━━━━━\u001b[0m\u001b[37m\u001b[0m \u001b[1m38s\u001b[0m 600ms/step - loss: 2.1659\n",
      "Epoch 13/25\n",
      "\u001b[1m62/62\u001b[0m \u001b[32m━━━━━━━━━━━━━━━━━━━━\u001b[0m\u001b[37m\u001b[0m \u001b[1m41s\u001b[0m 596ms/step - loss: 2.1269\n",
      "Epoch 14/25\n",
      "\u001b[1m62/62\u001b[0m \u001b[32m━━━━━━━━━━━━━━━━━━━━\u001b[0m\u001b[37m\u001b[0m \u001b[1m41s\u001b[0m 591ms/step - loss: 2.0955\n",
      "Epoch 15/25\n",
      "\u001b[1m62/62\u001b[0m \u001b[32m━━━━━━━━━━━━━━━━━━━━\u001b[0m\u001b[37m\u001b[0m \u001b[1m37s\u001b[0m 589ms/step - loss: 2.0701\n",
      "Epoch 16/25\n",
      "\u001b[1m62/62\u001b[0m \u001b[32m━━━━━━━━━━━━━━━━━━━━\u001b[0m\u001b[37m\u001b[0m \u001b[1m37s\u001b[0m 593ms/step - loss: 2.0116\n",
      "Epoch 17/25\n",
      "\u001b[1m62/62\u001b[0m \u001b[32m━━━━━━━━━━━━━━━━━━━━\u001b[0m\u001b[37m\u001b[0m \u001b[1m37s\u001b[0m 590ms/step - loss: 1.9849\n",
      "Epoch 18/25\n",
      "\u001b[1m62/62\u001b[0m \u001b[32m━━━━━━━━━━━━━━━━━━━━\u001b[0m\u001b[37m\u001b[0m \u001b[1m37s\u001b[0m 593ms/step - loss: 1.9603\n",
      "Epoch 19/25\n",
      "\u001b[1m62/62\u001b[0m \u001b[32m━━━━━━━━━━━━━━━━━━━━\u001b[0m\u001b[37m\u001b[0m \u001b[1m41s\u001b[0m 601ms/step - loss: 1.9316\n",
      "Epoch 20/25\n",
      "\u001b[1m62/62\u001b[0m \u001b[32m━━━━━━━━━━━━━━━━━━━━\u001b[0m\u001b[37m\u001b[0m \u001b[1m38s\u001b[0m 600ms/step - loss: 1.8937\n",
      "Epoch 21/25\n",
      "\u001b[1m62/62\u001b[0m \u001b[32m━━━━━━━━━━━━━━━━━━━━\u001b[0m\u001b[37m\u001b[0m \u001b[1m38s\u001b[0m 604ms/step - loss: 1.8742\n",
      "Epoch 22/25\n",
      "\u001b[1m62/62\u001b[0m \u001b[32m━━━━━━━━━━━━━━━━━━━━\u001b[0m\u001b[37m\u001b[0m \u001b[1m38s\u001b[0m 608ms/step - loss: 1.8487\n",
      "Epoch 23/25\n",
      "\u001b[1m62/62\u001b[0m \u001b[32m━━━━━━━━━━━━━━━━━━━━\u001b[0m\u001b[37m\u001b[0m \u001b[1m38s\u001b[0m 600ms/step - loss: 1.8266\n",
      "Epoch 24/25\n",
      "\u001b[1m62/62\u001b[0m \u001b[32m━━━━━━━━━━━━━━━━━━━━\u001b[0m\u001b[37m\u001b[0m \u001b[1m38s\u001b[0m 610ms/step - loss: 1.7795\n",
      "Epoch 25/25\n",
      "\u001b[1m62/62\u001b[0m \u001b[32m━━━━━━━━━━━━━━━━━━━━\u001b[0m\u001b[37m\u001b[0m \u001b[1m40s\u001b[0m 641ms/step - loss: 1.7643\n"
     ]
    }
   ],
   "source": [
    "EPOCHS=25 \n",
    "history = model.fit(dataset, epochs=EPOCHS, callbacks=[checkpoint_callback])"
   ]
  },
  {
   "cell_type": "code",
   "execution_count": 23,
   "id": "778264cb",
   "metadata": {
    "execution": {
     "iopub.execute_input": "2025-08-12T07:28:27.502639Z",
     "iopub.status.busy": "2025-08-12T07:28:27.502254Z",
     "iopub.status.idle": "2025-08-12T07:28:27.712497Z",
     "shell.execute_reply": "2025-08-12T07:28:27.711443Z"
    },
    "papermill": {
     "duration": 0.279567,
     "end_time": "2025-08-12T07:28:27.714151",
     "exception": false,
     "start_time": "2025-08-12T07:28:27.434584",
     "status": "completed"
    },
    "tags": []
   },
   "outputs": [
    {
     "data": {
      "text/html": [
       "<pre style=\"white-space:pre;overflow-x:auto;line-height:normal;font-family:Menlo,'DejaVu Sans Mono',consolas,'Courier New',monospace\"><span style=\"font-weight: bold\">Model: \"sequential_1\"</span>\n",
       "</pre>\n"
      ],
      "text/plain": [
       "\u001b[1mModel: \"sequential_1\"\u001b[0m\n"
      ]
     },
     "metadata": {},
     "output_type": "display_data"
    },
    {
     "data": {
      "text/html": [
       "<pre style=\"white-space:pre;overflow-x:auto;line-height:normal;font-family:Menlo,'DejaVu Sans Mono',consolas,'Courier New',monospace\">┏━━━━━━━━━━━━━━━━━━━━━━━━━━━━━━━━━┳━━━━━━━━━━━━━━━━━━━━━━━━┳━━━━━━━━━━━━━━━┓\n",
       "┃<span style=\"font-weight: bold\"> Layer (type)                    </span>┃<span style=\"font-weight: bold\"> Output Shape           </span>┃<span style=\"font-weight: bold\">       Param # </span>┃\n",
       "┡━━━━━━━━━━━━━━━━━━━━━━━━━━━━━━━━━╇━━━━━━━━━━━━━━━━━━━━━━━━╇━━━━━━━━━━━━━━━┩\n",
       "│ embedding_1 (<span style=\"color: #0087ff; text-decoration-color: #0087ff\">Embedding</span>)         │ (<span style=\"color: #00af00; text-decoration-color: #00af00\">1</span>, <span style=\"color: #00d7ff; text-decoration-color: #00d7ff\">None</span>, <span style=\"color: #00af00; text-decoration-color: #00af00\">256</span>)         │        <span style=\"color: #00af00; text-decoration-color: #00af00\">25,088</span> │\n",
       "├─────────────────────────────────┼────────────────────────┼───────────────┤\n",
       "│ CustomGatedRU                   │ (<span style=\"color: #00af00; text-decoration-color: #00af00\">1</span>, <span style=\"color: #00d7ff; text-decoration-color: #00d7ff\">None</span>, <span style=\"color: #00af00; text-decoration-color: #00af00\">512</span>)         │     <span style=\"color: #00af00; text-decoration-color: #00af00\">1,181,184</span> │\n",
       "│ (<span style=\"color: #0087ff; text-decoration-color: #0087ff\">GatedRecurrentUnit</span>)            │                        │               │\n",
       "├─────────────────────────────────┼────────────────────────┼───────────────┤\n",
       "│ dense_1 (<span style=\"color: #0087ff; text-decoration-color: #0087ff\">Dense</span>)                 │ (<span style=\"color: #00af00; text-decoration-color: #00af00\">1</span>, <span style=\"color: #00d7ff; text-decoration-color: #00d7ff\">None</span>, <span style=\"color: #00af00; text-decoration-color: #00af00\">98</span>)          │        <span style=\"color: #00af00; text-decoration-color: #00af00\">50,274</span> │\n",
       "├─────────────────────────────────┼────────────────────────┼───────────────┤\n",
       "│ dropout_1 (<span style=\"color: #0087ff; text-decoration-color: #0087ff\">Dropout</span>)             │ (<span style=\"color: #00af00; text-decoration-color: #00af00\">1</span>, <span style=\"color: #00d7ff; text-decoration-color: #00d7ff\">None</span>, <span style=\"color: #00af00; text-decoration-color: #00af00\">98</span>)          │             <span style=\"color: #00af00; text-decoration-color: #00af00\">0</span> │\n",
       "└─────────────────────────────────┴────────────────────────┴───────────────┘\n",
       "</pre>\n"
      ],
      "text/plain": [
       "┏━━━━━━━━━━━━━━━━━━━━━━━━━━━━━━━━━┳━━━━━━━━━━━━━━━━━━━━━━━━┳━━━━━━━━━━━━━━━┓\n",
       "┃\u001b[1m \u001b[0m\u001b[1mLayer (type)                   \u001b[0m\u001b[1m \u001b[0m┃\u001b[1m \u001b[0m\u001b[1mOutput Shape          \u001b[0m\u001b[1m \u001b[0m┃\u001b[1m \u001b[0m\u001b[1m      Param #\u001b[0m\u001b[1m \u001b[0m┃\n",
       "┡━━━━━━━━━━━━━━━━━━━━━━━━━━━━━━━━━╇━━━━━━━━━━━━━━━━━━━━━━━━╇━━━━━━━━━━━━━━━┩\n",
       "│ embedding_1 (\u001b[38;5;33mEmbedding\u001b[0m)         │ (\u001b[38;5;34m1\u001b[0m, \u001b[38;5;45mNone\u001b[0m, \u001b[38;5;34m256\u001b[0m)         │        \u001b[38;5;34m25,088\u001b[0m │\n",
       "├─────────────────────────────────┼────────────────────────┼───────────────┤\n",
       "│ CustomGatedRU                   │ (\u001b[38;5;34m1\u001b[0m, \u001b[38;5;45mNone\u001b[0m, \u001b[38;5;34m512\u001b[0m)         │     \u001b[38;5;34m1,181,184\u001b[0m │\n",
       "│ (\u001b[38;5;33mGatedRecurrentUnit\u001b[0m)            │                        │               │\n",
       "├─────────────────────────────────┼────────────────────────┼───────────────┤\n",
       "│ dense_1 (\u001b[38;5;33mDense\u001b[0m)                 │ (\u001b[38;5;34m1\u001b[0m, \u001b[38;5;45mNone\u001b[0m, \u001b[38;5;34m98\u001b[0m)          │        \u001b[38;5;34m50,274\u001b[0m │\n",
       "├─────────────────────────────────┼────────────────────────┼───────────────┤\n",
       "│ dropout_1 (\u001b[38;5;33mDropout\u001b[0m)             │ (\u001b[38;5;34m1\u001b[0m, \u001b[38;5;45mNone\u001b[0m, \u001b[38;5;34m98\u001b[0m)          │             \u001b[38;5;34m0\u001b[0m │\n",
       "└─────────────────────────────────┴────────────────────────┴───────────────┘\n"
      ]
     },
     "metadata": {},
     "output_type": "display_data"
    },
    {
     "data": {
      "text/html": [
       "<pre style=\"white-space:pre;overflow-x:auto;line-height:normal;font-family:Menlo,'DejaVu Sans Mono',consolas,'Courier New',monospace\"><span style=\"font-weight: bold\"> Total params: </span><span style=\"color: #00af00; text-decoration-color: #00af00\">1,256,546</span> (4.79 MB)\n",
       "</pre>\n"
      ],
      "text/plain": [
       "\u001b[1m Total params: \u001b[0m\u001b[38;5;34m1,256,546\u001b[0m (4.79 MB)\n"
      ]
     },
     "metadata": {},
     "output_type": "display_data"
    },
    {
     "data": {
      "text/html": [
       "<pre style=\"white-space:pre;overflow-x:auto;line-height:normal;font-family:Menlo,'DejaVu Sans Mono',consolas,'Courier New',monospace\"><span style=\"font-weight: bold\"> Trainable params: </span><span style=\"color: #00af00; text-decoration-color: #00af00\">1,256,546</span> (4.79 MB)\n",
       "</pre>\n"
      ],
      "text/plain": [
       "\u001b[1m Trainable params: \u001b[0m\u001b[38;5;34m1,256,546\u001b[0m (4.79 MB)\n"
      ]
     },
     "metadata": {},
     "output_type": "display_data"
    },
    {
     "data": {
      "text/html": [
       "<pre style=\"white-space:pre;overflow-x:auto;line-height:normal;font-family:Menlo,'DejaVu Sans Mono',consolas,'Courier New',monospace\"><span style=\"font-weight: bold\"> Non-trainable params: </span><span style=\"color: #00af00; text-decoration-color: #00af00\">0</span> (0.00 B)\n",
       "</pre>\n"
      ],
      "text/plain": [
       "\u001b[1m Non-trainable params: \u001b[0m\u001b[38;5;34m0\u001b[0m (0.00 B)\n"
      ]
     },
     "metadata": {},
     "output_type": "display_data"
    }
   ],
   "source": [
    "model = build_model(vocab_size, embedding_dim, rnn_units, batch_size=1)\n",
    "model.build(tf.TensorShape([1, None]))\n",
    "model.load_weights(\"./training_checkpoints/ckpt_25.weights.h5\")\n",
    "model.summary()"
   ]
  },
  {
   "cell_type": "code",
   "execution_count": 24,
   "id": "a70721f6",
   "metadata": {
    "execution": {
     "iopub.execute_input": "2025-08-12T07:28:27.848334Z",
     "iopub.status.busy": "2025-08-12T07:28:27.847961Z",
     "iopub.status.idle": "2025-08-12T07:28:27.855034Z",
     "shell.execute_reply": "2025-08-12T07:28:27.854418Z"
    },
    "papermill": {
     "duration": 0.07993,
     "end_time": "2025-08-12T07:28:27.856089",
     "exception": false,
     "start_time": "2025-08-12T07:28:27.776159",
     "status": "completed"
    },
    "tags": []
   },
   "outputs": [],
   "source": [
    "def generate_text(model, chars_to_generate , temp , start_string):\n",
    "  # Evaluation step (generating text using the learned model)\n",
    "\n",
    "  # Number of characters to generate\n",
    "  num_generate = chars_to_generate\n",
    "\n",
    "  # Converting our start string to numbers (vectorizing)\n",
    "  input_eval = [char2i[s] for s in start_string]\n",
    "  input_eval = tf.expand_dims(input_eval, 0)\n",
    "\n",
    "  # Empty string to store our results\n",
    "  text_generated = []\n",
    "\n",
    "  # Low temperatures results in more predictable text.\n",
    "  # Higher temperatures results in more surprising text.\n",
    "  # Experiment to find the best setting.\n",
    "  temperature = temp\n",
    "\n",
    "  # Here batch size == 1\n",
    "  for i in range(num_generate):\n",
    "      predictions = model(input_eval)\n",
    "      # remove the batch dimension\n",
    "      predictions = tf.squeeze(predictions, 0)\n",
    "\n",
    "      # using a categorical distribution to predict the character returned by the model\n",
    "      predictions = predictions / temperature\n",
    "      predicted_id = tf.random.categorical(predictions, num_samples=1)[-1,0].numpy()\n",
    "\n",
    "      # We pass the predicted character as the next input to the model\n",
    "      # along with the previous hidden state\n",
    "      input_eval = tf.expand_dims([predicted_id], 0)\n",
    "\n",
    "      text_generated.append(i2char[predicted_id])\n",
    "\n",
    "  return (start_string + ''.join(text_generated))"
   ]
  },
  {
   "cell_type": "code",
   "execution_count": 25,
   "id": "5d7c8e72",
   "metadata": {
    "execution": {
     "iopub.execute_input": "2025-08-12T07:28:28.028277Z",
     "iopub.status.busy": "2025-08-12T07:28:28.028027Z",
     "iopub.status.idle": "2025-08-12T07:28:30.988323Z",
     "shell.execute_reply": "2025-08-12T07:28:30.987302Z"
    },
    "papermill": {
     "duration": 3.063341,
     "end_time": "2025-08-12T07:28:30.990365",
     "exception": false,
     "start_time": "2025-08-12T07:28:27.927024",
     "status": "completed"
    },
    "tags": []
   },
   "outputs": [
    {
     "name": "stdout",
     "output_type": "stream",
     "text": [
      "Flower “Hebf?\r\n",
      "DIth qu6£y0d arI é s)\r\n",
      "swito4\r\n",
      "ti!\r\n",
      "shas !\r\n",
      "'th)\r\n",
      "S, lReavelliu'th\r\n",
      "I'sUs dbr; ’te ll sthe–\r\n",
      "HaAn)\r\n",
      "\r\n",
      "I Ro0 n déM9soUP\n",
      "r n mJand“é EdScot(DblThx autfO…\r\n",
      "HoDásSI wohe ; ?\r\n",
      "{m mZnghacey-]4\r\n",
      "Tx m6 k¡xadUwEde6óng!\r\n",
      "CithiKe2{¡ve”\r\n",
      "\r\n",
      "Ohig&Kn-m—YHeBenc(StDo a8y, . bulhja wNo!\r\n",
      "I buth5 {Plin*NolgI's sPWilet, Noué s¨\r\n",
      "(T¨e Yx m t m \r\n",
      "Hnd t/JVainY¨:, 5 qu3 m-cSoUSt‘l/esthhandoZid gheneal¡í\r\n",
      "Ke\r\n",
      "HarewaEd3BuriDu2cX\r\n",
      "4YuWoTe 2\r\n",
      "Hal dT!\r\n",
      "bay0 k p llQMyoveZngWheayquc'le PlaFí\r\n",
      "lw ye alwapSatouZp má\n"
     ]
    }
   ],
   "source": [
    "from numpy import arange\n",
    "\n",
    "chars_to_generate = 500 \n",
    "\n",
    "print(generate_text(model , chars_to_generate , 0.99 , start_string=u\"Flower \"))"
   ]
  },
  {
   "cell_type": "code",
   "execution_count": null,
   "id": "87c2cadc",
   "metadata": {
    "papermill": {
     "duration": 0.065977,
     "end_time": "2025-08-12T07:28:31.118657",
     "exception": false,
     "start_time": "2025-08-12T07:28:31.052680",
     "status": "completed"
    },
    "tags": []
   },
   "outputs": [],
   "source": []
  }
 ],
 "metadata": {
  "kaggle": {
   "accelerator": "none",
   "dataSources": [
    {
     "datasetId": 700363,
     "sourceId": 1224724,
     "sourceType": "datasetVersion"
    }
   ],
   "dockerImageVersionId": 31089,
   "isGpuEnabled": false,
   "isInternetEnabled": true,
   "language": "python",
   "sourceType": "notebook"
  },
  "kernelspec": {
   "display_name": "Python 3",
   "language": "python",
   "name": "python3"
  },
  "language_info": {
   "codemirror_mode": {
    "name": "ipython",
    "version": 3
   },
   "file_extension": ".py",
   "mimetype": "text/x-python",
   "name": "python",
   "nbconvert_exporter": "python",
   "pygments_lexer": "ipython3",
   "version": "3.11.13"
  },
  "papermill": {
   "default_parameters": {},
   "duration": 995.895297,
   "end_time": "2025-08-12T07:28:34.854444",
   "environment_variables": {},
   "exception": null,
   "input_path": "__notebook__.ipynb",
   "output_path": "__notebook__.ipynb",
   "parameters": {},
   "start_time": "2025-08-12T07:11:58.959147",
   "version": "2.6.0"
  }
 },
 "nbformat": 4,
 "nbformat_minor": 5
}
