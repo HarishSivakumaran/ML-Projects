{
 "cells": [
  {
   "cell_type": "code",
   "execution_count": 1,
   "id": "23de06e7",
   "metadata": {
    "_cell_guid": "b1076dfc-b9ad-4769-8c92-a6c4dae69d19",
    "_uuid": "8f2839f25d086af736a60e9eeb907d3b93b6e0e5",
    "execution": {
     "iopub.execute_input": "2025-09-17T08:30:33.385274Z",
     "iopub.status.busy": "2025-09-17T08:30:33.384859Z",
     "iopub.status.idle": "2025-09-17T08:30:39.631861Z",
     "shell.execute_reply": "2025-09-17T08:30:39.630515Z"
    },
    "papermill": {
     "duration": 6.251902,
     "end_time": "2025-09-17T08:30:39.633444",
     "exception": false,
     "start_time": "2025-09-17T08:30:33.381542",
     "status": "completed"
    },
    "tags": []
   },
   "outputs": [
    {
     "name": "stdout",
     "output_type": "stream",
     "text": [
      "tensor([[1665796.5000, 1665301.8750, 1664678.0000,  ..., -332194.6875,\n",
      "         -332341.3125, -332818.8125]])\n",
      "tensor([[1665948., 1665416., 1665012.,  ..., -331708., -332008., -332528.]])\n",
      "tensor(1267.6250)\n"
     ]
    }
   ],
   "source": [
    "# Batch Invariance - cause for non-determinism\n",
    "import torch\n",
    "torch.set_default_device('cpu') \n",
    "\n",
    "B = 2048\n",
    "D = 4096\n",
    "a = torch.linspace(-1000, 1000, B*D).reshape(B, D)\n",
    "b = torch.linspace(-1000, 1000, D*D).reshape(D, D)\n",
    "# Doing a matrix vector multiplication by taking\n",
    "# the first element of the batch\n",
    "out1 = torch.mm(a[:1], b)\n",
    "# Doing a matrix matrix multiplication and then taking\n",
    "# the first element of the batch\n",
    "out2 = torch.mm(a, b)[:1]\n",
    "print(out1)\n",
    "print(out2)\n",
    "\n",
    "print((out1 - out2).abs().max())"
   ]
  },
  {
   "cell_type": "code",
   "execution_count": null,
   "id": "838b0f60",
   "metadata": {
    "papermill": {
     "duration": 0.001465,
     "end_time": "2025-09-17T08:30:39.636778",
     "exception": false,
     "start_time": "2025-09-17T08:30:39.635313",
     "status": "completed"
    },
    "tags": []
   },
   "outputs": [],
   "source": []
  }
 ],
 "metadata": {
  "kaggle": {
   "accelerator": "none",
   "dataSources": [],
   "dockerImageVersionId": 31089,
   "isGpuEnabled": false,
   "isInternetEnabled": true,
   "language": "python",
   "sourceType": "notebook"
  },
  "kernelspec": {
   "display_name": "Python 3",
   "language": "python",
   "name": "python3"
  },
  "language_info": {
   "codemirror_mode": {
    "name": "ipython",
    "version": 3
   },
   "file_extension": ".py",
   "mimetype": "text/x-python",
   "name": "python",
   "nbconvert_exporter": "python",
   "pygments_lexer": "ipython3",
   "version": "3.11.13"
  },
  "papermill": {
   "default_parameters": {},
   "duration": 13.802558,
   "end_time": "2025-09-17T08:30:41.263472",
   "environment_variables": {},
   "exception": null,
   "input_path": "__notebook__.ipynb",
   "output_path": "__notebook__.ipynb",
   "parameters": {},
   "start_time": "2025-09-17T08:30:27.460914",
   "version": "2.6.0"
  }
 },
 "nbformat": 4,
 "nbformat_minor": 5
}
