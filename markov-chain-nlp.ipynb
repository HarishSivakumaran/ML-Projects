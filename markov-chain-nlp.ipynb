{
 "cells": [
  {
   "cell_type": "code",
   "execution_count": 1,
   "id": "ead1428a",
   "metadata": {
    "_cell_guid": "b1076dfc-b9ad-4769-8c92-a6c4dae69d19",
    "_uuid": "8f2839f25d086af736a60e9eeb907d3b93b6e0e5",
    "execution": {
     "iopub.execute_input": "2025-08-16T05:54:41.128505Z",
     "iopub.status.busy": "2025-08-16T05:54:41.128143Z",
     "iopub.status.idle": "2025-08-16T05:54:45.909833Z",
     "shell.execute_reply": "2025-08-16T05:54:45.908743Z"
    },
    "papermill": {
     "duration": 4.787924,
     "end_time": "2025-08-16T05:54:45.911810",
     "exception": false,
     "start_time": "2025-08-16T05:54:41.123886",
     "status": "completed"
    },
    "tags": []
   },
   "outputs": [],
   "source": [
    "import numpy as np\n",
    "import pandas as pd\n",
    "import os\n",
    "import re\n",
    "import random\n",
    "from nltk.tokenize import word_tokenize\n",
    "from nltk.corpus import stopwords\n",
    "import random"
   ]
  },
  {
   "cell_type": "code",
   "execution_count": 2,
   "id": "8aba72b7",
   "metadata": {
    "execution": {
     "iopub.execute_input": "2025-08-16T05:54:45.920795Z",
     "iopub.status.busy": "2025-08-16T05:54:45.919261Z",
     "iopub.status.idle": "2025-08-16T05:54:47.336008Z",
     "shell.execute_reply": "2025-08-16T05:54:47.335122Z"
    },
    "papermill": {
     "duration": 1.42215,
     "end_time": "2025-08-16T05:54:47.337780",
     "exception": false,
     "start_time": "2025-08-16T05:54:45.915630",
     "status": "completed"
    },
    "tags": []
   },
   "outputs": [],
   "source": [
    "story_dir = \"/kaggle/input/sherlock-holmes-stories/sherlock\"\n",
    "txt=[]\n",
    "for _, _, files in os.walk(story_dir):\n",
    "    for file in files:\n",
    "        with open(story_dir+\"/\"+file) as f:\n",
    "            for line in f:\n",
    "                line=line.strip()\n",
    "                if line != '':\n",
    "                    txt.append(line)\n"
   ]
  },
  {
   "cell_type": "code",
   "execution_count": 3,
   "id": "8d50fcd6",
   "metadata": {
    "execution": {
     "iopub.execute_input": "2025-08-16T05:54:47.344223Z",
     "iopub.status.busy": "2025-08-16T05:54:47.343889Z",
     "iopub.status.idle": "2025-08-16T05:55:21.551480Z",
     "shell.execute_reply": "2025-08-16T05:55:21.550418Z"
    },
    "papermill": {
     "duration": 34.212865,
     "end_time": "2025-08-16T05:55:21.553284",
     "exception": false,
     "start_time": "2025-08-16T05:54:47.340419",
     "status": "completed"
    },
    "tags": []
   },
   "outputs": [],
   "source": [
    "cleaned_txt = []\n",
    "for line in txt:\n",
    "    line = line.lower()\n",
    "    line = re.sub(r\"[,.\\\"\\!@#$%^&*(){}?/;`~<>+-\\\\]\",\"\", line)\n",
    "    tokens = word_tokenize(line)\n",
    "    words = [word for word in tokens if word.isalpha()]\n",
    "    cleaned_txt += words"
   ]
  },
  {
   "cell_type": "markdown",
   "id": "a76950e0",
   "metadata": {
    "papermill": {
     "duration": 0.002193,
     "end_time": "2025-08-16T05:55:21.557974",
     "exception": false,
     "start_time": "2025-08-16T05:55:21.555781",
     "status": "completed"
    },
    "tags": []
   },
   "source": [
    "# Markov model"
   ]
  },
  {
   "cell_type": "code",
   "execution_count": 4,
   "id": "34de8f2d",
   "metadata": {
    "execution": {
     "iopub.execute_input": "2025-08-16T05:55:21.563908Z",
     "iopub.status.busy": "2025-08-16T05:55:21.563575Z",
     "iopub.status.idle": "2025-08-16T05:55:21.570779Z",
     "shell.execute_reply": "2025-08-16T05:55:21.569764Z"
    },
    "papermill": {
     "duration": 0.012215,
     "end_time": "2025-08-16T05:55:21.572353",
     "exception": false,
     "start_time": "2025-08-16T05:55:21.560138",
     "status": "completed"
    },
    "tags": []
   },
   "outputs": [],
   "source": [
    "def make_markov_model(cleaned_txt, ngram=2):\n",
    "    markov_model = {}\n",
    "    for j in range(len(cleaned_txt)-ngram-1):\n",
    "        current_word = \" \".join(cleaned_txt[j:j+ngram])\n",
    "        next_word = \" \".join(cleaned_txt[j+ngram:j+ngram+ngram])\n",
    "        if current_word not in markov_model:\n",
    "            markov_model[current_word] = {}\n",
    "            markov_model[current_word][next_word] = 1\n",
    "        else:\n",
    "            if next_word in markov_model[current_word]:\n",
    "                markov_model[current_word][next_word] +=1\n",
    "            else:\n",
    "                markov_model[current_word][next_word] = 1\n",
    "\n",
    "    #calculate transition prob\n",
    "    for curr, transition in markov_model.items():\n",
    "        total = sum(transition.values())\n",
    "        for state, count in transition.items():\n",
    "            markov_model[curr][state] = count/total\n",
    "\n",
    "    return markov_model\n",
    "            \n",
    "    "
   ]
  },
  {
   "cell_type": "code",
   "execution_count": 5,
   "id": "7c48c58c",
   "metadata": {
    "execution": {
     "iopub.execute_input": "2025-08-16T05:55:21.578291Z",
     "iopub.status.busy": "2025-08-16T05:55:21.577923Z",
     "iopub.status.idle": "2025-08-16T05:55:28.297636Z",
     "shell.execute_reply": "2025-08-16T05:55:28.296764Z"
    },
    "papermill": {
     "duration": 6.724614,
     "end_time": "2025-08-16T05:55:28.299396",
     "exception": false,
     "start_time": "2025-08-16T05:55:21.574782",
     "status": "completed"
    },
    "tags": []
   },
   "outputs": [],
   "source": [
    "markov_model = make_markov_model(cleaned_txt)"
   ]
  },
  {
   "cell_type": "code",
   "execution_count": 6,
   "id": "5dfa6789",
   "metadata": {
    "execution": {
     "iopub.execute_input": "2025-08-16T05:55:28.305547Z",
     "iopub.status.busy": "2025-08-16T05:55:28.304976Z",
     "iopub.status.idle": "2025-08-16T05:55:28.310830Z",
     "shell.execute_reply": "2025-08-16T05:55:28.309895Z"
    },
    "papermill": {
     "duration": 0.010544,
     "end_time": "2025-08-16T05:55:28.312414",
     "exception": false,
     "start_time": "2025-08-16T05:55:28.301870",
     "status": "completed"
    },
    "tags": []
   },
   "outputs": [],
   "source": [
    "def generate_story(markov_model, seq_len=100, start=\"my dear\"):\n",
    "    story = \"\"\n",
    "    story += start\n",
    "    curr = start\n",
    "    while seq_len > 0:\n",
    "        next_set = np.random.choice(list(markov_model[curr].keys()), p=list(markov_model[curr].values()))\n",
    "        curr = next_set\n",
    "        story += \" \" + curr \n",
    "        seq_len-=1\n",
    "    return story"
   ]
  },
  {
   "cell_type": "code",
   "execution_count": 7,
   "id": "91a9279d",
   "metadata": {
    "execution": {
     "iopub.execute_input": "2025-08-16T05:55:28.318523Z",
     "iopub.status.busy": "2025-08-16T05:55:28.318163Z",
     "iopub.status.idle": "2025-08-16T05:55:28.330144Z",
     "shell.execute_reply": "2025-08-16T05:55:28.329012Z"
    },
    "papermill": {
     "duration": 0.017057,
     "end_time": "2025-08-16T05:55:28.331957",
     "exception": false,
     "start_time": "2025-08-16T05:55:28.314900",
     "status": "completed"
    },
    "tags": []
   },
   "outputs": [
    {
     "name": "stdout",
     "output_type": "stream",
     "text": [
      "0: dear holmes it is indeed a fearful place the torrent\n",
      "1: dear holmes i have had an unlimited number of stanch\n",
      "2: dear holmes i fear sir said holmes laughing i think\n",
      "3: dear holmes said i possibly not so well but clearly\n",
      "4: dear holmes i have told you that i have not\n",
      "5: dear holmes i thought that were the initials were of\n",
      "6: dear holmes that i should not solve the mystery we\n",
      "7: dear holmes what do you say how could you know\n",
      "8: dear holmes if i am not aware that he is\n",
      "9: dear holmes if i gave you a goodly volume under\n"
     ]
    }
   ],
   "source": [
    "for i in range(10):\n",
    "    print(str(i) + \": \" +generate_story(markov_model, seq_len=4, start=\"dear holmes\"))"
   ]
  },
  {
   "cell_type": "code",
   "execution_count": null,
   "id": "b631a403",
   "metadata": {
    "papermill": {
     "duration": 0.002113,
     "end_time": "2025-08-16T05:55:28.336702",
     "exception": false,
     "start_time": "2025-08-16T05:55:28.334589",
     "status": "completed"
    },
    "tags": []
   },
   "outputs": [],
   "source": []
  }
 ],
 "metadata": {
  "kaggle": {
   "accelerator": "none",
   "dataSources": [
    {
     "datasetId": 5637,
     "sourceId": 8412,
     "sourceType": "datasetVersion"
    }
   ],
   "dockerImageVersionId": 31089,
   "isGpuEnabled": false,
   "isInternetEnabled": true,
   "language": "python",
   "sourceType": "notebook"
  },
  "kernelspec": {
   "display_name": "Python 3",
   "language": "python",
   "name": "python3"
  },
  "language_info": {
   "codemirror_mode": {
    "name": "ipython",
    "version": 3
   },
   "file_extension": ".py",
   "mimetype": "text/x-python",
   "name": "python",
   "nbconvert_exporter": "python",
   "pygments_lexer": "ipython3",
   "version": "3.11.13"
  },
  "papermill": {
   "default_parameters": {},
   "duration": 53.391409,
   "end_time": "2025-08-16T05:55:29.461187",
   "environment_variables": {},
   "exception": null,
   "input_path": "__notebook__.ipynb",
   "output_path": "__notebook__.ipynb",
   "parameters": {},
   "start_time": "2025-08-16T05:54:36.069778",
   "version": "2.6.0"
  }
 },
 "nbformat": 4,
 "nbformat_minor": 5
}
