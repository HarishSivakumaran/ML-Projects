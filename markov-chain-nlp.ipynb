{
 "cells": [
  {
   "cell_type": "code",
   "execution_count": 1,
   "id": "f74674a5",
   "metadata": {
    "_cell_guid": "b1076dfc-b9ad-4769-8c92-a6c4dae69d19",
    "_uuid": "8f2839f25d086af736a60e9eeb907d3b93b6e0e5",
    "execution": {
     "iopub.execute_input": "2025-08-16T08:06:14.470919Z",
     "iopub.status.busy": "2025-08-16T08:06:14.470596Z",
     "iopub.status.idle": "2025-08-16T08:06:18.387258Z",
     "shell.execute_reply": "2025-08-16T08:06:18.386255Z"
    },
    "papermill": {
     "duration": 3.922188,
     "end_time": "2025-08-16T08:06:18.388977",
     "exception": false,
     "start_time": "2025-08-16T08:06:14.466789",
     "status": "completed"
    },
    "tags": []
   },
   "outputs": [],
   "source": [
    "import numpy as np\n",
    "import pandas as pd\n",
    "import os\n",
    "import re\n",
    "import random\n",
    "from nltk.tokenize import word_tokenize\n",
    "from nltk.corpus import stopwords\n",
    "import random"
   ]
  },
  {
   "cell_type": "code",
   "execution_count": 2,
   "id": "df0dc7f0",
   "metadata": {
    "execution": {
     "iopub.execute_input": "2025-08-16T08:06:18.395645Z",
     "iopub.status.busy": "2025-08-16T08:06:18.394807Z",
     "iopub.status.idle": "2025-08-16T08:06:19.524428Z",
     "shell.execute_reply": "2025-08-16T08:06:19.523717Z"
    },
    "papermill": {
     "duration": 1.134175,
     "end_time": "2025-08-16T08:06:19.525998",
     "exception": false,
     "start_time": "2025-08-16T08:06:18.391823",
     "status": "completed"
    },
    "tags": []
   },
   "outputs": [],
   "source": [
    "story_dir = \"/kaggle/input/sherlock-holmes-stories/sherlock\"\n",
    "txt=[]\n",
    "for _, _, files in os.walk(story_dir):\n",
    "    for file in files:\n",
    "        with open(story_dir+\"/\"+file) as f:\n",
    "            for line in f:\n",
    "                line=line.strip()\n",
    "                if line != '':\n",
    "                    txt.append(line)\n"
   ]
  },
  {
   "cell_type": "code",
   "execution_count": 3,
   "id": "90b803c3",
   "metadata": {
    "execution": {
     "iopub.execute_input": "2025-08-16T08:06:19.532633Z",
     "iopub.status.busy": "2025-08-16T08:06:19.531788Z",
     "iopub.status.idle": "2025-08-16T08:06:51.847278Z",
     "shell.execute_reply": "2025-08-16T08:06:51.846066Z"
    },
    "papermill": {
     "duration": 32.320487,
     "end_time": "2025-08-16T08:06:51.849225",
     "exception": false,
     "start_time": "2025-08-16T08:06:19.528738",
     "status": "completed"
    },
    "tags": []
   },
   "outputs": [],
   "source": [
    "cleaned_txt = []\n",
    "for line in txt:\n",
    "    line = line.lower()\n",
    "    line = re.sub(r\"[,.\\\"\\!@#$%^&*(){}?/;`~<>+-\\\\]\",\"\", line)\n",
    "    tokens = word_tokenize(line)\n",
    "    words = [word for word in tokens if word.isalpha()]\n",
    "    cleaned_txt += words"
   ]
  },
  {
   "cell_type": "markdown",
   "id": "d7fec453",
   "metadata": {
    "papermill": {
     "duration": 0.002052,
     "end_time": "2025-08-16T08:06:51.853925",
     "exception": false,
     "start_time": "2025-08-16T08:06:51.851873",
     "status": "completed"
    },
    "tags": []
   },
   "source": [
    "# Markov model"
   ]
  },
  {
   "cell_type": "code",
   "execution_count": 4,
   "id": "7eb8172b",
   "metadata": {
    "execution": {
     "iopub.execute_input": "2025-08-16T08:06:51.859487Z",
     "iopub.status.busy": "2025-08-16T08:06:51.859146Z",
     "iopub.status.idle": "2025-08-16T08:06:51.865847Z",
     "shell.execute_reply": "2025-08-16T08:06:51.865119Z"
    },
    "papermill": {
     "duration": 0.011212,
     "end_time": "2025-08-16T08:06:51.867205",
     "exception": false,
     "start_time": "2025-08-16T08:06:51.855993",
     "status": "completed"
    },
    "tags": []
   },
   "outputs": [],
   "source": [
    "def make_markov_model(cleaned_txt, ngram=2):\n",
    "    markov_model = {}\n",
    "    for j in range(len(cleaned_txt)-ngram-1):\n",
    "        current_word = \" \".join(cleaned_txt[j:j+ngram])\n",
    "        next_word = \" \".join(cleaned_txt[j+ngram:j+ngram+ngram])\n",
    "        if current_word not in markov_model:\n",
    "            markov_model[current_word] = {}\n",
    "            markov_model[current_word][next_word] = 1\n",
    "        else:\n",
    "            if next_word in markov_model[current_word]:\n",
    "                markov_model[current_word][next_word] +=1\n",
    "            else:\n",
    "                markov_model[current_word][next_word] = 1\n",
    "\n",
    "    #calculate transition prob\n",
    "    for curr, transition in markov_model.items():\n",
    "        total = sum(transition.values())\n",
    "        for state, count in transition.items():\n",
    "            markov_model[curr][state] = count/total\n",
    "\n",
    "    return markov_model\n",
    "            \n",
    "    "
   ]
  },
  {
   "cell_type": "code",
   "execution_count": 5,
   "id": "f22e65e0",
   "metadata": {
    "execution": {
     "iopub.execute_input": "2025-08-16T08:06:51.873254Z",
     "iopub.status.busy": "2025-08-16T08:06:51.872279Z",
     "iopub.status.idle": "2025-08-16T08:06:58.289780Z",
     "shell.execute_reply": "2025-08-16T08:06:58.288916Z"
    },
    "papermill": {
     "duration": 6.422001,
     "end_time": "2025-08-16T08:06:58.291478",
     "exception": false,
     "start_time": "2025-08-16T08:06:51.869477",
     "status": "completed"
    },
    "tags": []
   },
   "outputs": [],
   "source": [
    "markov_model = make_markov_model(cleaned_txt)"
   ]
  },
  {
   "cell_type": "code",
   "execution_count": 6,
   "id": "d91bb162",
   "metadata": {
    "execution": {
     "iopub.execute_input": "2025-08-16T08:06:58.297204Z",
     "iopub.status.busy": "2025-08-16T08:06:58.296910Z",
     "iopub.status.idle": "2025-08-16T08:06:58.302183Z",
     "shell.execute_reply": "2025-08-16T08:06:58.301293Z"
    },
    "papermill": {
     "duration": 0.009836,
     "end_time": "2025-08-16T08:06:58.303708",
     "exception": false,
     "start_time": "2025-08-16T08:06:58.293872",
     "status": "completed"
    },
    "tags": []
   },
   "outputs": [],
   "source": [
    "def generate_story(markov_model, seq_len=100, start=\"my dear\"):\n",
    "    story = \"\"\n",
    "    story += start\n",
    "    curr = start\n",
    "    while seq_len > 0:\n",
    "        next_set = np.random.choice(list(markov_model[curr].keys()), p=list(markov_model[curr].values()))\n",
    "        curr = next_set\n",
    "        story += \" \" + curr \n",
    "        seq_len-=1\n",
    "    return story"
   ]
  },
  {
   "cell_type": "code",
   "execution_count": 7,
   "id": "7432156f",
   "metadata": {
    "execution": {
     "iopub.execute_input": "2025-08-16T08:06:58.309216Z",
     "iopub.status.busy": "2025-08-16T08:06:58.308930Z",
     "iopub.status.idle": "2025-08-16T08:06:58.320333Z",
     "shell.execute_reply": "2025-08-16T08:06:58.319381Z"
    },
    "papermill": {
     "duration": 0.016073,
     "end_time": "2025-08-16T08:06:58.322065",
     "exception": false,
     "start_time": "2025-08-16T08:06:58.305992",
     "status": "completed"
    },
    "tags": []
   },
   "outputs": [
    {
     "name": "stdout",
     "output_type": "stream",
     "text": [
      "0: dear holmes if i could only get at the man\n",
      "1: dear holmes what do you mean that your idea what\n",
      "2: dear holmes am i sir he was a bottle of\n",
      "3: dear holmes that i shall have to go out and\n",
      "4: dear holmes oh yes i am convinced that john straker\n",
      "5: dear holmes i exclaimed i could replace it before there\n",
      "6: dear holmes that i conceived the idea of what was\n",
      "7: dear holmes i fear that it has been an understanding\n",
      "8: dear holmes i fear that the papers were in your\n",
      "9: dear holmes i exclaimed and this convenient front window i\n"
     ]
    }
   ],
   "source": [
    "for i in range(10):\n",
    "    print(str(i) + \": \" +generate_story(markov_model, seq_len=4, start=\"dear holmes\"))"
   ]
  },
  {
   "cell_type": "code",
   "execution_count": null,
   "id": "0b158b38",
   "metadata": {
    "papermill": {
     "duration": 0.001931,
     "end_time": "2025-08-16T08:06:58.326422",
     "exception": false,
     "start_time": "2025-08-16T08:06:58.324491",
     "status": "completed"
    },
    "tags": []
   },
   "outputs": [],
   "source": []
  }
 ],
 "metadata": {
  "kaggle": {
   "accelerator": "none",
   "dataSources": [
    {
     "datasetId": 5637,
     "sourceId": 8412,
     "sourceType": "datasetVersion"
    }
   ],
   "dockerImageVersionId": 31089,
   "isGpuEnabled": false,
   "isInternetEnabled": true,
   "language": "python",
   "sourceType": "notebook"
  },
  "kernelspec": {
   "display_name": "Python 3",
   "language": "python",
   "name": "python3"
  },
  "language_info": {
   "codemirror_mode": {
    "name": "ipython",
    "version": 3
   },
   "file_extension": ".py",
   "mimetype": "text/x-python",
   "name": "python",
   "nbconvert_exporter": "python",
   "pygments_lexer": "ipython3",
   "version": "3.11.13"
  },
  "papermill": {
   "default_parameters": {},
   "duration": 49.503351,
   "end_time": "2025-08-16T08:06:59.351198",
   "environment_variables": {},
   "exception": null,
   "input_path": "__notebook__.ipynb",
   "output_path": "__notebook__.ipynb",
   "parameters": {},
   "start_time": "2025-08-16T08:06:09.847847",
   "version": "2.6.0"
  }
 },
 "nbformat": 4,
 "nbformat_minor": 5
}
