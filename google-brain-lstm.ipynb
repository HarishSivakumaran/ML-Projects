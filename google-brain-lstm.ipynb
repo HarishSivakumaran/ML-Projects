{
 "cells": [
  {
   "cell_type": "code",
   "execution_count": 1,
   "id": "41683644",
   "metadata": {
    "_cell_guid": "b1076dfc-b9ad-4769-8c92-a6c4dae69d19",
    "_uuid": "8f2839f25d086af736a60e9eeb907d3b93b6e0e5",
    "execution": {
     "iopub.execute_input": "2025-08-17T07:49:01.560113Z",
     "iopub.status.busy": "2025-08-17T07:49:01.559260Z",
     "iopub.status.idle": "2025-08-17T07:49:05.764358Z",
     "shell.execute_reply": "2025-08-17T07:49:05.763319Z"
    },
    "papermill": {
     "duration": 4.211996,
     "end_time": "2025-08-17T07:49:05.766142",
     "exception": false,
     "start_time": "2025-08-17T07:49:01.554146",
     "status": "completed"
    },
    "tags": []
   },
   "outputs": [],
   "source": [
    "import os\n",
    "import warnings\n",
    "import numpy as np\n",
    "import pandas as pd\n",
    "import seaborn as sns\n",
    "import matplotlib.pyplot as plt\n",
    "\n",
    "from tqdm.notebook import tqdm\n",
    "from collections import Counter\n",
    "\n",
    "warnings.filterwarnings(\"ignore\")\n",
    "NUM_WORKERS = 4"
   ]
  },
  {
   "cell_type": "code",
   "execution_count": 2,
   "id": "bfec845a",
   "metadata": {
    "execution": {
     "iopub.execute_input": "2025-08-17T07:49:05.775394Z",
     "iopub.status.busy": "2025-08-17T07:49:05.774706Z",
     "iopub.status.idle": "2025-08-17T07:49:21.179567Z",
     "shell.execute_reply": "2025-08-17T07:49:21.178712Z"
    },
    "papermill": {
     "duration": 15.411389,
     "end_time": "2025-08-17T07:49:21.181372",
     "exception": false,
     "start_time": "2025-08-17T07:49:05.769983",
     "status": "completed"
    },
    "tags": []
   },
   "outputs": [],
   "source": [
    "DATA_PATH = \"/kaggle/input/ventilator-pressure-prediction/\"\n",
    "\n",
    "sub = pd.read_csv(DATA_PATH + 'sample_submission.csv')\n",
    "df_train = pd.read_csv(DATA_PATH + 'train.csv')\n",
    "df_test = pd.read_csv(DATA_PATH + 'test.csv')"
   ]
  },
  {
   "cell_type": "code",
   "execution_count": 3,
   "id": "d90c6d50",
   "metadata": {
    "execution": {
     "iopub.execute_input": "2025-08-17T07:49:21.189663Z",
     "iopub.status.busy": "2025-08-17T07:49:21.189306Z",
     "iopub.status.idle": "2025-08-17T07:49:21.220101Z",
     "shell.execute_reply": "2025-08-17T07:49:21.219084Z"
    },
    "papermill": {
     "duration": 0.036864,
     "end_time": "2025-08-17T07:49:21.221916",
     "exception": false,
     "start_time": "2025-08-17T07:49:21.185052",
     "status": "completed"
    },
    "tags": []
   },
   "outputs": [
    {
     "name": "stdout",
     "output_type": "stream",
     "text": [
      "6036000\n"
     ]
    },
    {
     "data": {
      "text/html": [
       "<div>\n",
       "<style scoped>\n",
       "    .dataframe tbody tr th:only-of-type {\n",
       "        vertical-align: middle;\n",
       "    }\n",
       "\n",
       "    .dataframe tbody tr th {\n",
       "        vertical-align: top;\n",
       "    }\n",
       "\n",
       "    .dataframe thead th {\n",
       "        text-align: right;\n",
       "    }\n",
       "</style>\n",
       "<table border=\"1\" class=\"dataframe\">\n",
       "  <thead>\n",
       "    <tr style=\"text-align: right;\">\n",
       "      <th></th>\n",
       "      <th>id</th>\n",
       "      <th>breath_id</th>\n",
       "      <th>R</th>\n",
       "      <th>C</th>\n",
       "      <th>time_step</th>\n",
       "      <th>u_in</th>\n",
       "      <th>u_out</th>\n",
       "      <th>pressure</th>\n",
       "    </tr>\n",
       "  </thead>\n",
       "  <tbody>\n",
       "    <tr>\n",
       "      <th>20</th>\n",
       "      <td>21</td>\n",
       "      <td>1</td>\n",
       "      <td>20</td>\n",
       "      <td>50</td>\n",
       "      <td>0.680176</td>\n",
       "      <td>20.701046</td>\n",
       "      <td>0</td>\n",
       "      <td>19.335504</td>\n",
       "    </tr>\n",
       "    <tr>\n",
       "      <th>21</th>\n",
       "      <td>22</td>\n",
       "      <td>1</td>\n",
       "      <td>20</td>\n",
       "      <td>50</td>\n",
       "      <td>0.715327</td>\n",
       "      <td>20.843610</td>\n",
       "      <td>0</td>\n",
       "      <td>18.491878</td>\n",
       "    </tr>\n",
       "    <tr>\n",
       "      <th>22</th>\n",
       "      <td>23</td>\n",
       "      <td>1</td>\n",
       "      <td>20</td>\n",
       "      <td>50</td>\n",
       "      <td>0.749344</td>\n",
       "      <td>20.269191</td>\n",
       "      <td>0</td>\n",
       "      <td>18.562180</td>\n",
       "    </tr>\n",
       "    <tr>\n",
       "      <th>23</th>\n",
       "      <td>24</td>\n",
       "      <td>1</td>\n",
       "      <td>20</td>\n",
       "      <td>50</td>\n",
       "      <td>0.783241</td>\n",
       "      <td>19.693681</td>\n",
       "      <td>0</td>\n",
       "      <td>18.632482</td>\n",
       "    </tr>\n",
       "    <tr>\n",
       "      <th>24</th>\n",
       "      <td>25</td>\n",
       "      <td>1</td>\n",
       "      <td>20</td>\n",
       "      <td>50</td>\n",
       "      <td>0.817397</td>\n",
       "      <td>18.927285</td>\n",
       "      <td>0</td>\n",
       "      <td>18.843389</td>\n",
       "    </tr>\n",
       "    <tr>\n",
       "      <th>25</th>\n",
       "      <td>26</td>\n",
       "      <td>1</td>\n",
       "      <td>20</td>\n",
       "      <td>50</td>\n",
       "      <td>0.851411</td>\n",
       "      <td>18.093826</td>\n",
       "      <td>0</td>\n",
       "      <td>19.054295</td>\n",
       "    </tr>\n",
       "    <tr>\n",
       "      <th>26</th>\n",
       "      <td>27</td>\n",
       "      <td>1</td>\n",
       "      <td>20</td>\n",
       "      <td>50</td>\n",
       "      <td>0.885488</td>\n",
       "      <td>17.193955</td>\n",
       "      <td>0</td>\n",
       "      <td>19.265201</td>\n",
       "    </tr>\n",
       "    <tr>\n",
       "      <th>27</th>\n",
       "      <td>28</td>\n",
       "      <td>1</td>\n",
       "      <td>20</td>\n",
       "      <td>50</td>\n",
       "      <td>0.919468</td>\n",
       "      <td>16.419253</td>\n",
       "      <td>0</td>\n",
       "      <td>19.335504</td>\n",
       "    </tr>\n",
       "    <tr>\n",
       "      <th>28</th>\n",
       "      <td>29</td>\n",
       "      <td>1</td>\n",
       "      <td>20</td>\n",
       "      <td>50</td>\n",
       "      <td>0.953547</td>\n",
       "      <td>15.744684</td>\n",
       "      <td>0</td>\n",
       "      <td>19.335504</td>\n",
       "    </tr>\n",
       "    <tr>\n",
       "      <th>29</th>\n",
       "      <td>30</td>\n",
       "      <td>1</td>\n",
       "      <td>20</td>\n",
       "      <td>50</td>\n",
       "      <td>0.987487</td>\n",
       "      <td>14.931596</td>\n",
       "      <td>0</td>\n",
       "      <td>19.476108</td>\n",
       "    </tr>\n",
       "    <tr>\n",
       "      <th>30</th>\n",
       "      <td>31</td>\n",
       "      <td>1</td>\n",
       "      <td>20</td>\n",
       "      <td>50</td>\n",
       "      <td>1.021298</td>\n",
       "      <td>0.000000</td>\n",
       "      <td>1</td>\n",
       "      <td>19.546410</td>\n",
       "    </tr>\n",
       "    <tr>\n",
       "      <th>31</th>\n",
       "      <td>32</td>\n",
       "      <td>1</td>\n",
       "      <td>20</td>\n",
       "      <td>50</td>\n",
       "      <td>1.055426</td>\n",
       "      <td>0.000000</td>\n",
       "      <td>1</td>\n",
       "      <td>17.015533</td>\n",
       "    </tr>\n",
       "    <tr>\n",
       "      <th>32</th>\n",
       "      <td>33</td>\n",
       "      <td>1</td>\n",
       "      <td>20</td>\n",
       "      <td>50</td>\n",
       "      <td>1.089404</td>\n",
       "      <td>0.000000</td>\n",
       "      <td>1</td>\n",
       "      <td>9.563505</td>\n",
       "    </tr>\n",
       "    <tr>\n",
       "      <th>33</th>\n",
       "      <td>34</td>\n",
       "      <td>1</td>\n",
       "      <td>20</td>\n",
       "      <td>50</td>\n",
       "      <td>1.123387</td>\n",
       "      <td>0.000000</td>\n",
       "      <td>1</td>\n",
       "      <td>7.876254</td>\n",
       "    </tr>\n",
       "    <tr>\n",
       "      <th>34</th>\n",
       "      <td>35</td>\n",
       "      <td>1</td>\n",
       "      <td>20</td>\n",
       "      <td>50</td>\n",
       "      <td>1.157591</td>\n",
       "      <td>0.000000</td>\n",
       "      <td>1</td>\n",
       "      <td>8.649578</td>\n",
       "    </tr>\n",
       "    <tr>\n",
       "      <th>35</th>\n",
       "      <td>36</td>\n",
       "      <td>1</td>\n",
       "      <td>20</td>\n",
       "      <td>50</td>\n",
       "      <td>1.191510</td>\n",
       "      <td>0.000000</td>\n",
       "      <td>1</td>\n",
       "      <td>7.595045</td>\n",
       "    </tr>\n",
       "    <tr>\n",
       "      <th>36</th>\n",
       "      <td>37</td>\n",
       "      <td>1</td>\n",
       "      <td>20</td>\n",
       "      <td>50</td>\n",
       "      <td>1.225571</td>\n",
       "      <td>0.000000</td>\n",
       "      <td>1</td>\n",
       "      <td>7.665347</td>\n",
       "    </tr>\n",
       "    <tr>\n",
       "      <th>37</th>\n",
       "      <td>38</td>\n",
       "      <td>1</td>\n",
       "      <td>20</td>\n",
       "      <td>50</td>\n",
       "      <td>1.259531</td>\n",
       "      <td>0.000000</td>\n",
       "      <td>1</td>\n",
       "      <td>8.298067</td>\n",
       "    </tr>\n",
       "    <tr>\n",
       "      <th>38</th>\n",
       "      <td>39</td>\n",
       "      <td>1</td>\n",
       "      <td>20</td>\n",
       "      <td>50</td>\n",
       "      <td>1.293622</td>\n",
       "      <td>0.000000</td>\n",
       "      <td>1</td>\n",
       "      <td>7.243535</td>\n",
       "    </tr>\n",
       "    <tr>\n",
       "      <th>39</th>\n",
       "      <td>40</td>\n",
       "      <td>1</td>\n",
       "      <td>20</td>\n",
       "      <td>50</td>\n",
       "      <td>1.327631</td>\n",
       "      <td>0.000000</td>\n",
       "      <td>1</td>\n",
       "      <td>7.946556</td>\n",
       "    </tr>\n",
       "  </tbody>\n",
       "</table>\n",
       "</div>"
      ],
      "text/plain": [
       "    id  breath_id   R   C  time_step       u_in  u_out   pressure\n",
       "20  21          1  20  50   0.680176  20.701046      0  19.335504\n",
       "21  22          1  20  50   0.715327  20.843610      0  18.491878\n",
       "22  23          1  20  50   0.749344  20.269191      0  18.562180\n",
       "23  24          1  20  50   0.783241  19.693681      0  18.632482\n",
       "24  25          1  20  50   0.817397  18.927285      0  18.843389\n",
       "25  26          1  20  50   0.851411  18.093826      0  19.054295\n",
       "26  27          1  20  50   0.885488  17.193955      0  19.265201\n",
       "27  28          1  20  50   0.919468  16.419253      0  19.335504\n",
       "28  29          1  20  50   0.953547  15.744684      0  19.335504\n",
       "29  30          1  20  50   0.987487  14.931596      0  19.476108\n",
       "30  31          1  20  50   1.021298   0.000000      1  19.546410\n",
       "31  32          1  20  50   1.055426   0.000000      1  17.015533\n",
       "32  33          1  20  50   1.089404   0.000000      1   9.563505\n",
       "33  34          1  20  50   1.123387   0.000000      1   7.876254\n",
       "34  35          1  20  50   1.157591   0.000000      1   8.649578\n",
       "35  36          1  20  50   1.191510   0.000000      1   7.595045\n",
       "36  37          1  20  50   1.225571   0.000000      1   7.665347\n",
       "37  38          1  20  50   1.259531   0.000000      1   8.298067\n",
       "38  39          1  20  50   1.293622   0.000000      1   7.243535\n",
       "39  40          1  20  50   1.327631   0.000000      1   7.946556"
      ]
     },
     "execution_count": 3,
     "metadata": {},
     "output_type": "execute_result"
    }
   ],
   "source": [
    "print(len(df_train))\n",
    "df_train[20:40]"
   ]
  },
  {
   "cell_type": "code",
   "execution_count": 4,
   "id": "5f04c188",
   "metadata": {
    "execution": {
     "iopub.execute_input": "2025-08-17T07:49:21.230698Z",
     "iopub.status.busy": "2025-08-17T07:49:21.230357Z",
     "iopub.status.idle": "2025-08-17T07:49:21.241725Z",
     "shell.execute_reply": "2025-08-17T07:49:21.240504Z"
    },
    "papermill": {
     "duration": 0.017568,
     "end_time": "2025-08-17T07:49:21.243309",
     "exception": false,
     "start_time": "2025-08-17T07:49:21.225741",
     "status": "completed"
    },
    "tags": []
   },
   "outputs": [
    {
     "data": {
      "text/html": [
       "<div>\n",
       "<style scoped>\n",
       "    .dataframe tbody tr th:only-of-type {\n",
       "        vertical-align: middle;\n",
       "    }\n",
       "\n",
       "    .dataframe tbody tr th {\n",
       "        vertical-align: top;\n",
       "    }\n",
       "\n",
       "    .dataframe thead th {\n",
       "        text-align: right;\n",
       "    }\n",
       "</style>\n",
       "<table border=\"1\" class=\"dataframe\">\n",
       "  <thead>\n",
       "    <tr style=\"text-align: right;\">\n",
       "      <th></th>\n",
       "      <th>id</th>\n",
       "      <th>breath_id</th>\n",
       "      <th>R</th>\n",
       "      <th>C</th>\n",
       "      <th>time_step</th>\n",
       "      <th>u_in</th>\n",
       "      <th>u_out</th>\n",
       "    </tr>\n",
       "  </thead>\n",
       "  <tbody>\n",
       "    <tr>\n",
       "      <th>0</th>\n",
       "      <td>1</td>\n",
       "      <td>0</td>\n",
       "      <td>5</td>\n",
       "      <td>20</td>\n",
       "      <td>0.000000</td>\n",
       "      <td>0.000000</td>\n",
       "      <td>0</td>\n",
       "    </tr>\n",
       "    <tr>\n",
       "      <th>1</th>\n",
       "      <td>2</td>\n",
       "      <td>0</td>\n",
       "      <td>5</td>\n",
       "      <td>20</td>\n",
       "      <td>0.031904</td>\n",
       "      <td>7.515046</td>\n",
       "      <td>0</td>\n",
       "    </tr>\n",
       "    <tr>\n",
       "      <th>2</th>\n",
       "      <td>3</td>\n",
       "      <td>0</td>\n",
       "      <td>5</td>\n",
       "      <td>20</td>\n",
       "      <td>0.063827</td>\n",
       "      <td>14.651675</td>\n",
       "      <td>0</td>\n",
       "    </tr>\n",
       "    <tr>\n",
       "      <th>3</th>\n",
       "      <td>4</td>\n",
       "      <td>0</td>\n",
       "      <td>5</td>\n",
       "      <td>20</td>\n",
       "      <td>0.095751</td>\n",
       "      <td>21.230610</td>\n",
       "      <td>0</td>\n",
       "    </tr>\n",
       "    <tr>\n",
       "      <th>4</th>\n",
       "      <td>5</td>\n",
       "      <td>0</td>\n",
       "      <td>5</td>\n",
       "      <td>20</td>\n",
       "      <td>0.127644</td>\n",
       "      <td>26.320956</td>\n",
       "      <td>0</td>\n",
       "    </tr>\n",
       "  </tbody>\n",
       "</table>\n",
       "</div>"
      ],
      "text/plain": [
       "   id  breath_id  R   C  time_step       u_in  u_out\n",
       "0   1          0  5  20   0.000000   0.000000      0\n",
       "1   2          0  5  20   0.031904   7.515046      0\n",
       "2   3          0  5  20   0.063827  14.651675      0\n",
       "3   4          0  5  20   0.095751  21.230610      0\n",
       "4   5          0  5  20   0.127644  26.320956      0"
      ]
     },
     "execution_count": 4,
     "metadata": {},
     "output_type": "execute_result"
    }
   ],
   "source": [
    "df_test.head()"
   ]
  },
  {
   "cell_type": "code",
   "execution_count": 5,
   "id": "96559247",
   "metadata": {
    "execution": {
     "iopub.execute_input": "2025-08-17T07:49:21.252430Z",
     "iopub.status.busy": "2025-08-17T07:49:21.252139Z",
     "iopub.status.idle": "2025-08-17T07:49:21.307862Z",
     "shell.execute_reply": "2025-08-17T07:49:21.306636Z"
    },
    "papermill": {
     "duration": 0.0628,
     "end_time": "2025-08-17T07:49:21.309903",
     "exception": false,
     "start_time": "2025-08-17T07:49:21.247103",
     "status": "completed"
    },
    "tags": []
   },
   "outputs": [
    {
     "data": {
      "text/plain": [
       "array([     1,      2,      3, ..., 125743, 125745, 125749])"
      ]
     },
     "execution_count": 5,
     "metadata": {},
     "output_type": "execute_result"
    }
   ],
   "source": [
    "df_train[\"breath_id\"].unique()"
   ]
  },
  {
   "cell_type": "code",
   "execution_count": 6,
   "id": "f337404f",
   "metadata": {
    "execution": {
     "iopub.execute_input": "2025-08-17T07:49:21.319540Z",
     "iopub.status.busy": "2025-08-17T07:49:21.319188Z",
     "iopub.status.idle": "2025-08-17T07:49:21.325469Z",
     "shell.execute_reply": "2025-08-17T07:49:21.324495Z"
    },
    "papermill": {
     "duration": 0.013139,
     "end_time": "2025-08-17T07:49:21.327254",
     "exception": false,
     "start_time": "2025-08-17T07:49:21.314115",
     "status": "completed"
    },
    "tags": []
   },
   "outputs": [],
   "source": [
    "def plot_data(df, breath_id):\n",
    "    df_breath = df[df[\"breath_id\"] == breath_id]\n",
    "    r, c = df_breath[[\"R\", \"C\"]].values[0]\n",
    "    plt.figure(figsize=(12, 4))\n",
    "    for col in [\"u_in\", \"u_out\", \"pressure\"]:\n",
    "        plt.plot(df_breath['time_step'], df_breath[col], label=col)\n",
    "    plt.legend()\n",
    "    plt.title(f'breath_id: {breath_id} R: {r} C: {c}')"
   ]
  },
  {
   "cell_type": "code",
   "execution_count": 7,
   "id": "e890f59d",
   "metadata": {
    "execution": {
     "iopub.execute_input": "2025-08-17T07:49:21.336863Z",
     "iopub.status.busy": "2025-08-17T07:49:21.336447Z",
     "iopub.status.idle": "2025-08-17T07:49:21.803612Z",
     "shell.execute_reply": "2025-08-17T07:49:21.802601Z"
    },
    "papermill": {
     "duration": 0.474269,
     "end_time": "2025-08-17T07:49:21.805483",
     "exception": false,
     "start_time": "2025-08-17T07:49:21.331214",
     "status": "completed"
    },
    "tags": []
   },
   "outputs": [
    {
     "data": {
      "image/png": "[encoded data removed]",
      "text/plain": [
       "<Figure size 1200x400 with 1 Axes>"
      ]
     },
     "metadata": {},
     "output_type": "display_data"
    }
   ],
   "source": [
    "plot_data(df_train , 1)"
   ]
  },
  {
   "cell_type": "code",
   "execution_count": 8,
   "id": "73337ace",
   "metadata": {
    "execution": {
     "iopub.execute_input": "2025-08-17T07:49:21.817062Z",
     "iopub.status.busy": "2025-08-17T07:49:21.816720Z",
     "iopub.status.idle": "2025-08-17T07:49:26.799466Z",
     "shell.execute_reply": "2025-08-17T07:49:26.798345Z"
    },
    "papermill": {
     "duration": 4.990931,
     "end_time": "2025-08-17T07:49:26.801322",
     "exception": false,
     "start_time": "2025-08-17T07:49:21.810391",
     "status": "completed"
    },
    "tags": []
   },
   "outputs": [],
   "source": [
    "import torch\n",
    "from torch.utils.data import Dataset\n",
    "\n",
    "class VentilatorDataset(Dataset):\n",
    "    def __init__(self, df):\n",
    "        super().__init__()\n",
    "        self.df = df.groupby(\"breath_id\").agg(list).reset_index()\n",
    "        self.prepare_data()\n",
    "\n",
    "    def __len__(self):\n",
    "        return self.df.shape[0]\n",
    "        \n",
    "    def prepare_data(self):\n",
    "        self.pressures = np.array(self.df['pressure'].values.tolist())\n",
    "        rs = np.array(self.df['R'].values.tolist())\n",
    "        cs = np.array(self.df['C'].values.tolist())\n",
    "        u_ins = np.array(self.df['u_in'].values.tolist())\n",
    "        self.u_outs = np.array(self.df['u_out'].values.tolist())\n",
    "        \n",
    "        self.inputs = np.concatenate([\n",
    "            rs[:, None], \n",
    "            cs[:, None], \n",
    "            u_ins[:, None], \n",
    "            np.cumsum(u_ins, 1)[:, None],\n",
    "            self.u_outs[:, None]\n",
    "        ], 1).transpose(0, 2, 1)\n",
    "\n",
    "    def __getitem__(self, idx):\n",
    "        data = {\n",
    "            \"input\": torch.tensor(self.inputs[idx], dtype=torch.float),\n",
    "            \"u_out\": torch.tensor(self.u_outs[idx], dtype=torch.float),\n",
    "            \"p\": torch.tensor(self.pressures[idx], dtype=torch.float),\n",
    "        }\n",
    "        \n",
    "        return data"
   ]
  },
  {
   "cell_type": "code",
   "execution_count": 9,
   "id": "6caa10ce",
   "metadata": {
    "execution": {
     "iopub.execute_input": "2025-08-17T07:49:26.812856Z",
     "iopub.status.busy": "2025-08-17T07:49:26.812251Z",
     "iopub.status.idle": "2025-08-17T07:49:43.714999Z",
     "shell.execute_reply": "2025-08-17T07:49:43.714073Z"
    },
    "papermill": {
     "duration": 16.910188,
     "end_time": "2025-08-17T07:49:43.716434",
     "exception": false,
     "start_time": "2025-08-17T07:49:26.806246",
     "status": "completed"
    },
    "tags": []
   },
   "outputs": [
    {
     "name": "stdout",
     "output_type": "stream",
     "text": [
      "torch.Size([80, 5])\n"
     ]
    },
    {
     "data": {
      "text/plain": [
       "{'input': tensor([[2.0000e+01, 5.0000e+01, 8.3334e-02, 8.3334e-02, 0.0000e+00],\n",
       "         [2.0000e+01, 5.0000e+01, 1.8383e+01, 1.8466e+01, 0.0000e+00],\n",
       "         [2.0000e+01, 5.0000e+01, 2.2509e+01, 4.0976e+01, 0.0000e+00],\n",
       "         [2.0000e+01, 5.0000e+01, 2.2809e+01, 6.3784e+01, 0.0000e+00],\n",
       "         [2.0000e+01, 5.0000e+01, 2.5356e+01, 8.9140e+01, 0.0000e+00],\n",
       "         [2.0000e+01, 5.0000e+01, 2.7260e+01, 1.1640e+02, 0.0000e+00],\n",
       "         [2.0000e+01, 5.0000e+01, 2.7127e+01, 1.4353e+02, 0.0000e+00],\n",
       "         [2.0000e+01, 5.0000e+01, 2.6808e+01, 1.7034e+02, 0.0000e+00],\n",
       "         [2.0000e+01, 5.0000e+01, 2.7865e+01, 1.9820e+02, 0.0000e+00],\n",
       "         [2.0000e+01, 5.0000e+01, 2.8313e+01, 2.2651e+02, 0.0000e+00],\n",
       "         [2.0000e+01, 5.0000e+01, 2.6867e+01, 2.5338e+02, 0.0000e+00],\n",
       "         [2.0000e+01, 5.0000e+01, 2.6763e+01, 2.8014e+02, 0.0000e+00],\n",
       "         [2.0000e+01, 5.0000e+01, 2.7993e+01, 3.0814e+02, 0.0000e+00],\n",
       "         [2.0000e+01, 5.0000e+01, 2.6790e+01, 3.3493e+02, 0.0000e+00],\n",
       "         [2.0000e+01, 5.0000e+01, 2.5634e+01, 3.6056e+02, 0.0000e+00],\n",
       "         [2.0000e+01, 5.0000e+01, 2.6280e+01, 3.8684e+02, 0.0000e+00],\n",
       "         [2.0000e+01, 5.0000e+01, 2.4727e+01, 4.1157e+02, 0.0000e+00],\n",
       "         [2.0000e+01, 5.0000e+01, 2.3468e+01, 4.3503e+02, 0.0000e+00],\n",
       "         [2.0000e+01, 5.0000e+01, 2.3858e+01, 4.5889e+02, 0.0000e+00],\n",
       "         [2.0000e+01, 5.0000e+01, 2.1883e+01, 4.8078e+02, 0.0000e+00],\n",
       "         [2.0000e+01, 5.0000e+01, 2.0701e+01, 5.0148e+02, 0.0000e+00],\n",
       "         [2.0000e+01, 5.0000e+01, 2.0844e+01, 5.2232e+02, 0.0000e+00],\n",
       "         [2.0000e+01, 5.0000e+01, 2.0269e+01, 5.4259e+02, 0.0000e+00],\n",
       "         [2.0000e+01, 5.0000e+01, 1.9694e+01, 5.6228e+02, 0.0000e+00],\n",
       "         [2.0000e+01, 5.0000e+01, 1.8927e+01, 5.8121e+02, 0.0000e+00],\n",
       "         [2.0000e+01, 5.0000e+01, 1.8094e+01, 5.9931e+02, 0.0000e+00],\n",
       "         [2.0000e+01, 5.0000e+01, 1.7194e+01, 6.1650e+02, 0.0000e+00],\n",
       "         [2.0000e+01, 5.0000e+01, 1.6419e+01, 6.3292e+02, 0.0000e+00],\n",
       "         [2.0000e+01, 5.0000e+01, 1.5745e+01, 6.4866e+02, 0.0000e+00],\n",
       "         [2.0000e+01, 5.0000e+01, 1.4932e+01, 6.6359e+02, 0.0000e+00],\n",
       "         [2.0000e+01, 5.0000e+01, 0.0000e+00, 6.6359e+02, 1.0000e+00],\n",
       "         [2.0000e+01, 5.0000e+01, 0.0000e+00, 6.6359e+02, 1.0000e+00],\n",
       "         [2.0000e+01, 5.0000e+01, 0.0000e+00, 6.6359e+02, 1.0000e+00],\n",
       "         [2.0000e+01, 5.0000e+01, 0.0000e+00, 6.6359e+02, 1.0000e+00],\n",
       "         [2.0000e+01, 5.0000e+01, 0.0000e+00, 6.6359e+02, 1.0000e+00],\n",
       "         [2.0000e+01, 5.0000e+01, 0.0000e+00, 6.6359e+02, 1.0000e+00],\n",
       "         [2.0000e+01, 5.0000e+01, 0.0000e+00, 6.6359e+02, 1.0000e+00],\n",
       "         [2.0000e+01, 5.0000e+01, 0.0000e+00, 6.6359e+02, 1.0000e+00],\n",
       "         [2.0000e+01, 5.0000e+01, 0.0000e+00, 6.6359e+02, 1.0000e+00],\n",
       "         [2.0000e+01, 5.0000e+01, 0.0000e+00, 6.6359e+02, 1.0000e+00],\n",
       "         [2.0000e+01, 5.0000e+01, 0.0000e+00, 6.6359e+02, 1.0000e+00],\n",
       "         [2.0000e+01, 5.0000e+01, 0.0000e+00, 6.6359e+02, 1.0000e+00],\n",
       "         [2.0000e+01, 5.0000e+01, 0.0000e+00, 6.6359e+02, 1.0000e+00],\n",
       "         [2.0000e+01, 5.0000e+01, 0.0000e+00, 6.6359e+02, 1.0000e+00],\n",
       "         [2.0000e+01, 5.0000e+01, 0.0000e+00, 6.6359e+02, 1.0000e+00],\n",
       "         [2.0000e+01, 5.0000e+01, 7.7922e-01, 6.6437e+02, 1.0000e+00],\n",
       "         [2.0000e+01, 5.0000e+01, 1.4390e+00, 6.6581e+02, 1.0000e+00],\n",
       "         [2.0000e+01, 5.0000e+01, 1.9942e+00, 6.6781e+02, 1.0000e+00],\n",
       "         [2.0000e+01, 5.0000e+01, 2.4672e+00, 6.7027e+02, 1.0000e+00],\n",
       "         [2.0000e+01, 5.0000e+01, 2.8634e+00, 6.7314e+02, 1.0000e+00],\n",
       "         [2.0000e+01, 5.0000e+01, 3.1978e+00, 6.7634e+02, 1.0000e+00],\n",
       "         [2.0000e+01, 5.0000e+01, 3.4784e+00, 6.7981e+02, 1.0000e+00],\n",
       "         [2.0000e+01, 5.0000e+01, 3.7164e+00, 6.8353e+02, 1.0000e+00],\n",
       "         [2.0000e+01, 5.0000e+01, 3.9168e+00, 6.8745e+02, 1.0000e+00],\n",
       "         [2.0000e+01, 5.0000e+01, 4.0863e+00, 6.9153e+02, 1.0000e+00],\n",
       "         [2.0000e+01, 5.0000e+01, 4.2287e+00, 6.9576e+02, 1.0000e+00],\n",
       "         [2.0000e+01, 5.0000e+01, 4.3494e+00, 7.0011e+02, 1.0000e+00],\n",
       "         [2.0000e+01, 5.0000e+01, 4.4512e+00, 7.0456e+02, 1.0000e+00],\n",
       "         [2.0000e+01, 5.0000e+01, 4.5370e+00, 7.0910e+02, 1.0000e+00],\n",
       "         [2.0000e+01, 5.0000e+01, 4.6095e+00, 7.1371e+02, 1.0000e+00],\n",
       "         [2.0000e+01, 5.0000e+01, 4.6708e+00, 7.1838e+02, 1.0000e+00],\n",
       "         [2.0000e+01, 5.0000e+01, 4.7227e+00, 7.2310e+02, 1.0000e+00],\n",
       "         [2.0000e+01, 5.0000e+01, 4.7661e+00, 7.2787e+02, 1.0000e+00],\n",
       "         [2.0000e+01, 5.0000e+01, 4.8029e+00, 7.3267e+02, 1.0000e+00],\n",
       "         [2.0000e+01, 5.0000e+01, 4.8337e+00, 7.3751e+02, 1.0000e+00],\n",
       "         [2.0000e+01, 5.0000e+01, 4.8598e+00, 7.4237e+02, 1.0000e+00],\n",
       "         [2.0000e+01, 5.0000e+01, 4.8818e+00, 7.4725e+02, 1.0000e+00],\n",
       "         [2.0000e+01, 5.0000e+01, 4.9004e+00, 7.5215e+02, 1.0000e+00],\n",
       "         [2.0000e+01, 5.0000e+01, 4.9160e+00, 7.5706e+02, 1.0000e+00],\n",
       "         [2.0000e+01, 5.0000e+01, 4.9292e+00, 7.6199e+02, 1.0000e+00],\n",
       "         [2.0000e+01, 5.0000e+01, 4.9402e+00, 7.6693e+02, 1.0000e+00],\n",
       "         [2.0000e+01, 5.0000e+01, 4.9496e+00, 7.7188e+02, 1.0000e+00],\n",
       "         [2.0000e+01, 5.0000e+01, 4.9575e+00, 7.7684e+02, 1.0000e+00],\n",
       "         [2.0000e+01, 5.0000e+01, 4.9641e+00, 7.8180e+02, 1.0000e+00],\n",
       "         [2.0000e+01, 5.0000e+01, 4.9697e+00, 7.8677e+02, 1.0000e+00],\n",
       "         [2.0000e+01, 5.0000e+01, 4.9745e+00, 7.9175e+02, 1.0000e+00],\n",
       "         [2.0000e+01, 5.0000e+01, 4.9785e+00, 7.9673e+02, 1.0000e+00],\n",
       "         [2.0000e+01, 5.0000e+01, 4.9818e+00, 8.0171e+02, 1.0000e+00],\n",
       "         [2.0000e+01, 5.0000e+01, 4.9847e+00, 8.0669e+02, 1.0000e+00],\n",
       "         [2.0000e+01, 5.0000e+01, 4.9871e+00, 8.1168e+02, 1.0000e+00]]),\n",
       " 'u_out': tensor([0., 0., 0., 0., 0., 0., 0., 0., 0., 0., 0., 0., 0., 0., 0., 0., 0., 0.,\n",
       "         0., 0., 0., 0., 0., 0., 0., 0., 0., 0., 0., 0., 1., 1., 1., 1., 1., 1.,\n",
       "         1., 1., 1., 1., 1., 1., 1., 1., 1., 1., 1., 1., 1., 1., 1., 1., 1., 1.,\n",
       "         1., 1., 1., 1., 1., 1., 1., 1., 1., 1., 1., 1., 1., 1., 1., 1., 1., 1.,\n",
       "         1., 1., 1., 1., 1., 1., 1., 1.]),\n",
       " 'p': tensor([ 5.8375,  5.9078,  7.8763, 11.7429, 12.2350, 12.8677, 14.6956, 15.8907,\n",
       "         15.5392, 15.7501, 17.2967, 17.2264, 16.1719, 17.3670, 18.0701, 17.1561,\n",
       "         18.2810, 18.7731, 17.8592, 19.1246, 19.3355, 18.4919, 18.5622, 18.6325,\n",
       "         18.8434, 19.0543, 19.2652, 19.3355, 19.3355, 19.4761, 19.5464, 17.0155,\n",
       "          9.5635,  7.8763,  8.6496,  7.5950,  7.6653,  8.2981,  7.2435,  7.9466,\n",
       "          7.5950,  7.4544,  8.1575,  6.8217,  7.1732,  7.5247,  6.9623,  7.4544,\n",
       "          7.5950,  7.1732,  7.7356,  7.2435,  7.5950,  7.3841,  7.2435,  7.7356,\n",
       "          7.5247,  6.9623,  7.1029,  7.3138,  6.1187,  7.0326,  6.8217,  6.5405,\n",
       "          6.9623,  6.8217,  6.5405,  6.8217,  6.8217,  6.3999,  6.7514,  6.5405,\n",
       "          6.3999,  6.7514,  6.4702,  6.3999,  6.6108,  6.3296,  6.5405,  6.4702])}"
      ]
     },
     "execution_count": 9,
     "metadata": {},
     "output_type": "execute_result"
    }
   ],
   "source": [
    "dataset = VentilatorDataset(df_train)\n",
    "print(dataset[0][\"input\"].shape)\n",
    "dataset[0]"
   ]
  },
  {
   "cell_type": "code",
   "execution_count": 10,
   "id": "5e76fa54",
   "metadata": {
    "execution": {
     "iopub.execute_input": "2025-08-17T07:49:43.727682Z",
     "iopub.status.busy": "2025-08-17T07:49:43.727240Z",
     "iopub.status.idle": "2025-08-17T07:49:43.735700Z",
     "shell.execute_reply": "2025-08-17T07:49:43.734948Z"
    },
    "papermill": {
     "duration": 0.015669,
     "end_time": "2025-08-17T07:49:43.737115",
     "exception": false,
     "start_time": "2025-08-17T07:49:43.721446",
     "status": "completed"
    },
    "tags": []
   },
   "outputs": [
    {
     "name": "stdout",
     "output_type": "stream",
     "text": [
      "[array([0, 1, 2, 3, 4, 5, 6, 7, 8, 9])]\n"
     ]
    },
    {
     "data": {
      "text/plain": [
       "array([[ 0,  1,  2,  3,  4,  5,  6,  7,  8,  9],\n",
       "       [ 0,  2,  4,  6,  8, 10, 12, 14, 16, 18],\n",
       "       [ 0,  3,  6,  9, 12, 15, 18, 21, 24, 27],\n",
       "       [ 0,  4,  8, 12, 16, 20, 24, 28, 32, 36]])"
      ]
     },
     "execution_count": 10,
     "metadata": {},
     "output_type": "execute_result"
    }
   ],
   "source": [
    "a = [np.arange(10)]\n",
    "b = [np.arange(10) * 2] \n",
    "c = [np.arange(10) * 3]\n",
    "d = [np.arange(10) * 4]\n",
    "\n",
    "print(a)\n",
    "e = np.concatenate([\n",
    "    a,b,c,d\n",
    "],0)\n",
    "e"
   ]
  },
  {
   "cell_type": "code",
   "execution_count": 11,
   "id": "68f585a0",
   "metadata": {
    "execution": {
     "iopub.execute_input": "2025-08-17T07:49:43.749155Z",
     "iopub.status.busy": "2025-08-17T07:49:43.748811Z",
     "iopub.status.idle": "2025-08-17T07:49:43.755391Z",
     "shell.execute_reply": "2025-08-17T07:49:43.754480Z"
    },
    "papermill": {
     "duration": 0.01409,
     "end_time": "2025-08-17T07:49:43.757011",
     "exception": false,
     "start_time": "2025-08-17T07:49:43.742921",
     "status": "completed"
    },
    "tags": []
   },
   "outputs": [
    {
     "data": {
      "text/plain": [
       "array([[ 0,  0,  0,  0],\n",
       "       [ 1,  2,  3,  4],\n",
       "       [ 2,  4,  6,  8],\n",
       "       [ 3,  6,  9, 12],\n",
       "       [ 4,  8, 12, 16],\n",
       "       [ 5, 10, 15, 20],\n",
       "       [ 6, 12, 18, 24],\n",
       "       [ 7, 14, 21, 28],\n",
       "       [ 8, 16, 24, 32],\n",
       "       [ 9, 18, 27, 36]])"
      ]
     },
     "execution_count": 11,
     "metadata": {},
     "output_type": "execute_result"
    }
   ],
   "source": [
    "e.transpose(1, 0)"
   ]
  },
  {
   "cell_type": "markdown",
   "id": "e1251371",
   "metadata": {
    "papermill": {
     "duration": 0.004986,
     "end_time": "2025-08-17T07:49:43.767030",
     "exception": false,
     "start_time": "2025-08-17T07:49:43.762044",
     "status": "completed"
    },
    "tags": []
   },
   "source": [
    "# LSTM"
   ]
  },
  {
   "cell_type": "code",
   "execution_count": 12,
   "id": "168f9e99",
   "metadata": {
    "execution": {
     "iopub.execute_input": "2025-08-17T07:49:43.779709Z",
     "iopub.status.busy": "2025-08-17T07:49:43.779300Z",
     "iopub.status.idle": "2025-08-17T07:49:43.792112Z",
     "shell.execute_reply": "2025-08-17T07:49:43.791131Z"
    },
    "papermill": {
     "duration": 0.021815,
     "end_time": "2025-08-17T07:49:43.794132",
     "exception": false,
     "start_time": "2025-08-17T07:49:43.772317",
     "status": "completed"
    },
    "tags": []
   },
   "outputs": [],
   "source": [
    "import torch\n",
    "import torch.nn as nn\n",
    "import math\n",
    "\n",
    "\n",
    "class LSTM(nn.Module):\n",
    "    def __init__(self, input_dim, output_dim):\n",
    "        super().__init__()\n",
    "        self.output_dim = output_dim\n",
    "        # Update gate\n",
    "        self.w_ux = nn.Parameter(torch.Tensor(input_dim, output_dim)) \n",
    "        self.w_ua = nn.Parameter(torch.Tensor(output_dim, output_dim)) \n",
    "        self.b_u = nn.Parameter(torch.Tensor(output_dim, 1))\n",
    "\n",
    "        # Forget gate\n",
    "        self.w_fx = nn.Parameter(torch.Tensor(input_dim, output_dim)) \n",
    "        self.w_fa = nn.Parameter(torch.Tensor(output_dim, output_dim)) \n",
    "        self.b_f = nn.Parameter(torch.Tensor(output_dim, 1))\n",
    "\n",
    "        # Output gate\n",
    "        self.w_ox = nn.Parameter(torch.Tensor(input_dim, output_dim)) \n",
    "        self.w_oa = nn.Parameter(torch.Tensor(output_dim, output_dim)) \n",
    "        self.b_o = nn.Parameter(torch.Tensor(output_dim, 1))\n",
    "\n",
    "        # Potential next candidate\n",
    "        self.w_cx = nn.Parameter(torch.Tensor(input_dim, output_dim)) \n",
    "        self.w_ca = nn.Parameter(torch.Tensor(output_dim, output_dim)) \n",
    "        self.b_c = nn.Parameter(torch.Tensor(output_dim, 1))\n",
    "\n",
    "        # Initialize parameters for better performance\n",
    "        self.reset_parameters()\n",
    "\n",
    "    def reset_parameters(self):\n",
    "        # A common way to initialize weights, similar to what nn.Linear does\n",
    "        stdv = 1.0 / math.sqrt(self.output_dim)\n",
    "        for weight in self.parameters():\n",
    "            nn.init.uniform_(weight, -stdv, stdv)\n",
    "\n",
    "    def forward(self, X):\n",
    "        seq_len = X.shape[0]\n",
    "        hidden_candidate_state = torch.zeros((seq_len, self.output_dim, 1))\n",
    "        hidden_activation_state = torch.zeros((seq_len, self.output_dim, 1))\n",
    "        curr_candidate = torch.zeros((self.output_dim, 1))\n",
    "        curr_activation = torch.zeros((self.output_dim, 1))\n",
    "        for i in range(seq_len):\n",
    "            curr_input = X[i]\n",
    "            update_gate = torch.sigmoid((self.w_ux.T @ curr_input) + (self.w_ua.T @ curr_activation) + self.b_u)\n",
    "            output_gate = torch.sigmoid((self.w_ox.T @ curr_input) + (self.w_oa.T @ curr_activation) + self.b_o)\n",
    "            forget_gate = torch.sigmoid((self.w_fx.T @ curr_input) + (self.w_fa.T @ curr_activation) + self.b_f)\n",
    "\n",
    "            potential_new_candidate = torch.tanh((self.w_cx.T @ curr_input) + (self.w_ca.T @ curr_activation) + self.b_u)\n",
    "            next_candidate = (update_gate * potential_new_candidate) + (forget_gate * curr_candidate)\n",
    "            next_activation = output_gate * torch.tanh(next_candidate)\n",
    "            hidden_candidate_state[i] = next_candidate\n",
    "            hidden_activation_state[i] = next_activation\n",
    "            curr_candidate = next_candidate\n",
    "            curr_activation = next_activation\n",
    "\n",
    "        return hidden_activation_state\n",
    "            \n",
    "        \n"
   ]
  },
  {
   "cell_type": "code",
   "execution_count": 13,
   "id": "a6772800",
   "metadata": {
    "execution": {
     "iopub.execute_input": "2025-08-17T07:49:43.805491Z",
     "iopub.status.busy": "2025-08-17T07:49:43.805083Z",
     "iopub.status.idle": "2025-08-17T07:49:43.851890Z",
     "shell.execute_reply": "2025-08-17T07:49:43.851001Z"
    },
    "papermill": {
     "duration": 0.054188,
     "end_time": "2025-08-17T07:49:43.853487",
     "exception": false,
     "start_time": "2025-08-17T07:49:43.799299",
     "status": "completed"
    },
    "tags": []
   },
   "outputs": [
    {
     "data": {
      "text/plain": [
       "torch.Size([5, 20, 1])"
      ]
     },
     "execution_count": 13,
     "metadata": {},
     "output_type": "execute_result"
    }
   ],
   "source": [
    "lstm = LSTM(10, 20)\n",
    "a = torch.randn(5,10, 1)\n",
    "lstm(a).shape"
   ]
  },
  {
   "cell_type": "code",
   "execution_count": null,
   "id": "db4c388a",
   "metadata": {
    "papermill": {
     "duration": 0.005006,
     "end_time": "2025-08-17T07:49:43.864169",
     "exception": false,
     "start_time": "2025-08-17T07:49:43.859163",
     "status": "completed"
    },
    "tags": []
   },
   "outputs": [],
   "source": []
  }
 ],
 "metadata": {
  "kaggle": {
   "accelerator": "none",
   "dataSources": [
    {
     "databundleVersionId": 2408861,
     "sourceId": 29594,
     "sourceType": "competition"
    }
   ],
   "dockerImageVersionId": 31089,
   "isGpuEnabled": false,
   "isInternetEnabled": true,
   "language": "python",
   "sourceType": "notebook"
  },
  "kernelspec": {
   "display_name": "Python 3",
   "language": "python",
   "name": "python3"
  },
  "language_info": {
   "codemirror_mode": {
    "name": "ipython",
    "version": 3
   },
   "file_extension": ".py",
   "mimetype": "text/x-python",
   "name": "python",
   "nbconvert_exporter": "python",
   "pygments_lexer": "ipython3",
   "version": "3.11.13"
  },
  "papermill": {
   "default_parameters": {},
   "duration": 50.061875,
   "end_time": "2025-08-17T07:49:46.589892",
   "environment_variables": {},
   "exception": null,
   "input_path": "__notebook__.ipynb",
   "output_path": "__notebook__.ipynb",
   "parameters": {},
   "start_time": "2025-08-17T07:48:56.528017",
   "version": "2.6.0"
  }
 },
 "nbformat": 4,
 "nbformat_minor": 5
}
